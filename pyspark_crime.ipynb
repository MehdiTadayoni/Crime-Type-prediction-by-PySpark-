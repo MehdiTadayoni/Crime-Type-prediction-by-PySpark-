{
  "nbformat": 4,
  "nbformat_minor": 0,
  "metadata": {
    "colab": {
      "name": "pyspark_crime.ipynb",
      "provenance": [],
      "collapsed_sections": [],
      "toc_visible": true
    },
    "kernelspec": {
      "display_name": "Python 3",
      "name": "python3"
    },
    "language_info": {
      "name": "python"
    }
  },
  "cells": [
    {
      "cell_type": "code",
      "metadata": {
        "id": "Qz4dTwPAX0rV"
      },
      "source": [
        "import datetime\n",
        "import numpy as np\n",
        "import pandas as pd\n",
        "import seaborn as sns\n",
        "import matplotlib.pyplot as plt\n",
        "from pyspark.sql import Row, SparkSession\n",
        "from pyspark.sql.functions import *\n",
        "from pyspark.sql.types import DateType\n",
        "from pyspark.sql.functions import to_timestamp,col,lit\n"
      ],
      "execution_count": 6,
      "outputs": []
    },
    {
      "cell_type": "code",
      "metadata": {
        "colab": {
          "base_uri": "https://localhost:8080/"
        },
        "id": "EHcQUpPHP-VW",
        "outputId": "5b82ba10-964c-4d47-9b05-fa1f87c47a85"
      },
      "source": [
        "! ls"
      ],
      "execution_count": 1,
      "outputs": [
        {
          "output_type": "stream",
          "text": [
            "sample_data\n"
          ],
          "name": "stdout"
        }
      ]
    },
    {
      "cell_type": "code",
      "metadata": {
        "colab": {
          "base_uri": "https://localhost:8080/"
        },
        "id": "uoQX4APG8B89",
        "outputId": "58113492-80c5-44de-cab8-f4b34c3bf6ee"
      },
      "source": [
        "!apt-get update\n",
        "!apt-get install openjdk-8-jdk-headless -qq > /dev/null\n",
        "!wget -q http://archive.apache.org/dist/spark/spark-2.3.1/spark-2.3.1-bin-hadoop2.7.tgz\n",
        "!tar xf spark-2.3.1-bin-hadoop2.7.tgz\n",
        "!pip install -q findspark"
      ],
      "execution_count": 4,
      "outputs": [
        {
          "output_type": "stream",
          "text": [
            "\r0% [Working]\r            \rGet:1 http://ppa.launchpad.net/c2d4u.team/c2d4u4.0+/ubuntu bionic InRelease [15.9 kB]\n",
            "\r0% [Waiting for headers] [Connecting to security.ubuntu.com (91.189.91.38)] [Co\r0% [Waiting for headers] [Connecting to security.ubuntu.com (91.189.91.38)] [Co\r                                                                               \rHit:2 http://archive.ubuntu.com/ubuntu bionic InRelease\n",
            "\r                                                                               \rGet:3 http://archive.ubuntu.com/ubuntu bionic-updates InRelease [88.7 kB]\n",
            "\r0% [3 InRelease 15.6 kB/88.7 kB 18%] [Connecting to security.ubuntu.com (91.189\r0% [1 InRelease gpgv 15.9 kB] [3 InRelease 15.6 kB/88.7 kB 18%] [Connecting to \r                                                                               \rHit:4 http://ppa.launchpad.net/cran/libgit2/ubuntu bionic InRelease\n",
            "\r0% [1 InRelease gpgv 15.9 kB] [3 InRelease 30.1 kB/88.7 kB 34%] [Connecting to \r                                                                               \rGet:5 https://cloud.r-project.org/bin/linux/ubuntu bionic-cran40/ InRelease [3,626 B]\n",
            "\r0% [1 InRelease gpgv 15.9 kB] [3 InRelease 69.2 kB/88.7 kB 78%] [Connecting to \r0% [1 InRelease gpgv 15.9 kB] [3 InRelease 75.0 kB/88.7 kB 85%] [Connecting to \r0% [1 InRelease gpgv 15.9 kB] [Connecting to security.ubuntu.com (91.189.91.38)\r                                                                               \rHit:6 http://ppa.launchpad.net/deadsnakes/ppa/ubuntu bionic InRelease\n",
            "\r0% [1 InRelease gpgv 15.9 kB] [Waiting for headers] [Connecting to security.ubu\r                                                                               \rGet:7 http://archive.ubuntu.com/ubuntu bionic-backports InRelease [74.6 kB]\n",
            "\r0% [1 InRelease gpgv 15.9 kB] [7 InRelease 20.0 kB/74.6 kB 27%] [Connecting to \r0% [1 InRelease gpgv 15.9 kB] [Waiting for headers] [Connecting to ppa.launchpa\r                                                                               \rGet:8 http://ppa.launchpad.net/graphics-drivers/ppa/ubuntu bionic InRelease [21.3 kB]\n",
            "Get:9 http://security.ubuntu.com/ubuntu bionic-security InRelease [88.7 kB]\n",
            "Ign:10 https://developer.download.nvidia.com/compute/cuda/repos/ubuntu1804/x86_64  InRelease\n",
            "Get:11 http://ppa.launchpad.net/c2d4u.team/c2d4u4.0+/ubuntu bionic/main Sources [1,765 kB]\n",
            "Ign:12 https://developer.download.nvidia.com/compute/machine-learning/repos/ubuntu1804/x86_64  InRelease\n",
            "Get:13 https://developer.download.nvidia.com/compute/cuda/repos/ubuntu1804/x86_64  Release [697 B]\n",
            "Hit:14 https://developer.download.nvidia.com/compute/machine-learning/repos/ubuntu1804/x86_64  Release\n",
            "Get:15 https://developer.download.nvidia.com/compute/cuda/repos/ubuntu1804/x86_64  Release.gpg [836 B]\n",
            "Get:16 http://ppa.launchpad.net/c2d4u.team/c2d4u4.0+/ubuntu bionic/main amd64 Packages [903 kB]\n",
            "Get:17 https://cloud.r-project.org/bin/linux/ubuntu bionic-cran40/ Packages [56.8 kB]\n",
            "Get:18 http://archive.ubuntu.com/ubuntu bionic-updates/main amd64 Packages [2,582 kB]\n",
            "Get:19 http://archive.ubuntu.com/ubuntu bionic-updates/universe amd64 Packages [2,183 kB]\n",
            "Get:20 http://archive.ubuntu.com/ubuntu bionic-updates/restricted amd64 Packages [452 kB]\n",
            "Get:21 http://ppa.launchpad.net/graphics-drivers/ppa/ubuntu bionic/main amd64 Packages [41.5 kB]\n",
            "Ign:23 https://developer.download.nvidia.com/compute/cuda/repos/ubuntu1804/x86_64  Packages\n",
            "Get:23 https://developer.download.nvidia.com/compute/cuda/repos/ubuntu1804/x86_64  Packages [772 kB]\n",
            "Get:24 http://security.ubuntu.com/ubuntu bionic-security/universe amd64 Packages [1,411 kB]\n",
            "Get:25 http://security.ubuntu.com/ubuntu bionic-security/main amd64 Packages [2,150 kB]\n",
            "Get:26 http://security.ubuntu.com/ubuntu bionic-security/restricted amd64 Packages [423 kB]\n",
            "Fetched 13.0 MB in 3s (4,663 kB/s)\n",
            "Reading package lists... Done\n"
          ],
          "name": "stdout"
        }
      ]
    },
    {
      "cell_type": "code",
      "metadata": {
        "colab": {
          "base_uri": "https://localhost:8080/",
          "height": 216
        },
        "id": "Boa5VQo18MRl",
        "outputId": "77d73fda-48fe-44b9-a565-6514f5d9cff9"
      },
      "source": [
        "import os\n",
        "os.environ[\"JAVA_HOME\"] = \"/usr/lib/jvm/java-8-openjdk-amd64\"\n",
        "os.environ[\"SPARK_HOME\"] = \"/content/spark-2.3.1-bin-hadoop2.7\"\n",
        "\n",
        "import findspark\n",
        "findspark.init()\n",
        "from pyspark import SparkContext\n",
        "sc = SparkContext.getOrCreate()\n",
        "\n",
        "import pyspark\n",
        "from pyspark.sql import SparkSession\n",
        "spark = SparkSession.builder.getOrCreate() \n",
        "spark"
      ],
      "execution_count": 5,
      "outputs": [
        {
          "output_type": "execute_result",
          "data": {
            "text/html": [
              "\n",
              "            <div>\n",
              "                <p><b>SparkSession - in-memory</b></p>\n",
              "                \n",
              "        <div>\n",
              "            <p><b>SparkContext</b></p>\n",
              "\n",
              "            <p><a href=\"http://83268f23649c:4040\">Spark UI</a></p>\n",
              "\n",
              "            <dl>\n",
              "              <dt>Version</dt>\n",
              "                <dd><code>v2.3.1</code></dd>\n",
              "              <dt>Master</dt>\n",
              "                <dd><code>local[*]</code></dd>\n",
              "              <dt>AppName</dt>\n",
              "                <dd><code>pyspark-shell</code></dd>\n",
              "            </dl>\n",
              "        </div>\n",
              "        \n",
              "            </div>\n",
              "        "
            ],
            "text/plain": [
              "<pyspark.sql.session.SparkSession at 0x7fa7316c7fd0>"
            ]
          },
          "metadata": {
            "tags": []
          },
          "execution_count": 5
        }
      ]
    },
    {
      "cell_type": "code",
      "metadata": {
        "colab": {
          "base_uri": "https://localhost:8080/"
        },
        "id": "CNhd28hF8chm",
        "outputId": "d19a32d9-7e89-4bdc-c907-91743af9d8ef"
      },
      "source": [
        "!wget https://data.cityofchicago.org/api/views/ijzp-q8t2/rows.csv?accessType=DOWNLOAD"
      ],
      "execution_count": 7,
      "outputs": [
        {
          "output_type": "stream",
          "text": [
            "--2021-05-16 05:53:52--  https://data.cityofchicago.org/api/views/ijzp-q8t2/rows.csv?accessType=DOWNLOAD\n",
            "Resolving data.cityofchicago.org (data.cityofchicago.org)... 52.206.140.199, 52.206.140.205, 52.206.68.26\n",
            "Connecting to data.cityofchicago.org (data.cityofchicago.org)|52.206.140.199|:443... connected.\n",
            "HTTP request sent, awaiting response... 200 OK\n",
            "Length: unspecified [text/csv]\n",
            "Saving to: ‘rows.csv?accessType=DOWNLOAD’\n",
            "\n",
            "rows.csv?accessType     [     <=>            ]   1.61G  3.33MB/s    in 9m 53s  \n",
            "\n",
            "2021-05-16 06:03:45 (2.78 MB/s) - ‘rows.csv?accessType=DOWNLOAD’ saved [1728000926]\n",
            "\n"
          ],
          "name": "stdout"
        }
      ]
    },
    {
      "cell_type": "code",
      "metadata": {
        "id": "AO-xxJdC8iWl"
      },
      "source": [
        "!mv rows.csv\\?accessType\\=DOWNLOAD crimeData.csv"
      ],
      "execution_count": 8,
      "outputs": []
    },
    {
      "cell_type": "code",
      "metadata": {
        "colab": {
          "base_uri": "https://localhost:8080/"
        },
        "id": "SSajJALxT8p3",
        "outputId": "7305a66f-ab50-4888-979f-97623e585a00"
      },
      "source": [
        "from pyspark.sql.functions import to_timestamp,col,lit\n",
        "dfa = spark.read.csv('crimeData.csv',header=True).withColumn('Date',to_timestamp(col('Date'),'MM/dd/yyyy hh:mm:ss a'))\n",
        "dfa.show(5)\n",
        "dfa.count()"
      ],
      "execution_count": 9,
      "outputs": [
        {
          "output_type": "stream",
          "text": [
            "+--------+-----------+-------------------+--------------------+----+------------+--------------------+--------------------+------+--------+----+--------+----+--------------+--------+------------+------------+----+--------------------+------------+-------------+--------------------+\n",
            "|      ID|Case Number|               Date|               Block|IUCR|Primary Type|         Description|Location Description|Arrest|Domestic|Beat|District|Ward|Community Area|FBI Code|X Coordinate|Y Coordinate|Year|          Updated On|    Latitude|    Longitude|            Location|\n",
            "+--------+-----------+-------------------+--------------------+----+------------+--------------------+--------------------+------+--------+----+--------+----+--------------+--------+------------+------------+----+--------------------+------------+-------------+--------------------+\n",
            "|10224738|   HY411648|2015-09-05 13:30:00|     043XX S WOOD ST|0486|     BATTERY|DOMESTIC BATTERY ...|           RESIDENCE| false|    true|0924|     009|  12|            61|     08B|     1165074|     1875917|2015|02/10/2018 03:50:...|41.815117282|-87.669999562|(41.815117282, -8...|\n",
            "|10224739|   HY411615|2015-09-04 11:30:00| 008XX N CENTRAL AVE|0870|       THEFT|      POCKET-PICKING|             CTA BUS| false|   false|1511|     015|  29|            25|      06|     1138875|     1904869|2015|02/10/2018 03:50:...|41.895080471|-87.765400451|(41.895080471, -8...|\n",
            "|11646166|   JC213529|2018-09-01 00:01:00|082XX S INGLESIDE...|0810|       THEFT|           OVER $500|           RESIDENCE| false|    true|0631|     006|   8|            44|      06|        null|        null|2018|04/06/2019 04:04:...|        null|         null|                null|\n",
            "|10224740|   HY411595|2015-09-05 12:45:00|   035XX W BARRY AVE|2023|   NARCOTICS|POSS: HEROIN(BRN/...|            SIDEWALK|  true|   false|1412|     014|  35|            21|      18|     1152037|     1920384|2015|02/10/2018 03:50:...|41.937405765|-87.716649687|(41.937405765, -8...|\n",
            "|10224741|   HY411610|2015-09-05 13:00:00| 0000X N LARAMIE AVE|0560|     ASSAULT|              SIMPLE|           APARTMENT| false|    true|1522|     015|  28|            25|     08A|     1141706|     1900086|2015|02/10/2018 03:50:...|41.881903443|-87.755121152|(41.881903443, -8...|\n",
            "+--------+-----------+-------------------+--------------------+----+------------+--------------------+--------------------+------+--------+----+--------+----+--------------+--------+------------+------------+----+--------------------+------------+-------------+--------------------+\n",
            "only showing top 5 rows\n",
            "\n"
          ],
          "name": "stdout"
        },
        {
          "output_type": "execute_result",
          "data": {
            "text/plain": [
              "7323343"
            ]
          },
          "metadata": {
            "tags": []
          },
          "execution_count": 9
        }
      ]
    },
    {
      "cell_type": "code",
      "metadata": {
        "colab": {
          "base_uri": "https://localhost:8080/"
        },
        "id": "fkXWC0Lu_sLY",
        "outputId": "c5fbde10-f870-4a2e-ef71-fb7c1b755680"
      },
      "source": [
        "from pyspark.sql.functions import to_timestamp,col,lit\n",
        "#dft = spark.read.csv('crimeData.csv',header=True).withColumn('Date',to_timestamp(col('Date'),'MM/dd/yyyy hh:mm:ss a')).filter(col('Date') > lit('2010-11-11'))\n",
        "df.show(5)\n",
        "df.count()"
      ],
      "execution_count": null,
      "outputs": [
        {
          "output_type": "stream",
          "text": [
            "+--------+-----------+-------------------+--------------------+----+------------+--------------------+--------------------+------+--------+----+--------+----+--------------+--------+------------+------------+----+--------------------+------------+-------------+--------------------+\n",
            "|      ID|Case Number|               Date|               Block|IUCR|Primary Type|         Description|Location Description|Arrest|Domestic|Beat|District|Ward|Community Area|FBI Code|X Coordinate|Y Coordinate|Year|          Updated On|    Latitude|    Longitude|            Location|\n",
            "+--------+-----------+-------------------+--------------------+----+------------+--------------------+--------------------+------+--------+----+--------+----+--------------+--------+------------+------------+----+--------------------+------------+-------------+--------------------+\n",
            "|10224738|   HY411648|2015-09-05 13:30:00|     043XX S WOOD ST|0486|     BATTERY|DOMESTIC BATTERY ...|           RESIDENCE| false|    true|0924|     009|  12|            61|     08B|     1165074|     1875917|2015|02/10/2018 03:50:...|41.815117282|-87.669999562|(41.815117282, -8...|\n",
            "|10224739|   HY411615|2015-09-04 11:30:00| 008XX N CENTRAL AVE|0870|       THEFT|      POCKET-PICKING|             CTA BUS| false|   false|1511|     015|  29|            25|      06|     1138875|     1904869|2015|02/10/2018 03:50:...|41.895080471|-87.765400451|(41.895080471, -8...|\n",
            "|11646166|   JC213529|2018-09-01 00:01:00|082XX S INGLESIDE...|0810|       THEFT|           OVER $500|           RESIDENCE| false|    true|0631|     006|   8|            44|      06|        null|        null|2018|04/06/2019 04:04:...|        null|         null|                null|\n",
            "|10224740|   HY411595|2015-09-05 12:45:00|   035XX W BARRY AVE|2023|   NARCOTICS|POSS: HEROIN(BRN/...|            SIDEWALK|  true|   false|1412|     014|  35|            21|      18|     1152037|     1920384|2015|02/10/2018 03:50:...|41.937405765|-87.716649687|(41.937405765, -8...|\n",
            "|10224741|   HY411610|2015-09-05 13:00:00| 0000X N LARAMIE AVE|0560|     ASSAULT|              SIMPLE|           APARTMENT| false|    true|1522|     015|  28|            25|     08A|     1141706|     1900086|2015|02/10/2018 03:50:...|41.881903443|-87.755121152|(41.881903443, -8...|\n",
            "+--------+-----------+-------------------+--------------------+----+------------+--------------------+--------------------+------+--------+----+--------+----+--------------+--------+------------+------------+----+--------------------+------------+-------------+--------------------+\n",
            "only showing top 5 rows\n",
            "\n"
          ],
          "name": "stdout"
        },
        {
          "output_type": "execute_result",
          "data": {
            "text/plain": [
              "2918339"
            ]
          },
          "metadata": {
            "tags": []
          },
          "execution_count": 44
        }
      ]
    },
    {
      "cell_type": "code",
      "metadata": {
        "colab": {
          "base_uri": "https://localhost:8080/"
        },
        "id": "O3RwDCfi_1HX",
        "outputId": "14881850-812d-46fc-8250-d96a61ff11a2"
      },
      "source": [
        "!ls"
      ],
      "execution_count": null,
      "outputs": [
        {
          "output_type": "stream",
          "text": [
            "sample_data\n"
          ],
          "name": "stdout"
        }
      ]
    },
    {
      "cell_type": "code",
      "metadata": {
        "colab": {
          "base_uri": "https://localhost:8080/"
        },
        "id": "H8G8Qv9YAzF2",
        "outputId": "a84e8b6a-33d6-4e47-b0ac-8fb02d8785e4"
      },
      "source": [
        "df.dtypes"
      ],
      "execution_count": null,
      "outputs": [
        {
          "output_type": "execute_result",
          "data": {
            "text/plain": [
              "[('ID', 'string'),\n",
              " ('Case Number', 'string'),\n",
              " ('Date', 'timestamp'),\n",
              " ('Block', 'string'),\n",
              " ('IUCR', 'string'),\n",
              " ('Primary Type', 'string'),\n",
              " ('Description', 'string'),\n",
              " ('Location Description', 'string'),\n",
              " ('Arrest', 'string'),\n",
              " ('Domestic', 'string'),\n",
              " ('Beat', 'string'),\n",
              " ('District', 'string'),\n",
              " ('Ward', 'string'),\n",
              " ('Community Area', 'string'),\n",
              " ('FBI Code', 'string'),\n",
              " ('X Coordinate', 'string'),\n",
              " ('Y Coordinate', 'string'),\n",
              " ('Year', 'string'),\n",
              " ('Updated On', 'string'),\n",
              " ('Latitude', 'string'),\n",
              " ('Longitude', 'string'),\n",
              " ('Location', 'string')]"
            ]
          },
          "metadata": {
            "tags": []
          },
          "execution_count": 8
        }
      ]
    },
    {
      "cell_type": "code",
      "metadata": {
        "colab": {
          "base_uri": "https://localhost:8080/"
        },
        "id": "vBzZ900rBC8-",
        "outputId": "4fbff936-e0d1-4466-c24b-79a5e6384986"
      },
      "source": [
        "df.printSchema()"
      ],
      "execution_count": null,
      "outputs": [
        {
          "output_type": "stream",
          "text": [
            "root\n",
            " |-- ID: string (nullable = true)\n",
            " |-- Case Number: string (nullable = true)\n",
            " |-- Date: timestamp (nullable = true)\n",
            " |-- Block: string (nullable = true)\n",
            " |-- IUCR: string (nullable = true)\n",
            " |-- Primary Type: string (nullable = true)\n",
            " |-- Description: string (nullable = true)\n",
            " |-- Location Description: string (nullable = true)\n",
            " |-- Arrest: string (nullable = true)\n",
            " |-- Domestic: string (nullable = true)\n",
            " |-- Beat: string (nullable = true)\n",
            " |-- District: string (nullable = true)\n",
            " |-- Ward: string (nullable = true)\n",
            " |-- Community Area: string (nullable = true)\n",
            " |-- FBI Code: string (nullable = true)\n",
            " |-- X Coordinate: string (nullable = true)\n",
            " |-- Y Coordinate: string (nullable = true)\n",
            " |-- Year: string (nullable = true)\n",
            " |-- Updated On: string (nullable = true)\n",
            " |-- Latitude: string (nullable = true)\n",
            " |-- Longitude: string (nullable = true)\n",
            " |-- Location: string (nullable = true)\n",
            "\n"
          ],
          "name": "stdout"
        }
      ]
    },
    {
      "cell_type": "code",
      "metadata": {
        "id": "_k3A3uXEMBQ1"
      },
      "source": [
        "# Let's import in the relevant types.\n",
        "from pyspark.sql.types import StructField,StringType,IntegerType,StructType"
      ],
      "execution_count": null,
      "outputs": []
    },
    {
      "cell_type": "code",
      "metadata": {
        "id": "zfFHJSuuZQNX"
      },
      "source": [
        "from pyspark.sql.types import StructField\n",
        "from pyspark.sql.types import StructType\n",
        "from pyspark.sql.types import DoubleType\n",
        "from pyspark.sql.types import TimestampType\n",
        "from pyspark.sql.types import BooleanType\n"
      ],
      "execution_count": null,
      "outputs": []
    },
    {
      "cell_type": "code",
      "metadata": {
        "colab": {
          "base_uri": "https://localhost:8080/"
        },
        "id": "eTxuBIu_SHHg",
        "outputId": "8d9f71ae-b391-4b27-a05b-b09f39db1f2d"
      },
      "source": [
        "df.columns"
      ],
      "execution_count": null,
      "outputs": [
        {
          "output_type": "execute_result",
          "data": {
            "text/plain": [
              "['ID',\n",
              " 'Case Number',\n",
              " 'Date',\n",
              " 'Block',\n",
              " 'IUCR',\n",
              " 'Primary Type',\n",
              " 'Description',\n",
              " 'Location Description',\n",
              " 'Arrest',\n",
              " 'Domestic',\n",
              " 'Beat',\n",
              " 'District',\n",
              " 'Ward',\n",
              " 'Community Area',\n",
              " 'FBI Code',\n",
              " 'X Coordinate',\n",
              " 'Y Coordinate',\n",
              " 'Year',\n",
              " 'Updated On',\n",
              " 'Latitude',\n",
              " 'Longitude',\n",
              " 'Location']"
            ]
          },
          "metadata": {
            "tags": []
          },
          "execution_count": 32
        }
      ]
    },
    {
      "cell_type": "code",
      "metadata": {
        "id": "NHgcvdgQSRW_"
      },
      "source": [
        "data_schema= [StructField('ID', StringType(),True), \n",
        "              StructField('Case Number', StringType(),True),\n",
        "              StructField('Date',TimestampType(),True),\n",
        "              StructField('Block', StringType(),True),\n",
        "              StructField('IUCR', StringType(),True),\n",
        "              StructField('Primary Type', StringType(),True),\n",
        "              StructField('Description', StringType(),True),\n",
        "              StructField('Location Description', StringType(),True),\n",
        "              StructField('Arrest', StringType(),True),\n",
        "              StructField('Domestic', BooleanType(),True),\n",
        "              StructField('Beat', StringType(),True),\n",
        "              StructField('District', StringType(),True),\n",
        "              StructField('Ward', StringType(),True),\n",
        "              StructField('Community Area', StringType(),True),\n",
        "              StructField('FBI Code', StringType(),True),\n",
        "              StructField('X Coordinate', StringType(),True),\n",
        "              StructField('Y Coordinate', StringType(),True),\n",
        "              StructField('Year', IntegerType(),True),\n",
        "              StructField('Updated On', StringType(),True),\n",
        "              StructField('Latitude', DoubleType(),True),\n",
        "              StructField('Longitude', DoubleType(),True),\n",
        "              StructField('Location', StringType(),True)]\n",
        "final_struct = StructType(fields=data_schema)"
      ],
      "execution_count": null,
      "outputs": []
    },
    {
      "cell_type": "code",
      "metadata": {
        "colab": {
          "base_uri": "https://localhost:8080/"
        },
        "id": "sUeJQP6YeQZG",
        "outputId": "0e266212-89a3-43d2-9bf7-ebc5b2a37241"
      },
      "source": [
        "df.select('IUCR','Case Number','Date').show(5)"
      ],
      "execution_count": null,
      "outputs": [
        {
          "output_type": "stream",
          "text": [
            "+----+-----------+-------------------+\n",
            "|IUCR|Case Number|               Date|\n",
            "+----+-----------+-------------------+\n",
            "|0486|   HY411648|2015-09-05 13:30:00|\n",
            "|0870|   HY411615|2015-09-04 11:30:00|\n",
            "|0810|   JC213529|2018-09-01 00:01:00|\n",
            "|2023|   HY411595|2015-09-05 12:45:00|\n",
            "|0560|   HY411610|2015-09-05 13:00:00|\n",
            "+----+-----------+-------------------+\n",
            "only showing top 5 rows\n",
            "\n"
          ],
          "name": "stdout"
        }
      ]
    },
    {
      "cell_type": "code",
      "metadata": {
        "id": "X2ScgQTGdJAE",
        "colab": {
          "base_uri": "https://localhost:8080/",
          "height": 198
        },
        "outputId": "075445d6-9543-47e6-ee56-6bda5e60fe18"
      },
      "source": [
        "\n",
        "from pyspark.sql.functions import lit\n",
        "df.withColumn('one',lit(4)).show(5)"
      ],
      "execution_count": null,
      "outputs": [
        {
          "output_type": "error",
          "ename": "NameError",
          "evalue": "ignored",
          "traceback": [
            "\u001b[0;31m---------------------------------------------------------------------------\u001b[0m",
            "\u001b[0;31mNameError\u001b[0m                                 Traceback (most recent call last)",
            "\u001b[0;32m<ipython-input-12-02b364180a09>\u001b[0m in \u001b[0;36m<module>\u001b[0;34m()\u001b[0m\n\u001b[1;32m      1\u001b[0m \u001b[0;34m\u001b[0m\u001b[0m\n\u001b[1;32m      2\u001b[0m \u001b[0;32mfrom\u001b[0m \u001b[0mpyspark\u001b[0m\u001b[0;34m.\u001b[0m\u001b[0msql\u001b[0m\u001b[0;34m.\u001b[0m\u001b[0mfunctions\u001b[0m \u001b[0;32mimport\u001b[0m \u001b[0mlit\u001b[0m\u001b[0;34m\u001b[0m\u001b[0;34m\u001b[0m\u001b[0m\n\u001b[0;32m----> 3\u001b[0;31m \u001b[0mdf\u001b[0m\u001b[0;34m.\u001b[0m\u001b[0mwithColumn\u001b[0m\u001b[0;34m(\u001b[0m\u001b[0;34m'one'\u001b[0m\u001b[0;34m,\u001b[0m\u001b[0mlit\u001b[0m\u001b[0;34m(\u001b[0m\u001b[0;36m4\u001b[0m\u001b[0;34m)\u001b[0m\u001b[0;34m)\u001b[0m\u001b[0;34m.\u001b[0m\u001b[0mshow\u001b[0m\u001b[0;34m(\u001b[0m\u001b[0;36m5\u001b[0m\u001b[0;34m)\u001b[0m\u001b[0;34m\u001b[0m\u001b[0;34m\u001b[0m\u001b[0m\n\u001b[0m",
            "\u001b[0;31mNameError\u001b[0m: name 'df' is not defined"
          ]
        }
      ]
    },
    {
      "cell_type": "code",
      "metadata": {
        "id": "OKfNqnKPoc6X"
      },
      "source": [
        "df=df.drop('one')"
      ],
      "execution_count": null,
      "outputs": []
    },
    {
      "cell_type": "code",
      "metadata": {
        "colab": {
          "base_uri": "https://localhost:8080/"
        },
        "id": "A7Ob0Sal0gZD",
        "outputId": "29ab8406-020e-4675-c8fa-a86471951e18"
      },
      "source": [
        "for col in list(df.columns):\n",
        "    print(col, df.filter((df[col] == \"\") | df[col].isNull()).count())\n",
        "\n",
        "## Identify the number of Null | NaN | Empty values in every column"
      ],
      "execution_count": null,
      "outputs": [
        {
          "output_type": "stream",
          "text": [
            "ID 0\n",
            "Case Number 1\n",
            "Date 0\n",
            "Block 0\n",
            "IUCR 0\n",
            "Primary Type 0\n",
            "Description 0\n",
            "Location Description 8022\n",
            "Arrest 0\n",
            "Domestic 0\n",
            "Beat 0\n",
            "District 1\n",
            "Ward 59\n",
            "Community Area 236\n",
            "FBI Code 0\n",
            "X Coordinate 26219\n",
            "Y Coordinate 26219\n",
            "Year 0\n",
            "Updated On 0\n",
            "Latitude 26219\n",
            "Longitude 26219\n",
            "Location 26219\n"
          ],
          "name": "stdout"
        }
      ]
    },
    {
      "cell_type": "code",
      "metadata": {
        "id": "CyP_n_bU0tqu"
      },
      "source": [
        "### 3.Visualizing & Understanding the data"
      ],
      "execution_count": null,
      "outputs": []
    },
    {
      "cell_type": "code",
      "metadata": {
        "id": "cd6H1_iW6lAk"
      },
      "source": [
        "\n",
        "# crime types count\n",
        "crimeTypeG = dfa.groupBy('Primary Type').count()\n",
        "\n",
        "#crime localisations count\n",
        "crimeLocG = dfa.groupBy('Location Description').count()"
      ],
      "execution_count": 11,
      "outputs": []
    },
    {
      "cell_type": "code",
      "metadata": {
        "colab": {
          "base_uri": "https://localhost:8080/"
        },
        "id": "ATRANjnc-2oH",
        "outputId": "3539897f-a814-4570-f1e1-d425db21dca5"
      },
      "source": [
        "crimeTypeG.show()"
      ],
      "execution_count": null,
      "outputs": [
        {
          "output_type": "stream",
          "text": [
            "+--------------------+-------+\n",
            "|        Primary Type|  count|\n",
            "+--------------------+-------+\n",
            "|OFFENSE INVOLVING...|  51216|\n",
            "|CRIMINAL SEXUAL A...|   3040|\n",
            "|            STALKING|   3939|\n",
            "|PUBLIC PEACE VIOL...|  50943|\n",
            "|           OBSCENITY|    727|\n",
            "|NON-CRIMINAL (SUB...|      9|\n",
            "|               ARSON|  12318|\n",
            "|   DOMESTIC VIOLENCE|      1|\n",
            "|            GAMBLING|  14597|\n",
            "|   CRIMINAL TRESPASS| 206269|\n",
            "|             ASSAULT| 465821|\n",
            "|      NON - CRIMINAL|     38|\n",
            "|LIQUOR LAW VIOLATION|  14497|\n",
            "| MOTOR VEHICLE THEFT| 337533|\n",
            "|               THEFT|1541439|\n",
            "|             BATTERY|1341214|\n",
            "|             ROBBERY| 275030|\n",
            "|            HOMICIDE|  11034|\n",
            "|           RITUALISM|     24|\n",
            "|    PUBLIC INDECENCY|    186|\n",
            "+--------------------+-------+\n",
            "only showing top 20 rows\n",
            "\n"
          ],
          "name": "stdout"
        }
      ]
    },
    {
      "cell_type": "code",
      "metadata": {
        "id": "QJA5wpPB_ZWY"
      },
      "source": [
        "#Order the groups we collected\n",
        "\n",
        "crimeType_counts = crimeTypeG.orderBy('count', ascending=False)\n",
        "crimeLoc_counts = crimeLocG.orderBy('count', ascending=False)"
      ],
      "execution_count": 12,
      "outputs": []
    },
    {
      "cell_type": "code",
      "metadata": {
        "colab": {
          "base_uri": "https://localhost:8080/"
        },
        "id": "5qmhmbic_yER",
        "outputId": "f175788b-1dbc-440c-8acc-fcfac2c2811f"
      },
      "source": [
        "#Top crime types \n",
        "\n",
        "# we can summarize of the 'trending' crimes by types & by locations\n",
        "\n",
        "dfa.groupby('Primary Type').count().orderBy('count', ascending=False).show()\n",
        "dfa.groupby('Location Description').count().orderBy('count', ascending=False).show()"
      ],
      "execution_count": null,
      "outputs": [
        {
          "output_type": "stream",
          "text": [
            "+--------------------+-------+\n",
            "|        Primary Type|  count|\n",
            "+--------------------+-------+\n",
            "|               THEFT|1541439|\n",
            "|             BATTERY|1341214|\n",
            "|     CRIMINAL DAMAGE| 833799|\n",
            "|           NARCOTICS| 737695|\n",
            "|             ASSAULT| 465821|\n",
            "|       OTHER OFFENSE| 454712|\n",
            "|            BURGLARY| 409658|\n",
            "| MOTOR VEHICLE THEFT| 337533|\n",
            "|  DECEPTIVE PRACTICE| 311582|\n",
            "|             ROBBERY| 275030|\n",
            "|   CRIMINAL TRESPASS| 206269|\n",
            "|   WEAPONS VIOLATION|  88942|\n",
            "|        PROSTITUTION|  69388|\n",
            "|OFFENSE INVOLVING...|  51216|\n",
            "|PUBLIC PEACE VIOL...|  50943|\n",
            "|         SEX OFFENSE|  28077|\n",
            "| CRIM SEXUAL ASSAULT|  27909|\n",
            "|INTERFERENCE WITH...|  17614|\n",
            "|            GAMBLING|  14597|\n",
            "|LIQUOR LAW VIOLATION|  14497|\n",
            "+--------------------+-------+\n",
            "only showing top 20 rows\n",
            "\n",
            "+--------------------+-------+\n",
            "|Location Description|  count|\n",
            "+--------------------+-------+\n",
            "|              STREET|1900444|\n",
            "|           RESIDENCE|1243976|\n",
            "|           APARTMENT| 788229|\n",
            "|            SIDEWALK| 704579|\n",
            "|               OTHER| 270089|\n",
            "|PARKING LOT/GARAG...| 203021|\n",
            "|               ALLEY| 162658|\n",
            "|SCHOOL, PUBLIC, B...| 146401|\n",
            "|    RESIDENCE-GARAGE| 135558|\n",
            "|  SMALL RETAIL STORE| 133849|\n",
            "|RESIDENCE PORCH/H...| 124243|\n",
            "|          RESTAURANT| 117921|\n",
            "|VEHICLE NON-COMME...| 117800|\n",
            "|  GROCERY FOOD STORE|  94326|\n",
            "|    DEPARTMENT STORE|  92254|\n",
            "|         GAS STATION|  80540|\n",
            "|RESIDENTIAL YARD ...|  75172|\n",
            "|CHA PARKING LOT/G...|  56113|\n",
            "|       PARK PROPERTY|  55240|\n",
            "|COMMERCIAL / BUSI...|  53555|\n",
            "+--------------------+-------+\n",
            "only showing top 20 rows\n",
            "\n"
          ],
          "name": "stdout"
        }
      ]
    },
    {
      "cell_type": "code",
      "metadata": {
        "id": "maVlMptY_z7Y"
      },
      "source": [
        "# ?????\n",
        "crimeType_counts_RDD = pd.DataFrame(crimeType_counts.rdd.map(lambda line: line.asDict()).collect()).head(20)\n",
        "crimeLoc_counts_RDD = pd.DataFrame(crimeLoc_counts.rdd.map(lambda line: line.asDict()).collect()).head(20)"
      ],
      "execution_count": 55,
      "outputs": []
    },
    {
      "cell_type": "code",
      "metadata": {
        "colab": {
          "base_uri": "https://localhost:8080/",
          "height": 302
        },
        "id": "ppzUlfAEGO0q",
        "outputId": "92df803c-a722-4343-ff97-48bd8cd75674"
      },
      "source": [
        "\n",
        "## Just some seaborn params for a better view\n",
        "sns.set(style=\"whitegrid\")\n",
        "sns.set_color_codes(\"dark\")\n",
        "\n",
        "type_graph = sns.barplot(x='count', y='Primary Type', data=crimeType_counts_RDD)\n",
        "type_graph.set(ylabel=\"Primary Type\", xlabel=\"Crimes Record Count\")\n",
        "\n",
        "#Visualizing data records by primary type and their count"
      ],
      "execution_count": 14,
      "outputs": [
        {
          "output_type": "execute_result",
          "data": {
            "text/plain": [
              "[Text(0, 0.5, 'Primary Type'), Text(0.5, 0, 'Crimes Record Count')]"
            ]
          },
          "metadata": {
            "tags": []
          },
          "execution_count": 14
        },
        {
          "output_type": "display_data",
          "data": {
            "image/png": "[encoded data removed]",
            "text/plain": [
              "<Figure size 432x288 with 1 Axes>"
            ]
          },
          "metadata": {
            "tags": []
          }
        }
      ]
    },
    {
      "cell_type": "code",
      "metadata": {
        "colab": {
          "base_uri": "https://localhost:8080/",
          "height": 302
        },
        "id": "c9VDdY7dGi_M",
        "outputId": "e1cb3dea-fb13-4b89-a600-67515540e432"
      },
      "source": [
        "\n",
        "type_graph = sns.barplot(x='count', y='Location Description', data=crimeLoc_counts_RDD)\n",
        "type_graph.set(ylabel=\"location description\", xlabel=\"Crimes Record Count\")\n",
        "\n",
        "#Visualizing data records by primary type and their coun"
      ],
      "execution_count": 15,
      "outputs": [
        {
          "output_type": "execute_result",
          "data": {
            "text/plain": [
              "[Text(0, 0.5, 'location description'), Text(0.5, 0, 'Crimes Record Count')]"
            ]
          },
          "metadata": {
            "tags": []
          },
          "execution_count": 15
        },
        {
          "output_type": "display_data",
          "data": {
            "image/png": "[encoded data removed]",
            "text/plain": [
              "<Figure size 432x288 with 1 Axes>"
            ]
          },
          "metadata": {
            "tags": []
          }
        }
      ]
    },
    {
      "cell_type": "code",
      "metadata": {
        "id": "iakn8UeHJlXf",
        "colab": {
          "base_uri": "https://localhost:8080/"
        },
        "outputId": "f9cc5dc3-246e-47bc-c6c7-5d67bcc1066c"
      },
      "source": [
        "#What percentage of reported crimes resulted in an arrest?\n",
        "df.groupby('Arrest').count().show()\n"
      ],
      "execution_count": null,
      "outputs": [
        {
          "output_type": "stream",
          "text": [
            "+------+-------+\n",
            "|Arrest|  count|\n",
            "+------+-------+\n",
            "| false|5342244|\n",
            "|  true|1979449|\n",
            "+------+-------+\n",
            "\n"
          ],
          "name": "stdout"
        }
      ]
    },
    {
      "cell_type": "code",
      "metadata": {
        "colab": {
          "base_uri": "https://localhost:8080/"
        },
        "id": "Xx_tH1dzao1L",
        "outputId": "6e98b6a5-766d-4480-c0f5-906dc0a8c84c"
      },
      "source": [
        "dfa.select('Arrest').distinct().show()"
      ],
      "execution_count": null,
      "outputs": [
        {
          "output_type": "stream",
          "text": [
            "+------+\n",
            "|Arrest|\n",
            "+------+\n",
            "| false|\n",
            "|  true|\n",
            "+------+\n",
            "\n"
          ],
          "name": "stdout"
        }
      ]
    },
    {
      "cell_type": "code",
      "metadata": {
        "colab": {
          "base_uri": "https://localhost:8080/"
        },
        "id": "0Ip5uBfAa-NF",
        "outputId": "10ad8a2e-fac6-4e45-9bb7-566731afad20"
      },
      "source": [
        "from pyspark.sql.functions import col\n",
        "dfa.filter(col('Arrest')=='true').count()/dfa.select('Arrest').count()"
      ],
      "execution_count": null,
      "outputs": [
        {
          "output_type": "execute_result",
          "data": {
            "text/plain": [
              "0.2703540014584059"
            ]
          },
          "metadata": {
            "tags": []
          },
          "execution_count": 49
        }
      ]
    },
    {
      "cell_type": "code",
      "metadata": {
        "colab": {
          "base_uri": "https://localhost:8080/"
        },
        "id": "xrGMOrvGb30i",
        "outputId": "3e7e9f81-999d-4d0c-9030-1efe064aa070"
      },
      "source": [
        "dfa.printSchema()"
      ],
      "execution_count": null,
      "outputs": [
        {
          "output_type": "stream",
          "text": [
            "root\n",
            " |-- ID: string (nullable = true)\n",
            " |-- Case Number: string (nullable = true)\n",
            " |-- Date: string (nullable = true)\n",
            " |-- Block: string (nullable = true)\n",
            " |-- IUCR: string (nullable = true)\n",
            " |-- Primary Type: string (nullable = true)\n",
            " |-- Description: string (nullable = true)\n",
            " |-- Location Description: string (nullable = true)\n",
            " |-- Arrest: string (nullable = true)\n",
            " |-- Domestic: string (nullable = true)\n",
            " |-- Beat: string (nullable = true)\n",
            " |-- District: string (nullable = true)\n",
            " |-- Ward: string (nullable = true)\n",
            " |-- Community Area: string (nullable = true)\n",
            " |-- FBI Code: string (nullable = true)\n",
            " |-- X Coordinate: string (nullable = true)\n",
            " |-- Y Coordinate: string (nullable = true)\n",
            " |-- Year: string (nullable = true)\n",
            " |-- Updated On: string (nullable = true)\n",
            " |-- Latitude: string (nullable = true)\n",
            " |-- Longitude: string (nullable = true)\n",
            " |-- Location: string (nullable = true)\n",
            "\n"
          ],
          "name": "stdout"
        }
      ]
    },
    {
      "cell_type": "code",
      "metadata": {
        "colab": {
          "base_uri": "https://localhost:8080/"
        },
        "id": "srdhZPrDcJ0N",
        "outputId": "4a0fe2b3-b467-4279-874f-580a188a434e"
      },
      "source": [
        "# functions:\n",
        "from pyspark.sql import functions\n",
        "print(dir(functions))"
      ],
      "execution_count": null,
      "outputs": [
        {
          "output_type": "stream",
          "text": [
            "['AutoBatchedSerializer', 'Column', 'DataFrame', 'DataType', 'PandasUDFType', 'PickleSerializer', 'PythonEvalType', 'SparkContext', 'StringType', 'UserDefinedFunction', '__all__', '__builtins__', '__cached__', '__doc__', '__file__', '__loader__', '__name__', '__package__', '__spec__', '_binary_mathfunctions', '_collect_list_doc', '_collect_set_doc', '_create_binary_mathfunction', '_create_function', '_create_udf', '_create_window_function', '_functions', '_functions_1_4', '_functions_1_6', '_functions_2_1', '_functions_deprecated', '_lit_doc', '_message', '_string_functions', '_test', '_to_java_column', '_to_seq', '_window_functions', '_wrap_deprecated_function', 'abs', 'acos', 'add_months', 'approxCountDistinct', 'approx_count_distinct', 'array', 'array_contains', 'asc', 'ascii', 'asin', 'atan', 'atan2', 'avg', 'base64', 'bin', 'bitwiseNOT', 'blacklist', 'broadcast', 'bround', 'cbrt', 'ceil', 'coalesce', 'col', 'collect_list', 'collect_set', 'column', 'concat', 'concat_ws', 'conv', 'corr', 'cos', 'cosh', 'count', 'countDistinct', 'covar_pop', 'covar_samp', 'crc32', 'create_map', 'cume_dist', 'current_date', 'current_timestamp', 'date_add', 'date_format', 'date_sub', 'date_trunc', 'datediff', 'dayofmonth', 'dayofweek', 'dayofyear', 'decode', 'degrees', 'dense_rank', 'desc', 'encode', 'exp', 'explode', 'explode_outer', 'expm1', 'expr', 'factorial', 'first', 'floor', 'format_number', 'format_string', 'from_json', 'from_unixtime', 'from_utc_timestamp', 'functools', 'get_json_object', 'greatest', 'grouping', 'grouping_id', 'hash', 'hex', 'hour', 'hypot', 'ignore_unicode_prefix', 'initcap', 'input_file_name', 'instr', 'isnan', 'isnull', 'json_tuple', 'kurtosis', 'lag', 'last', 'last_day', 'lead', 'least', 'length', 'levenshtein', 'lit', 'locate', 'log', 'log10', 'log1p', 'log2', 'lower', 'lpad', 'ltrim', 'map_keys', 'map_values', 'math', 'max', 'md5', 'mean', 'min', 'minute', 'monotonically_increasing_id', 'month', 'months_between', 'nanvl', 'next_day', 'ntile', 'pandas_udf', 'percent_rank', 'posexplode', 'posexplode_outer', 'pow', 'quarter', 'radians', 'rand', 'randn', 'rank', 'regexp_extract', 'regexp_replace', 'repeat', 'reverse', 'rint', 'round', 'row_number', 'rpad', 'rtrim', 'second', 'sha1', 'sha2', 'shiftLeft', 'shiftRight', 'shiftRightUnsigned', 'signum', 'sin', 'since', 'sinh', 'size', 'skewness', 'sort_array', 'soundex', 'spark_partition_id', 'split', 'sqrt', 'stddev', 'stddev_pop', 'stddev_samp', 'struct', 'substring', 'substring_index', 'sum', 'sumDistinct', 'sys', 'tan', 'tanh', 'toDegrees', 'toRadians', 'to_date', 'to_json', 'to_timestamp', 'to_utc_timestamp', 'translate', 'trim', 'trunc', 'udf', 'unbase64', 'unhex', 'unix_timestamp', 'upper', 'var_pop', 'var_samp', 'variance', 'warnings', 'weekofyear', 'when', 'window', 'year']\n"
          ],
          "name": "stdout"
        }
      ]
    },
    {
      "cell_type": "code",
      "metadata": {
        "id": "qK1H05FRf75S"
      },
      "source": [
        "from pyspark.sql.functions import lower, upper, substring"
      ],
      "execution_count": null,
      "outputs": []
    },
    {
      "cell_type": "code",
      "metadata": {
        "colab": {
          "base_uri": "https://localhost:8080/"
        },
        "id": "bYVieeULgVXe",
        "outputId": "b97b45b1-f233-4923-ccb6-30829866fd09"
      },
      "source": [
        "help(substring)"
      ],
      "execution_count": null,
      "outputs": [
        {
          "output_type": "stream",
          "text": [
            "Help on function substring in module pyspark.sql.functions:\n",
            "\n",
            "substring(str, pos, len)\n",
            "    Substring starts at `pos` and is of length `len` when str is String type or\n",
            "    returns the slice of byte array that starts at `pos` in byte and is of length `len`\n",
            "    when str is Binary type.\n",
            "    \n",
            "    .. note:: The position is not zero based, but 1 based index.\n",
            "    \n",
            "    >>> df = spark.createDataFrame([('abcd',)], ['s',])\n",
            "    >>> df.select(substring(df.s, 1, 2).alias('s')).collect()\n",
            "    [Row(s='ab')]\n",
            "    \n",
            "    .. versionadded:: 1.5\n",
            "\n"
          ],
          "name": "stdout"
        }
      ]
    },
    {
      "cell_type": "code",
      "metadata": {
        "colab": {
          "base_uri": "https://localhost:8080/"
        },
        "id": "LRtYj6G4g6RD",
        "outputId": "11137871-fbd3-46e8-82ef-3f7d1491bffb"
      },
      "source": [
        "dfa.select(lower(col('Primary Type')),upper(col('Primary Type')), substring(col('Primary Type'), 1,4)).show(5)"
      ],
      "execution_count": null,
      "outputs": [
        {
          "output_type": "stream",
          "text": [
            "+-------------------+-------------------+-----------------------------+\n",
            "|lower(Primary Type)|upper(Primary Type)|substring(Primary Type, 1, 4)|\n",
            "+-------------------+-------------------+-----------------------------+\n",
            "|            battery|            BATTERY|                         BATT|\n",
            "|              theft|              THEFT|                         THEF|\n",
            "|              theft|              THEFT|                         THEF|\n",
            "|          narcotics|          NARCOTICS|                         NARC|\n",
            "|            assault|            ASSAULT|                         ASSA|\n",
            "+-------------------+-------------------+-----------------------------+\n",
            "only showing top 5 rows\n",
            "\n"
          ],
          "name": "stdout"
        }
      ]
    },
    {
      "cell_type": "code",
      "metadata": {
        "colab": {
          "base_uri": "https://localhost:8080/"
        },
        "id": "8iK_IyzpiZaT",
        "outputId": "3b9e2329-6af3-4b0b-a020-7faefb95ff92"
      },
      "source": [
        "#most recent and oldest date\n",
        "from pyspark.sql.functions import max, min\n",
        "dfa.select(min(col('Date')),max(col('Date'))).show(5)"
      ],
      "execution_count": null,
      "outputs": [
        {
          "output_type": "stream",
          "text": [
            "+-------------------+-------------------+\n",
            "|          min(Date)|          max(Date)|\n",
            "+-------------------+-------------------+\n",
            "|2001-01-01 00:00:00|2021-05-06 23:49:00|\n",
            "+-------------------+-------------------+\n",
            "\n"
          ],
          "name": "stdout"
        }
      ]
    },
    {
      "cell_type": "code",
      "metadata": {
        "colab": {
          "base_uri": "https://localhost:8080/"
        },
        "id": "u3myvhLlkosM",
        "outputId": "e39e454f-4cf6-4691-91b1-d423f1132a21"
      },
      "source": [
        "#joining the dataset crime to police station \n",
        "!wget https://data.cityofchicago.org/api/views/z8bn-74gv/rows.csv?accessType=DOWNLOAD\n",
        "!ls -l"
      ],
      "execution_count": null,
      "outputs": [
        {
          "output_type": "stream",
          "text": [
            "--2021-05-14 12:45:27--  https://data.cityofchicago.org/api/views/z8bn-74gv/rows.csv?accessType=DOWNLOAD\n",
            "Resolving data.cityofchicago.org (data.cityofchicago.org)... 52.206.140.205, 52.206.140.199, 52.206.68.26\n",
            "Connecting to data.cityofchicago.org (data.cityofchicago.org)|52.206.140.205|:443... connected.\n",
            "HTTP request sent, awaiting response... 200 OK\n",
            "Length: unspecified [text/csv]\n",
            "Saving to: ‘rows.csv?accessType=DOWNLOAD’\n",
            "\n",
            "rows.csv?accessType     [ <=>                ]   5.57K  --.-KB/s    in 0s      \n",
            "\n",
            "2021-05-14 12:45:27 (568 MB/s) - ‘rows.csv?accessType=DOWNLOAD’ saved [5699]\n",
            "\n",
            "total 2128588\n",
            "-rw-r--r--  1 root root 1727870896 May 14 11:03  crimeData.csv\n",
            "-rw-r--r--  1 root root        587 May 14 12:29  police-station.csv\n",
            "-rw-r--r--  1 root root       5699 Aug 19  2019 'rows.csv?accessType=DOWNLOAD'\n",
            "drwxr-xr-x  1 root root       4096 May  6 13:44  sample_data\n",
            "drwxrwxr-x 13 1000 1000       4096 Jun  1  2018  spark-2.3.1-bin-hadoop2.7\n",
            "-rw-r--r--  1 root root  225883783 Jun  1  2018  spark-2.3.1-bin-hadoop2.7.tgz\n",
            "-rw-r--r--  1 root root  225883783 Jun  1  2018  spark-2.3.1-bin-hadoop2.7.tgz.1\n",
            "drwxr-xr-x  2 root root       4096 May 14 12:24  spark-warehouse\n"
          ],
          "name": "stdout"
        }
      ]
    },
    {
      "cell_type": "code",
      "metadata": {
        "colab": {
          "base_uri": "https://localhost:8080/"
        },
        "id": "NSLzAHFt5QVT",
        "outputId": "b058df0c-fae7-4cac-c8b4-462cd6018fa3"
      },
      "source": [
        "ps=spark.read.csv('Police_Stations.csv',header=True)\n",
        "ps.show(5)"
      ],
      "execution_count": 16,
      "outputs": [
        {
          "output_type": "stream",
          "text": [
            "+------------+-------------+-------------------+-------+-----+-----+--------------------+------------+------------+------------+------------+------------+-----------+------------+--------------------+\n",
            "|    DISTRICT|DISTRICT NAME|            ADDRESS|   CITY|STATE|  ZIP|             WEBSITE|       PHONE|         FAX|         TTY|X COORDINATE|Y COORDINATE|   LATITUDE|   LONGITUDE|            LOCATION|\n",
            "+------------+-------------+-------------------+-------+-----+-----+--------------------+------------+------------+------------+------------+------------+-----------+------------+--------------------+\n",
            "|Headquarters| Headquarters|3510 S Michigan Ave|Chicago|   IL|60653|http://home.chica...|        null|        null|        null| 1177731.401| 1881697.404|41.83070169|-87.62339535|(41.8307016873, -...|\n",
            "|          18|   Near North| 1160 N Larrabee St|Chicago|   IL|60610|http://home.chica...|312-742-5870|312-742-5771|312-742-5773| 1172080.029| 1908086.527|41.90324165|-87.64335214|(41.9032416531, -...|\n",
            "|          19|    Town Hall|   850 W Addison St|Chicago|   IL|60613|http://home.chica...|312-744-8320|312-744-4481|312-744-8011| 1169730.744| 1924160.317|41.94740046|-87.65151202|(41.9474004564, -...|\n",
            "|          20|      Lincoln| 5400 N Lincoln Ave|Chicago|   IL|60625|http://home.chica...|312-742-8714|312-742-8803|312-742-8841| 1158399.146| 1935788.826|41.97954951|-87.69284451|(41.9795495131, -...|\n",
            "|          22|  Morgan Park|1900 W Monterey Ave|Chicago|   IL|60643|http://home.chica...|312-745-0710|312-745-0814|312-745-0569| 1165825.476| 1830851.333|41.69143478|-87.66852039|(41.6914347795, -...|\n",
            "+------------+-------------+-------------------+-------+-----+-----+--------------------+------------+------------+------------+------------+------------+-----------+------------+--------------------+\n",
            "only showing top 5 rows\n",
            "\n"
          ],
          "name": "stdout"
        }
      ]
    },
    {
      "cell_type": "code",
      "metadata": {
        "colab": {
          "base_uri": "https://localhost:8080/"
        },
        "id": "xrCU2aMR7C2f",
        "outputId": "4490899a-a7f5-475d-8f4e-cc19201f6907"
      },
      "source": [
        "ps.select(col('DISTRICT')).distinct().show()"
      ],
      "execution_count": 17,
      "outputs": [
        {
          "output_type": "stream",
          "text": [
            "+------------+\n",
            "|    DISTRICT|\n",
            "+------------+\n",
            "|           7|\n",
            "|          15|\n",
            "|          11|\n",
            "|           3|\n",
            "|           8|\n",
            "|          22|\n",
            "|          16|\n",
            "|           5|\n",
            "|          18|\n",
            "|          17|\n",
            "|           6|\n",
            "|          19|\n",
            "|          25|\n",
            "|Headquarters|\n",
            "|          24|\n",
            "|           9|\n",
            "|           1|\n",
            "|          20|\n",
            "|          10|\n",
            "|           4|\n",
            "+------------+\n",
            "only showing top 20 rows\n",
            "\n"
          ],
          "name": "stdout"
        }
      ]
    },
    {
      "cell_type": "code",
      "metadata": {
        "id": "9adE2HNf7xAZ"
      },
      "source": [
        "from pyspark.sql.functions import lpad"
      ],
      "execution_count": 18,
      "outputs": []
    },
    {
      "cell_type": "code",
      "metadata": {
        "colab": {
          "base_uri": "https://localhost:8080/"
        },
        "id": "IXACvGQI8uVH",
        "outputId": "f6dffea4-2bf6-497f-bf0b-76540ad460da"
      },
      "source": [
        "#ADDING ZERO TO LEFT OF THE FEATURE\n",
        "ps.select(lpad(col('DISTRICT'),3,'0')).show()\n",
        "# so we must add new column to ps to contain new format \n",
        "ps.withColumn('Format_district',lpad(col('DISTRICT'),3,'0')).show()"
      ],
      "execution_count": 19,
      "outputs": [
        {
          "output_type": "stream",
          "text": [
            "+--------------------+\n",
            "|lpad(DISTRICT, 3, 0)|\n",
            "+--------------------+\n",
            "|                 Hea|\n",
            "|                 018|\n",
            "|                 019|\n",
            "|                 020|\n",
            "|                 022|\n",
            "|                 024|\n",
            "|                 025|\n",
            "|                 001|\n",
            "|                 002|\n",
            "|                 003|\n",
            "|                 004|\n",
            "|                 005|\n",
            "|                 006|\n",
            "|                 007|\n",
            "|                 008|\n",
            "|                 009|\n",
            "|                 010|\n",
            "|                 011|\n",
            "|                 012|\n",
            "|                 \",C|\n",
            "+--------------------+\n",
            "only showing top 20 rows\n",
            "\n",
            "+--------------------+-----------------+--------------------+-------+-----+-----+--------------------+------------+------------+------------+------------+------------+-----------+------------+--------------------+---------------+\n",
            "|            DISTRICT|    DISTRICT NAME|             ADDRESS|   CITY|STATE|  ZIP|             WEBSITE|       PHONE|         FAX|         TTY|X COORDINATE|Y COORDINATE|   LATITUDE|   LONGITUDE|            LOCATION|Format_district|\n",
            "+--------------------+-----------------+--------------------+-------+-----+-----+--------------------+------------+------------+------------+------------+------------+-----------+------------+--------------------+---------------+\n",
            "|        Headquarters|     Headquarters| 3510 S Michigan Ave|Chicago|   IL|60653|http://home.chica...|        null|        null|        null| 1177731.401| 1881697.404|41.83070169|-87.62339535|(41.8307016873, -...|            Hea|\n",
            "|                  18|       Near North|  1160 N Larrabee St|Chicago|   IL|60610|http://home.chica...|312-742-5870|312-742-5771|312-742-5773| 1172080.029| 1908086.527|41.90324165|-87.64335214|(41.9032416531, -...|            018|\n",
            "|                  19|        Town Hall|    850 W Addison St|Chicago|   IL|60613|http://home.chica...|312-744-8320|312-744-4481|312-744-8011| 1169730.744| 1924160.317|41.94740046|-87.65151202|(41.9474004564, -...|            019|\n",
            "|                  20|          Lincoln|  5400 N Lincoln Ave|Chicago|   IL|60625|http://home.chica...|312-742-8714|312-742-8803|312-742-8841| 1158399.146| 1935788.826|41.97954951|-87.69284451|(41.9795495131, -...|            020|\n",
            "|                  22|      Morgan Park| 1900 W Monterey Ave|Chicago|   IL|60643|http://home.chica...|312-745-0710|312-745-0814|312-745-0569| 1165825.476| 1830851.333|41.69143478|-87.66852039|(41.6914347795, -...|            022|\n",
            "|                  24|      Rogers Park|     6464 N Clark St|Chicago|   IL|60626|http://home.chica...|312-744-5907|312-744-6928|312-744-7603| 1164193.588| 1943199.401|41.99976348|-87.67132429|(41.9997634842, -...|            024|\n",
            "|                  25|    Grand Central|    5555 W Grand Ave|Chicago|   IL|60639|http://home.chica...|312-746-8605|312-746-4353|312-746-8383| 1138770.871| 1913442.439|41.91860889|-87.76557448|(41.9186088912, -...|            025|\n",
            "|                   1|          Central|     1718 S State St|Chicago|   IL|60616|http://home.chica...|312-745-4290|312-745-3694|312-745-3693| 1176569.052| 1891771.704|41.85837259|-87.62735617|(41.8583725929, -...|            001|\n",
            "|                   2|        Wentworth|5101 S Wentworth Ave|Chicago|   IL|60609|http://home.chica...|312-747-8366|312-747-5396|312-747-6656| 1175864.837| 1871153.753|41.80181109|-87.63056018|(41.8018110912, -...|            002|\n",
            "|                   3|   Grand Crossing|7040 S Cottage Gr...|Chicago|   IL|60637|http://home.chica...|312-747-8201|312-747-5479|312-747-9168| 1182739.183| 1858317.732|41.76643089|-87.60574786|(41.7664308925, -...|            003|\n",
            "|                   4|    South Chicago|     2255 E 103rd St|Chicago|   IL|60617|http://home.chica...|312-747-7581|312-747-5276|312-747-9169| 1193131.299| 1837090.265|41.70793329|-87.56834912|(41.7079332906, -...|            004|\n",
            "|                   5|          Calumet|      727 E 111th St|Chicago|   IL|60628|http://home.chica...|312-747-8210|312-747-5935|312-747-9170| 1183305.427| 1831462.313|41.69272336|-87.60450587|(41.6927233639, -...|            005|\n",
            "|                   6|          Gresham|   7808 S Halsted St|Chicago|   IL|60620|http://home.chica...|312-745-3617|312-745-3649|312-745-3639| 1172283.013| 1853022.646|41.75213684|-87.64422891|(41.7521368378, -...|            006|\n",
            "|                   7|        Englewood|      1438 W 63rd St|Chicago|   IL|60636|http://home.chica...|312-747-8223|312-747-6558|312-747-6652| 1167659.235| 1863005.522|41.77963154|-87.66088702|(41.7796315359, -...|            007|\n",
            "|                   8|     Chicago Lawn|      3420 W 63rd St|Chicago|   IL|60629|http://home.chica...|312-747-8730|312-747-8545|312-747-8116| 1154575.242| 1862672.049|41.77898719|-87.70886382|(41.778987189, -8...|            008|\n",
            "|                   9|          Deering|   3120 S Halsted St|Chicago|   IL|60608|http://home.chica...|312-747-8227|312-747-5329|312-747-9172|  1171440.24| 1884085.224|41.83739443|-87.64640771|(41.8373944311, -...|            009|\n",
            "|                  10|            Ogden|    3315 W Ogden Ave|Chicago|   IL|60623|http://home.chica...|312-747-7511|312-747-7429|312-747-7471| 1154500.753| 1890985.501|41.85668453|-87.70838196|(41.8566845327, -...|            010|\n",
            "|                  11|         Harrison|  3151 W Harrison St|Chicago|   IL|60612|http://home.chica...|312-746-8386|312-746-4281|312-746-5151| 1155244.069| 1897148.755|41.87358229|-87.70548813|(41.8735822883, -...|            011|\n",
            "|                  12|        Near West|1412 S Blue Islan...|   null| null| null|                null|        null|        null|        null|        null|        null|       null|        null|                null|            012|\n",
            "|\",Chicago,IL,6060...| -87.6569725149)\"|                null|   null| null| null|                null|        null|        null|        null|        null|        null|       null|        null|                null|            \",C|\n",
            "+--------------------+-----------------+--------------------+-------+-----+-----+--------------------+------------+------------+------------+------------+------------+-----------+------------+--------------------+---------------+\n",
            "only showing top 20 rows\n",
            "\n"
          ],
          "name": "stdout"
        }
      ]
    },
    {
      "cell_type": "code",
      "metadata": {
        "colab": {
          "base_uri": "https://localhost:8080/",
          "height": 283
        },
        "id": "s0gIsBSv9jE8",
        "outputId": "9dc185b5-e66f-4c2e-c640-8c3ade77781b"
      },
      "source": [
        "dfa.join(ps, dfa.District == ps.Format_district, 'left-outer').show()"
      ],
      "execution_count": null,
      "outputs": [
        {
          "output_type": "error",
          "ename": "AttributeError",
          "evalue": "ignored",
          "traceback": [
            "\u001b[0;31m---------------------------------------------------------------------------\u001b[0m",
            "\u001b[0;31mAttributeError\u001b[0m                            Traceback (most recent call last)",
            "\u001b[0;32m<ipython-input-48-ecf0e7ed3231>\u001b[0m in \u001b[0;36m<module>\u001b[0;34m()\u001b[0m\n\u001b[0;32m----> 1\u001b[0;31m \u001b[0mdfa\u001b[0m\u001b[0;34m.\u001b[0m\u001b[0mjoin\u001b[0m\u001b[0;34m(\u001b[0m\u001b[0mps\u001b[0m\u001b[0;34m,\u001b[0m \u001b[0mdfa\u001b[0m\u001b[0;34m.\u001b[0m\u001b[0mDistrict\u001b[0m \u001b[0;34m==\u001b[0m \u001b[0mps\u001b[0m\u001b[0;34m.\u001b[0m\u001b[0mFormat_district\u001b[0m\u001b[0;34m,\u001b[0m \u001b[0;34m'left-outer'\u001b[0m\u001b[0;34m)\u001b[0m\u001b[0;34m.\u001b[0m\u001b[0mshow\u001b[0m\u001b[0;34m(\u001b[0m\u001b[0;34m)\u001b[0m\u001b[0;34m\u001b[0m\u001b[0;34m\u001b[0m\u001b[0m\n\u001b[0m",
            "\u001b[0;32m/content/spark-2.3.1-bin-hadoop2.7/python/pyspark/sql/dataframe.py\u001b[0m in \u001b[0;36m__getattr__\u001b[0;34m(self, name)\u001b[0m\n\u001b[1;32m   1180\u001b[0m         \u001b[0;32mif\u001b[0m \u001b[0mname\u001b[0m \u001b[0;32mnot\u001b[0m \u001b[0;32min\u001b[0m \u001b[0mself\u001b[0m\u001b[0;34m.\u001b[0m\u001b[0mcolumns\u001b[0m\u001b[0;34m:\u001b[0m\u001b[0;34m\u001b[0m\u001b[0;34m\u001b[0m\u001b[0m\n\u001b[1;32m   1181\u001b[0m             raise AttributeError(\n\u001b[0;32m-> 1182\u001b[0;31m                 \"'%s' object has no attribute '%s'\" % (self.__class__.__name__, name))\n\u001b[0m\u001b[1;32m   1183\u001b[0m         \u001b[0mjc\u001b[0m \u001b[0;34m=\u001b[0m \u001b[0mself\u001b[0m\u001b[0;34m.\u001b[0m\u001b[0m_jdf\u001b[0m\u001b[0;34m.\u001b[0m\u001b[0mapply\u001b[0m\u001b[0;34m(\u001b[0m\u001b[0mname\u001b[0m\u001b[0;34m)\u001b[0m\u001b[0;34m\u001b[0m\u001b[0;34m\u001b[0m\u001b[0m\n\u001b[1;32m   1184\u001b[0m         \u001b[0;32mreturn\u001b[0m \u001b[0mColumn\u001b[0m\u001b[0;34m(\u001b[0m\u001b[0mjc\u001b[0m\u001b[0;34m)\u001b[0m\u001b[0;34m\u001b[0m\u001b[0;34m\u001b[0m\u001b[0m\n",
            "\u001b[0;31mAttributeError\u001b[0m: 'DataFrame' object has no attribute 'Format_district'"
          ]
        }
      ]
    },
    {
      "cell_type": "code",
      "metadata": {
        "colab": {
          "base_uri": "https://localhost:8080/",
          "height": 164
        },
        "id": "RahxH8WZ_X-X",
        "outputId": "94175696-3789-4066-c019-64e0b2f3ea60"
      },
      "source": [
        "help(join)"
      ],
      "execution_count": null,
      "outputs": [
        {
          "output_type": "error",
          "ename": "NameError",
          "evalue": "ignored",
          "traceback": [
            "\u001b[0;31m---------------------------------------------------------------------------\u001b[0m",
            "\u001b[0;31mNameError\u001b[0m                                 Traceback (most recent call last)",
            "\u001b[0;32m<ipython-input-51-66b24db8048c>\u001b[0m in \u001b[0;36m<module>\u001b[0;34m()\u001b[0m\n\u001b[0;32m----> 1\u001b[0;31m \u001b[0mhelp\u001b[0m\u001b[0;34m(\u001b[0m\u001b[0mjoin\u001b[0m\u001b[0;34m)\u001b[0m\u001b[0;34m\u001b[0m\u001b[0;34m\u001b[0m\u001b[0m\n\u001b[0m",
            "\u001b[0;31mNameError\u001b[0m: name 'join' is not defined"
          ]
        }
      ]
    },
    {
      "cell_type": "code",
      "metadata": {
        "id": "XXOTPqeHApZM"
      },
      "source": [
        "#what is the most frequency reported non-criminal activity\n",
        "#for finiding the count of each categories\n",
        "dfa.select(col('Primary Type')).distinct().count()"
      ],
      "execution_count": null,
      "outputs": []
    },
    {
      "cell_type": "code",
      "metadata": {
        "colab": {
          "base_uri": "https://localhost:8080/"
        },
        "id": "IeQ-vcYcBxm3",
        "outputId": "9e354898-a695-41d5-e7df-25b7c8c7ade2"
      },
      "source": [
        "dfa.select(col('Primary Type')).distinct().orderBy(col('Primary Type')).show(36,truncate=False)"
      ],
      "execution_count": null,
      "outputs": [
        {
          "output_type": "stream",
          "text": [
            "+---------------------------------+\n",
            "|Primary Type                     |\n",
            "+---------------------------------+\n",
            "|ARSON                            |\n",
            "|ASSAULT                          |\n",
            "|BATTERY                          |\n",
            "|BURGLARY                         |\n",
            "|CONCEALED CARRY LICENSE VIOLATION|\n",
            "|CRIM SEXUAL ASSAULT              |\n",
            "|CRIMINAL DAMAGE                  |\n",
            "|CRIMINAL SEXUAL ASSAULT          |\n",
            "|CRIMINAL TRESPASS                |\n",
            "|DECEPTIVE PRACTICE               |\n",
            "|DOMESTIC VIOLENCE                |\n",
            "|GAMBLING                         |\n",
            "|HOMICIDE                         |\n",
            "|HUMAN TRAFFICKING                |\n",
            "|INTERFERENCE WITH PUBLIC OFFICER |\n",
            "|INTIMIDATION                     |\n",
            "|KIDNAPPING                       |\n",
            "|LIQUOR LAW VIOLATION             |\n",
            "|MOTOR VEHICLE THEFT              |\n",
            "|NARCOTICS                        |\n",
            "|NON - CRIMINAL                   |\n",
            "|NON-CRIMINAL                     |\n",
            "|NON-CRIMINAL (SUBJECT SPECIFIED) |\n",
            "|OBSCENITY                        |\n",
            "|OFFENSE INVOLVING CHILDREN       |\n",
            "|OTHER NARCOTIC VIOLATION         |\n",
            "|OTHER OFFENSE                    |\n",
            "|PROSTITUTION                     |\n",
            "|PUBLIC INDECENCY                 |\n",
            "|PUBLIC PEACE VIOLATION           |\n",
            "|RITUALISM                        |\n",
            "|ROBBERY                          |\n",
            "|SEX OFFENSE                      |\n",
            "|STALKING                         |\n",
            "|THEFT                            |\n",
            "|WEAPONS VIOLATION                |\n",
            "+---------------------------------+\n",
            "\n"
          ],
          "name": "stdout"
        }
      ]
    },
    {
      "cell_type": "code",
      "metadata": {
        "id": "LYXGusouCPUt"
      },
      "source": [
        "cc=dfa.filter((col('Primary Type') == 'NON - CRIMINAL') | (col('Primary Type') == 'NON-CRIMINAL'))"
      ],
      "execution_count": null,
      "outputs": []
    },
    {
      "cell_type": "code",
      "metadata": {
        "colab": {
          "base_uri": "https://localhost:8080/"
        },
        "id": "f5qob8iDDdX2",
        "outputId": "edfda56e-3437-4b63-dfb5-36b209a51df7"
      },
      "source": [
        "cc.count()"
      ],
      "execution_count": null,
      "outputs": [
        {
          "output_type": "execute_result",
          "data": {
            "text/plain": [
              "212"
            ]
          },
          "metadata": {
            "tags": []
          },
          "execution_count": 59
        }
      ]
    },
    {
      "cell_type": "code",
      "metadata": {
        "colab": {
          "base_uri": "https://localhost:8080/"
        },
        "id": "2hGpXFz3Dhhs",
        "outputId": "3f8e7338-a30e-4e97-a156-670af5f36451"
      },
      "source": [
        "dfa.groupBy(col('Description')).count().orderBy('count', ascending=False).show(truncate=False)"
      ],
      "execution_count": 62,
      "outputs": [
        {
          "output_type": "stream",
          "text": [
            "+-----------------------------+------+\n",
            "|Description                  |count |\n",
            "+-----------------------------+------+\n",
            "|SIMPLE                       |860376|\n",
            "|$500 AND UNDER               |595796|\n",
            "|DOMESTIC BATTERY SIMPLE      |571045|\n",
            "|TO VEHICLE                   |404487|\n",
            "|TO PROPERTY                  |385689|\n",
            "|OVER $500                    |379019|\n",
            "|POSS: CANNABIS 30GMS OR LESS |278140|\n",
            "|FORCIBLE ENTRY               |275960|\n",
            "|AUTOMOBILE                   |266904|\n",
            "|FROM BUILDING                |245261|\n",
            "|RETAIL THEFT                 |187530|\n",
            "|TELEPHONE THREAT             |142803|\n",
            "|TO LAND                      |127210|\n",
            "|POSS: CRACK                  |121112|\n",
            "|UNLAWFUL ENTRY               |110128|\n",
            "|HARASSMENT BY TELEPHONE      |106146|\n",
            "|AGGRAVATED: OTHER DANG WEAPON|96758 |\n",
            "|POSS: HEROIN(WHITE)          |95786 |\n",
            "|ARMED: HANDGUN               |93611 |\n",
            "|STRONGARM - NO WEAPON        |91948 |\n",
            "+-----------------------------+------+\n",
            "only showing top 20 rows\n",
            "\n"
          ],
          "name": "stdout"
        }
      ]
    },
    {
      "cell_type": "code",
      "metadata": {
        "id": "VXduNIQmMBoZ"
      },
      "source": [
        "#Facilitate data viswualisation based on dates"
      ],
      "execution_count": 46,
      "outputs": []
    },
    {
      "cell_type": "code",
      "metadata": {
        "id": "XF8Yh-u3EP3K",
        "colab": {
          "base_uri": "https://localhost:8080/"
        },
        "outputId": "9d1012a3-6dfa-4886-c43a-d7233bae73d2"
      },
      "source": [
        "#which of the week has the most crime?\n",
        "from pyspark.sql.functions import dayofweek\n",
        "from pyspark.sql.functions import date_format\n",
        "dfa.select(col('Date'),dayofweek(col('Date')),date_format(col('Date'), 'E')).show(10)\n",
        "# using collect to access row object\n",
        "dfa.groupBy(date_format(col('Date'),'E')).count().collect()\n",
        "dfa.groupBy(date_format(col('Date'),'E')).count().orderBy('count',ascending=False).show(5)"
      ],
      "execution_count": 39,
      "outputs": [
        {
          "output_type": "stream",
          "text": [
            "+-------------------+---------------+--------------------+\n",
            "|               Date|dayofweek(Date)|date_format(Date, E)|\n",
            "+-------------------+---------------+--------------------+\n",
            "|2015-09-05 13:30:00|              7|                 Sat|\n",
            "|2015-09-04 11:30:00|              6|                 Fri|\n",
            "|2018-09-01 00:01:00|              7|                 Sat|\n",
            "|2015-09-05 12:45:00|              7|                 Sat|\n",
            "|2015-09-05 13:00:00|              7|                 Sat|\n",
            "|2015-09-05 10:55:00|              7|                 Sat|\n",
            "|2015-09-04 18:00:00|              6|                 Fri|\n",
            "|2015-09-05 13:00:00|              7|                 Sat|\n",
            "|2015-09-05 11:30:00|              7|                 Sat|\n",
            "|2016-05-01 00:25:00|              1|                 Sun|\n",
            "+-------------------+---------------+--------------------+\n",
            "only showing top 10 rows\n",
            "\n",
            "+--------------------+-------+\n",
            "|date_format(Date, E)|  count|\n",
            "+--------------------+-------+\n",
            "|                 Fri|1101667|\n",
            "|                 Wed|1054390|\n",
            "|                 Sat|1047839|\n",
            "|                 Tue|1047533|\n",
            "|                 Thu|1043688|\n",
            "+--------------------+-------+\n",
            "only showing top 5 rows\n",
            "\n"
          ],
          "name": "stdout"
        }
      ]
    },
    {
      "cell_type": "code",
      "metadata": {
        "colab": {
          "base_uri": "https://localhost:8080/"
        },
        "id": "VCiHEfHV9pUf",
        "outputId": "0714a18c-a251-4ea2-b62d-963e71e7dd4b"
      },
      "source": [
        "# extraction of day of the week and count to plot them\n",
        "dow=[x[0] for x in dfa.groupBy(date_format(col('Date'),'E')).count().collect()]\n",
        "dow\n",
        "cnt=[x[1] for x in dfa.groupBy(date_format(col('Date'),'E')).count().collect()]\n",
        "cnt"
      ],
      "execution_count": 40,
      "outputs": [
        {
          "output_type": "execute_result",
          "data": {
            "text/plain": [
              "[993251, 1034433, 1043688, 1047839, 1054390, 1101667, 1047533]"
            ]
          },
          "metadata": {
            "tags": []
          },
          "execution_count": 40
        }
      ]
    },
    {
      "cell_type": "code",
      "metadata": {
        "colab": {
          "base_uri": "https://localhost:8080/",
          "height": 195
        },
        "id": "MVapHM299sil",
        "outputId": "e00fce3f-e9e4-455f-f08e-55a695011472"
      },
      "source": [
        "cp=pd.DataFrame({'DayOfWeek': dow,'Count':cnt})\n",
        "cp.head()"
      ],
      "execution_count": 42,
      "outputs": [
        {
          "output_type": "execute_result",
          "data": {
            "text/html": [
              "<div>\n",
              "<style scoped>\n",
              "    .dataframe tbody tr th:only-of-type {\n",
              "        vertical-align: middle;\n",
              "    }\n",
              "\n",
              "    .dataframe tbody tr th {\n",
              "        vertical-align: top;\n",
              "    }\n",
              "\n",
              "    .dataframe thead th {\n",
              "        text-align: right;\n",
              "    }\n",
              "</style>\n",
              "<table border=\"1\" class=\"dataframe\">\n",
              "  <thead>\n",
              "    <tr style=\"text-align: right;\">\n",
              "      <th></th>\n",
              "      <th>DayOfWeek</th>\n",
              "      <th>Count</th>\n",
              "    </tr>\n",
              "  </thead>\n",
              "  <tbody>\n",
              "    <tr>\n",
              "      <th>0</th>\n",
              "      <td>Sun</td>\n",
              "      <td>993251</td>\n",
              "    </tr>\n",
              "    <tr>\n",
              "      <th>1</th>\n",
              "      <td>Mon</td>\n",
              "      <td>1034433</td>\n",
              "    </tr>\n",
              "    <tr>\n",
              "      <th>2</th>\n",
              "      <td>Thu</td>\n",
              "      <td>1043688</td>\n",
              "    </tr>\n",
              "    <tr>\n",
              "      <th>3</th>\n",
              "      <td>Sat</td>\n",
              "      <td>1047839</td>\n",
              "    </tr>\n",
              "    <tr>\n",
              "      <th>4</th>\n",
              "      <td>Wed</td>\n",
              "      <td>1054390</td>\n",
              "    </tr>\n",
              "  </tbody>\n",
              "</table>\n",
              "</div>"
            ],
            "text/plain": [
              "  DayOfWeek    Count\n",
              "0       Sun   993251\n",
              "1       Mon  1034433\n",
              "2       Thu  1043688\n",
              "3       Sat  1047839\n",
              "4       Wed  1054390"
            ]
          },
          "metadata": {
            "tags": []
          },
          "execution_count": 42
        }
      ]
    },
    {
      "cell_type": "code",
      "metadata": {
        "colab": {
          "base_uri": "https://localhost:8080/",
          "height": 328
        },
        "id": "GS5SgPwmK9H3",
        "outputId": "b7ebd0d7-c3cf-4a63-c222-96ee00f7c720"
      },
      "source": [
        "cp.sort_values('Count',ascending=False).plot(kind='bar', x='DayOfWeek', y='Count')"
      ],
      "execution_count": 45,
      "outputs": [
        {
          "output_type": "execute_result",
          "data": {
            "text/plain": [
              "<matplotlib.axes._subplots.AxesSubplot at 0x7f21880c2210>"
            ]
          },
          "metadata": {
            "tags": []
          },
          "execution_count": 45
        },
        {
          "output_type": "display_data",
          "data": {
            "image/png": "[encoded data removed]",
            "text/plain": [
              "<Figure size 432x288 with 1 Axes>"
            ]
          },
          "metadata": {
            "tags": []
          }
        }
      ]
    },
    {
      "cell_type": "code",
      "metadata": {
        "colab": {
          "base_uri": "https://localhost:8080/"
        },
        "id": "uxRoJIip95nW",
        "outputId": "f5e791f4-8685-4643-a8b0-bcbe76c70ecb"
      },
      "source": [
        "df = dfa.withColumn('date_time', to_timestamp('date', 'MM/dd/yyyy hh:mm:ss a'))\\\n",
        "       .withColumn('month', trunc('date_time', 'MM'))\n",
        "df.show(5)"
      ],
      "execution_count": 48,
      "outputs": [
        {
          "output_type": "stream",
          "text": [
            "+--------+-----------+-------------------+--------------------+----+------------+--------------------+--------------------+------+--------+----+--------+----+--------------+--------+------------+------------+----+--------------------+------------+-------------+--------------------+-------------------+----------+\n",
            "|      ID|Case Number|               Date|               Block|IUCR|Primary Type|         Description|Location Description|Arrest|Domestic|Beat|District|Ward|Community Area|FBI Code|X Coordinate|Y Coordinate|Year|          Updated On|    Latitude|    Longitude|            Location|          date_time|     month|\n",
            "+--------+-----------+-------------------+--------------------+----+------------+--------------------+--------------------+------+--------+----+--------+----+--------------+--------+------------+------------+----+--------------------+------------+-------------+--------------------+-------------------+----------+\n",
            "|10224738|   HY411648|2015-09-05 13:30:00|     043XX S WOOD ST|0486|     BATTERY|DOMESTIC BATTERY ...|           RESIDENCE| false|    true|0924|     009|  12|            61|     08B|     1165074|     1875917|2015|02/10/2018 03:50:...|41.815117282|-87.669999562|(41.815117282, -8...|2015-09-05 13:30:00|2015-09-01|\n",
            "|10224739|   HY411615|2015-09-04 11:30:00| 008XX N CENTRAL AVE|0870|       THEFT|      POCKET-PICKING|             CTA BUS| false|   false|1511|     015|  29|            25|      06|     1138875|     1904869|2015|02/10/2018 03:50:...|41.895080471|-87.765400451|(41.895080471, -8...|2015-09-04 11:30:00|2015-09-01|\n",
            "|11646166|   JC213529|2018-09-01 00:01:00|082XX S INGLESIDE...|0810|       THEFT|           OVER $500|           RESIDENCE| false|    true|0631|     006|   8|            44|      06|        null|        null|2018|04/06/2019 04:04:...|        null|         null|                null|2018-09-01 00:01:00|2018-09-01|\n",
            "|10224740|   HY411595|2015-09-05 12:45:00|   035XX W BARRY AVE|2023|   NARCOTICS|POSS: HEROIN(BRN/...|            SIDEWALK|  true|   false|1412|     014|  35|            21|      18|     1152037|     1920384|2015|02/10/2018 03:50:...|41.937405765|-87.716649687|(41.937405765, -8...|2015-09-05 12:45:00|2015-09-01|\n",
            "|10224741|   HY411610|2015-09-05 13:00:00| 0000X N LARAMIE AVE|0560|     ASSAULT|              SIMPLE|           APARTMENT| false|    true|1522|     015|  28|            25|     08A|     1141706|     1900086|2015|02/10/2018 03:50:...|41.881903443|-87.755121152|(41.881903443, -8...|2015-09-05 13:00:00|2015-09-01|\n",
            "+--------+-----------+-------------------+--------------------+----+------------+--------------------+--------------------+------+--------+----+--------+----+--------------+--------+------------+------------+----+--------------------+------------+-------------+--------------------+-------------------+----------+\n",
            "only showing top 5 rows\n",
            "\n"
          ],
          "name": "stdout"
        }
      ]
    },
    {
      "cell_type": "code",
      "metadata": {
        "id": "gI53Ek_uOeVP"
      },
      "source": [
        ""
      ],
      "execution_count": null,
      "outputs": []
    },
    {
      "cell_type": "markdown",
      "metadata": {
        "id": "58ApocRmOfPv"
      },
      "source": [
        "# Data analysis base on dates"
      ]
    },
    {
      "cell_type": "code",
      "metadata": {
        "colab": {
          "base_uri": "https://localhost:8080/"
        },
        "id": "Djy0QDu4PhdC",
        "outputId": "ba52d382-639b-4ced-f2be-c78e41ce6c28"
      },
      "source": [
        "# crime types and arrest over years:\n",
        "arrestTypeD = df.groupBy(['Arrest', 'Month']).count().orderBy(['count'], ascending=[True, False]).dropna().show(4, truncate=False)"
      ],
      "execution_count": 53,
      "outputs": [
        {
          "output_type": "stream",
          "text": [
            "+------+----------+-----+\n",
            "|Arrest|Month     |count|\n",
            "+------+----------+-----+\n",
            "|true  |2021-05-01|346  |\n",
            "|true  |2020-04-01|1445 |\n",
            "|true  |2021-02-01|1803 |\n",
            "|true  |2021-04-01|1881 |\n",
            "+------+----------+-----+\n",
            "only showing top 4 rows\n",
            "\n"
          ],
          "name": "stdout"
        }
      ]
    },
    {
      "cell_type": "code",
      "metadata": {
        "colab": {
          "base_uri": "https://localhost:8080/"
        },
        "id": "5GVbhWO--d4Y",
        "outputId": "94c9f76a-0b5a-4ea7-8a2c-e9ecad94cd98"
      },
      "source": [
        "# locations of crimes and arrest over years:\n",
        "arrestLocD = df.groupBy(['Arrest','Location Description', 'Month']).count().orderBy(['count'], ascending=[True, False]).dropna().show(10, truncate=False)\n",
        "arrestLocD = df.groupBy(['Arrest','Location Description', 'Month']).count().orderBy(['count'], ascending=[True, False])"
      ],
      "execution_count": 50,
      "outputs": [
        {
          "output_type": "stream",
          "text": [
            "+------+---------------------------------+----------+-----+\n",
            "|Arrest|Location Description             |Month     |count|\n",
            "+------+---------------------------------+----------+-----+\n",
            "|false |CREDIT UNION                     |2019-09-01|1    |\n",
            "|false |DELIVERY TRUCK                   |2011-07-01|1    |\n",
            "|true  |GAS STATION DRIVE/PROP.          |2003-01-01|1    |\n",
            "|false |HIGHWAY/EXPRESSWAY               |2018-02-01|1    |\n",
            "|false |RETAIL STORE                     |2012-11-01|1    |\n",
            "|true  |YARD                             |2001-09-01|1    |\n",
            "|true  |FOREST PRESERVE                  |2003-07-01|1    |\n",
            "|true  |COLLEGE/UNIVERSITY RESIDENCE HALL|2017-06-01|1    |\n",
            "|true  |PARKING LOT                      |2006-01-01|1    |\n",
            "|true  |RESIDENTIAL YARD (FRONT/BACK)    |2004-09-01|1    |\n",
            "+------+---------------------------------+----------+-----+\n",
            "only showing top 10 rows\n",
            "\n"
          ],
          "name": "stdout"
        }
      ]
    },
    {
      "cell_type": "code",
      "metadata": {
        "colab": {
          "base_uri": "https://localhost:8080/",
          "height": 343
        },
        "id": "tj0GIfnz_I3Z",
        "outputId": "c9b0a146-5c0f-43c5-9526-9dfaac9b2414"
      },
      "source": [
        "## Making dataframe from RDD\n",
        "arrestTypeD = df.groupBy(['Arrest', 'Month']).count().orderBy(['count'], ascending=[True, False]).dropna()\n",
        "arrestLocD = df.groupBy(['Arrest','Location Description', 'Month']).count().orderBy(['count'], ascending=[True, False]).dropna()\n",
        "arrestTypeRDD = pd.DataFrame(arrestTypeD.rdd.map(lambda line: line.asDict()).collect()).dropna()\n",
        "## Adding a column of Year & column for Month's name and dropping na\n",
        "arrestTypeRDD['year_Nm'] = arrestTypeRDD['Month'].apply(lambda dt: datetime.datetime.strftime(pd.Timestamp(dt), '%Y'))\n",
        "arrestTypeRDD['Month_Name'] = arrestTypeRDD['Month'].apply(lambda dt: datetime.datetime.strftime(pd.Timestamp(dt), '%b'))\n",
        "arrestTypeRDD.head(10)"
      ],
      "execution_count": 85,
      "outputs": [
        {
          "output_type": "execute_result",
          "data": {
            "text/html": [
              "<div>\n",
              "<style scoped>\n",
              "    .dataframe tbody tr th:only-of-type {\n",
              "        vertical-align: middle;\n",
              "    }\n",
              "\n",
              "    .dataframe tbody tr th {\n",
              "        vertical-align: top;\n",
              "    }\n",
              "\n",
              "    .dataframe thead th {\n",
              "        text-align: right;\n",
              "    }\n",
              "</style>\n",
              "<table border=\"1\" class=\"dataframe\">\n",
              "  <thead>\n",
              "    <tr style=\"text-align: right;\">\n",
              "      <th></th>\n",
              "      <th>Arrest</th>\n",
              "      <th>Month</th>\n",
              "      <th>count</th>\n",
              "      <th>year_Nm</th>\n",
              "      <th>Month_Name</th>\n",
              "    </tr>\n",
              "  </thead>\n",
              "  <tbody>\n",
              "    <tr>\n",
              "      <th>0</th>\n",
              "      <td>true</td>\n",
              "      <td>2021-05-01</td>\n",
              "      <td>346</td>\n",
              "      <td>2021</td>\n",
              "      <td>May</td>\n",
              "    </tr>\n",
              "    <tr>\n",
              "      <th>1</th>\n",
              "      <td>true</td>\n",
              "      <td>2020-04-01</td>\n",
              "      <td>1445</td>\n",
              "      <td>2020</td>\n",
              "      <td>Apr</td>\n",
              "    </tr>\n",
              "    <tr>\n",
              "      <th>2</th>\n",
              "      <td>true</td>\n",
              "      <td>2021-02-01</td>\n",
              "      <td>1803</td>\n",
              "      <td>2021</td>\n",
              "      <td>Feb</td>\n",
              "    </tr>\n",
              "    <tr>\n",
              "      <th>3</th>\n",
              "      <td>true</td>\n",
              "      <td>2021-04-01</td>\n",
              "      <td>1881</td>\n",
              "      <td>2021</td>\n",
              "      <td>Apr</td>\n",
              "    </tr>\n",
              "    <tr>\n",
              "      <th>4</th>\n",
              "      <td>true</td>\n",
              "      <td>2021-03-01</td>\n",
              "      <td>2137</td>\n",
              "      <td>2021</td>\n",
              "      <td>Mar</td>\n",
              "    </tr>\n",
              "    <tr>\n",
              "      <th>5</th>\n",
              "      <td>true</td>\n",
              "      <td>2021-01-01</td>\n",
              "      <td>2186</td>\n",
              "      <td>2021</td>\n",
              "      <td>Jan</td>\n",
              "    </tr>\n",
              "    <tr>\n",
              "      <th>6</th>\n",
              "      <td>true</td>\n",
              "      <td>2020-12-01</td>\n",
              "      <td>2237</td>\n",
              "      <td>2020</td>\n",
              "      <td>Dec</td>\n",
              "    </tr>\n",
              "    <tr>\n",
              "      <th>7</th>\n",
              "      <td>true</td>\n",
              "      <td>2020-06-01</td>\n",
              "      <td>2304</td>\n",
              "      <td>2020</td>\n",
              "      <td>Jun</td>\n",
              "    </tr>\n",
              "    <tr>\n",
              "      <th>8</th>\n",
              "      <td>true</td>\n",
              "      <td>2020-11-01</td>\n",
              "      <td>2342</td>\n",
              "      <td>2020</td>\n",
              "      <td>Nov</td>\n",
              "    </tr>\n",
              "    <tr>\n",
              "      <th>9</th>\n",
              "      <td>true</td>\n",
              "      <td>2020-10-01</td>\n",
              "      <td>2547</td>\n",
              "      <td>2020</td>\n",
              "      <td>Oct</td>\n",
              "    </tr>\n",
              "  </tbody>\n",
              "</table>\n",
              "</div>"
            ],
            "text/plain": [
              "  Arrest       Month  count year_Nm Month_Name\n",
              "0   true  2021-05-01    346    2021        May\n",
              "1   true  2020-04-01   1445    2020        Apr\n",
              "2   true  2021-02-01   1803    2021        Feb\n",
              "3   true  2021-04-01   1881    2021        Apr\n",
              "4   true  2021-03-01   2137    2021        Mar\n",
              "5   true  2021-01-01   2186    2021        Jan\n",
              "6   true  2020-12-01   2237    2020        Dec\n",
              "7   true  2020-06-01   2304    2020        Jun\n",
              "8   true  2020-11-01   2342    2020        Nov\n",
              "9   true  2020-10-01   2547    2020        Oct"
            ]
          },
          "metadata": {
            "tags": []
          },
          "execution_count": 85
        }
      ]
    },
    {
      "cell_type": "code",
      "metadata": {
        "id": "F4aj0D2u_unt"
      },
      "source": [
        "# Data for plotting\n",
        "\n",
        "arrestYear = arrestTypeRDD[['year_Nm', 'count', 'Arrest']].copy()\n",
        "\n",
        "## Let's filter all False Arrests => we have all True arrests\n",
        "index_nm1 = arrestYear[arrestYear['Arrest'] == 'false' ].index\n",
        "\n",
        "# Delete these row indexes from dataFrame\n",
        "arrestYear.drop(index_nm1 , inplace=True)\n",
        "\n",
        "## Same for False arrests\n",
        "arrestYearNo = arrestTypeRDD[['year_Nm', 'count', 'Arrest']].copy()\n",
        "\n",
        "## Let's filter all True Arrests => we have all False arrests\n",
        "index_nm2 = arrestYearNo[arrestYearNo['Arrest'] == 'true' ].index\n",
        "\n",
        "# Delete these row indexes from dataFrame\n",
        "arrestYearNo.drop(index_nm2 , inplace=True)\n",
        "\n"
      ],
      "execution_count": 86,
      "outputs": []
    },
    {
      "cell_type": "code",
      "metadata": {
        "colab": {
          "base_uri": "https://localhost:8080/",
          "height": 195
        },
        "id": "sa-zKZNoXoEg",
        "outputId": "0914264d-4087-4a24-c380-9e17e96ee16d"
      },
      "source": [
        "arrestYear.head(5)"
      ],
      "execution_count": 87,
      "outputs": [
        {
          "output_type": "execute_result",
          "data": {
            "text/html": [
              "<div>\n",
              "<style scoped>\n",
              "    .dataframe tbody tr th:only-of-type {\n",
              "        vertical-align: middle;\n",
              "    }\n",
              "\n",
              "    .dataframe tbody tr th {\n",
              "        vertical-align: top;\n",
              "    }\n",
              "\n",
              "    .dataframe thead th {\n",
              "        text-align: right;\n",
              "    }\n",
              "</style>\n",
              "<table border=\"1\" class=\"dataframe\">\n",
              "  <thead>\n",
              "    <tr style=\"text-align: right;\">\n",
              "      <th></th>\n",
              "      <th>year_Nm</th>\n",
              "      <th>count</th>\n",
              "      <th>Arrest</th>\n",
              "    </tr>\n",
              "  </thead>\n",
              "  <tbody>\n",
              "    <tr>\n",
              "      <th>0</th>\n",
              "      <td>2021</td>\n",
              "      <td>346</td>\n",
              "      <td>true</td>\n",
              "    </tr>\n",
              "    <tr>\n",
              "      <th>1</th>\n",
              "      <td>2020</td>\n",
              "      <td>1445</td>\n",
              "      <td>true</td>\n",
              "    </tr>\n",
              "    <tr>\n",
              "      <th>2</th>\n",
              "      <td>2021</td>\n",
              "      <td>1803</td>\n",
              "      <td>true</td>\n",
              "    </tr>\n",
              "    <tr>\n",
              "      <th>3</th>\n",
              "      <td>2021</td>\n",
              "      <td>1881</td>\n",
              "      <td>true</td>\n",
              "    </tr>\n",
              "    <tr>\n",
              "      <th>4</th>\n",
              "      <td>2021</td>\n",
              "      <td>2137</td>\n",
              "      <td>true</td>\n",
              "    </tr>\n",
              "  </tbody>\n",
              "</table>\n",
              "</div>"
            ],
            "text/plain": [
              "  year_Nm  count Arrest\n",
              "0    2021    346   true\n",
              "1    2020   1445   true\n",
              "2    2021   1803   true\n",
              "3    2021   1881   true\n",
              "4    2021   2137   true"
            ]
          },
          "metadata": {
            "tags": []
          },
          "execution_count": 87
        }
      ]
    },
    {
      "cell_type": "code",
      "metadata": {
        "colab": {
          "base_uri": "https://localhost:8080/",
          "height": 195
        },
        "id": "HXYF1_xVbJVB",
        "outputId": "511cd58b-f6e3-4adf-ced4-7ece3d135c95"
      },
      "source": [
        "arrestYearNo.head(5)"
      ],
      "execution_count": 88,
      "outputs": [
        {
          "output_type": "execute_result",
          "data": {
            "text/html": [
              "<div>\n",
              "<style scoped>\n",
              "    .dataframe tbody tr th:only-of-type {\n",
              "        vertical-align: middle;\n",
              "    }\n",
              "\n",
              "    .dataframe tbody tr th {\n",
              "        vertical-align: top;\n",
              "    }\n",
              "\n",
              "    .dataframe thead th {\n",
              "        text-align: right;\n",
              "    }\n",
              "</style>\n",
              "<table border=\"1\" class=\"dataframe\">\n",
              "  <thead>\n",
              "    <tr style=\"text-align: right;\">\n",
              "      <th></th>\n",
              "      <th>year_Nm</th>\n",
              "      <th>count</th>\n",
              "      <th>Arrest</th>\n",
              "    </tr>\n",
              "  </thead>\n",
              "  <tbody>\n",
              "    <tr>\n",
              "      <th>12</th>\n",
              "      <td>2021</td>\n",
              "      <td>2757</td>\n",
              "      <td>false</td>\n",
              "    </tr>\n",
              "    <tr>\n",
              "      <th>172</th>\n",
              "      <td>2021</td>\n",
              "      <td>10845</td>\n",
              "      <td>false</td>\n",
              "    </tr>\n",
              "    <tr>\n",
              "      <th>183</th>\n",
              "      <td>2015</td>\n",
              "      <td>11240</td>\n",
              "      <td>false</td>\n",
              "    </tr>\n",
              "    <tr>\n",
              "      <th>190</th>\n",
              "      <td>2020</td>\n",
              "      <td>11403</td>\n",
              "      <td>false</td>\n",
              "    </tr>\n",
              "    <tr>\n",
              "      <th>232</th>\n",
              "      <td>2014</td>\n",
              "      <td>12212</td>\n",
              "      <td>false</td>\n",
              "    </tr>\n",
              "  </tbody>\n",
              "</table>\n",
              "</div>"
            ],
            "text/plain": [
              "    year_Nm  count Arrest\n",
              "12     2021   2757  false\n",
              "172    2021  10845  false\n",
              "183    2015  11240  false\n",
              "190    2020  11403  false\n",
              "232    2014  12212  false"
            ]
          },
          "metadata": {
            "tags": []
          },
          "execution_count": 88
        }
      ]
    },
    {
      "cell_type": "code",
      "metadata": {
        "colab": {
          "base_uri": "https://localhost:8080/"
        },
        "id": "CVPaee57Xrcm",
        "outputId": "d4195a0e-3bda-4662-e13e-fcdb768435ec"
      },
      "source": [
        "#What percentage of reported crimes resulted in an arrest?\n",
        "df.groupby('Arrest').count().show()"
      ],
      "execution_count": 70,
      "outputs": [
        {
          "output_type": "stream",
          "text": [
            "+------+-------+\n",
            "|Arrest|  count|\n",
            "+------+-------+\n",
            "| false|5343211|\n",
            "|  true|1979590|\n",
            "+------+-------+\n",
            "\n"
          ],
          "name": "stdout"
        }
      ]
    },
    {
      "cell_type": "code",
      "metadata": {
        "id": "cL7TfRRJZFtv"
      },
      "source": [
        "arrestYear = arrestYear.groupby(['year_Nm']).sum()\n",
        "arrestYearNo = arrestYearNo.groupby(['year_Nm']).sum()"
      ],
      "execution_count": 89,
      "outputs": []
    },
    {
      "cell_type": "code",
      "metadata": {
        "colab": {
          "base_uri": "https://localhost:8080/",
          "height": 318
        },
        "id": "4PPRCie4ZdiY",
        "outputId": "187f3c0f-fa46-43bd-974f-6947536b9a39"
      },
      "source": [
        "## view  arrests by years \n",
        "\n",
        "fig = plt.figure()\n",
        "ax = fig.add_subplot(1, 1, 1)\n",
        "\n",
        "yr = ['2001','2002','2003','2004','2005','2006','2007','2008','2009','2010', '2011','2012','2013','2014','2015','2016','2017','2018','2019', '2020']\n",
        "ax.plot(yr, arrestYear['count'].drop('2021'), label='Arrest Number')\n",
        "ax.plot(yr, arrestYearNo['count'].drop('2021'), label='no Arrest Number')\n",
        "\n",
        "ax.set(xlabel='Years', ylabel='arrests',title='Arrests per years')\n",
        "ax.grid(b=True, which='both', axis='y')\n",
        "\n",
        "ax.legend()"
      ],
      "execution_count": 128,
      "outputs": [
        {
          "output_type": "execute_result",
          "data": {
            "text/plain": [
              "<matplotlib.legend.Legend at 0x7f2185a3f190>"
            ]
          },
          "metadata": {
            "tags": []
          },
          "execution_count": 128
        },
        {
          "output_type": "display_data",
          "data": {
            "image/png": "[encoded data removed]",
            "text/plain": [
              "<Figure size 432x288 with 1 Axes>"
            ]
          },
          "metadata": {
            "tags": []
          }
        }
      ]
    },
    {
      "cell_type": "code",
      "metadata": {
        "colab": {
          "base_uri": "https://localhost:8080/",
          "height": 318
        },
        "id": "AuqmDgXTZr6_",
        "outputId": "1570dc55-bf6b-4429-9028-5250c81536f9"
      },
      "source": [
        "# Extract the \"hour\" field from the date into a separate column called \"hour\"\n",
        "df_hour = df.withColumn('hour', hour(df['Date']))\n",
        "# Derive a data frame with crime counts per hour of the day:\n",
        "hourly_count = df_hour.groupBy(['Primary Type', 'hour']).count().cache()\n",
        "hourly_total_count = hourly_count.groupBy('hour').sum('count')\n",
        "\n",
        "hourly_count_pddf = pd.DataFrame(hourly_total_count.select(hourly_total_count['hour'], hourly_total_count['sum(count)'].alias('count'))\\\n",
        "                                .rdd.map(lambda l: l.asDict())\\\n",
        "                                 .collect())\n",
        "hourly_count_pddf = hourly_count_pddf.sort_values(by='hour')\n",
        "\n",
        "fig, ax = plt.subplots()\n",
        "ax.plot(hourly_count_pddf['hour'], hourly_count_pddf['count'], label='Hourly Count')\n",
        "\n",
        "ax.set(xlabel='Hour of Day', ylabel='Total records',\n",
        "       title='Overall hourly crime numbers')\n",
        "ax.grid(b=True, which='both', axis='y')\n",
        "ax.legend()"
      ],
      "execution_count": 129,
      "outputs": [
        {
          "output_type": "execute_result",
          "data": {
            "text/plain": [
              "<matplotlib.legend.Legend at 0x7f2185941c10>"
            ]
          },
          "metadata": {
            "tags": []
          },
          "execution_count": 129
        },
        {
          "output_type": "display_data",
          "data": {
            "image/png": "[encoded data removed]",
            "text/plain": [
              "<Figure size 432x288 with 1 Axes>"
            ]
          },
          "metadata": {
            "tags": []
          }
        }
      ]
    },
    {
      "cell_type": "code",
      "metadata": {
        "id": "9SToXOy4kast"
      },
      "source": [
        "\n",
        "import numpy as np\n",
        "from sklearn import svm\n",
        "from sklearn.datasets import make_classification\n",
        "from sklearn.model_selection import train_test_split\n",
        "from sklearn.model_selection import GridSearchCV\n",
        "import pandas as pd\n",
        "import pyspark\n",
        "import pyspark.sql.functions as F\n",
        "from pyspark.sql.types import DoubleType, StringType, ArrayType\n",
        "from pyspark.ml.classification import LogisticRegression\n",
        "from pyspark.ml.classification import DecisionTreeClassifier\n",
        "from pyspark.ml.feature import IndexToString, StringIndexer, VectorAssembler"
      ],
      "execution_count": 137,
      "outputs": []
    },
    {
      "cell_type": "code",
      "metadata": {
        "colab": {
          "base_uri": "https://localhost:8080/"
        },
        "id": "jNkgjcwcnnCu",
        "outputId": "19a9a5db-2904-4f2b-d377-5ba9009dab1b"
      },
      "source": [
        "dfh = df.withColumn('hour', hour(df['date_time'])).dropna()\n",
        "## Count crimes by hours & types\n",
        "hourly_count = dfh.groupBy(['Primary Type', 'hour']).count().cache()\n",
        "hourly_count.show(5)"
      ],
      "execution_count": 154,
      "outputs": [
        {
          "output_type": "stream",
          "text": [
            "+-----------------+----+-----+\n",
            "|     Primary Type|hour|count|\n",
            "+-----------------+----+-----+\n",
            "|WEAPONS VIOLATION|  23| 6402|\n",
            "|        OBSCENITY|  11|   28|\n",
            "|        OBSCENITY|  14|   39|\n",
            "|          ROBBERY|  14|10652|\n",
            "|      SEX OFFENSE|  18| 1155|\n",
            "+-----------------+----+-----+\n",
            "only showing top 5 rows\n",
            "\n"
          ],
          "name": "stdout"
        }
      ]
    },
    {
      "cell_type": "code",
      "metadata": {
        "colab": {
          "base_uri": "https://localhost:8080/"
        },
        "id": "LwBT40B2m72T",
        "outputId": "355cad07-0743-4e5f-c303-a5adddea1efe"
      },
      "source": [
        "# Number of types of location recorded in the dataset\n",
        "#df.select('location_description').distinct().count()\n",
        "dfh.select('Location Description', 'hour', 'Primary Type').distinct()"
      ],
      "execution_count": 155,
      "outputs": [
        {
          "output_type": "execute_result",
          "data": {
            "text/plain": [
              "DataFrame[Location Description: string, hour: int, Primary Type: string]"
            ]
          },
          "metadata": {
            "tags": []
          },
          "execution_count": 155
        }
      ]
    },
    {
      "cell_type": "code",
      "metadata": {
        "colab": {
          "base_uri": "https://localhost:8080/",
          "height": 402
        },
        "id": "LwGQAMMcs2uS",
        "outputId": "22c66144-61c4-4348-ae9c-f68c4205062e"
      },
      "source": [
        "location_hour = pd.DataFrame(dfh.select('Location Description', 'hour', 'Primary Type').distinct().rdd.map(lambda l: l.asDict()).collect())\n",
        "location_hour"
      ],
      "execution_count": 156,
      "outputs": [
        {
          "output_type": "execute_result",
          "data": {
            "text/html": [
              "<div>\n",
              "<style scoped>\n",
              "    .dataframe tbody tr th:only-of-type {\n",
              "        vertical-align: middle;\n",
              "    }\n",
              "\n",
              "    .dataframe tbody tr th {\n",
              "        vertical-align: top;\n",
              "    }\n",
              "\n",
              "    .dataframe thead th {\n",
              "        text-align: right;\n",
              "    }\n",
              "</style>\n",
              "<table border=\"1\" class=\"dataframe\">\n",
              "  <thead>\n",
              "    <tr style=\"text-align: right;\">\n",
              "      <th></th>\n",
              "      <th>Location Description</th>\n",
              "      <th>hour</th>\n",
              "      <th>Primary Type</th>\n",
              "    </tr>\n",
              "  </thead>\n",
              "  <tbody>\n",
              "    <tr>\n",
              "      <th>0</th>\n",
              "      <td>STREET</td>\n",
              "      <td>15</td>\n",
              "      <td>WEAPONS VIOLATION</td>\n",
              "    </tr>\n",
              "    <tr>\n",
              "      <th>1</th>\n",
              "      <td>APARTMENT</td>\n",
              "      <td>23</td>\n",
              "      <td>OTHER OFFENSE</td>\n",
              "    </tr>\n",
              "    <tr>\n",
              "      <th>2</th>\n",
              "      <td>STREET</td>\n",
              "      <td>15</td>\n",
              "      <td>CRIMINAL TRESPASS</td>\n",
              "    </tr>\n",
              "    <tr>\n",
              "      <th>3</th>\n",
              "      <td>STREET</td>\n",
              "      <td>15</td>\n",
              "      <td>BATTERY</td>\n",
              "    </tr>\n",
              "    <tr>\n",
              "      <th>4</th>\n",
              "      <td>GAS STATION</td>\n",
              "      <td>3</td>\n",
              "      <td>THEFT</td>\n",
              "    </tr>\n",
              "    <tr>\n",
              "      <th>...</th>\n",
              "      <td>...</td>\n",
              "      <td>...</td>\n",
              "      <td>...</td>\n",
              "    </tr>\n",
              "    <tr>\n",
              "      <th>38615</th>\n",
              "      <td>POLICE FACILITY / VEHICLE PARKING LOT</td>\n",
              "      <td>8</td>\n",
              "      <td>BATTERY</td>\n",
              "    </tr>\n",
              "    <tr>\n",
              "      <th>38616</th>\n",
              "      <td>GOVERNMENT BUILDING / PROPERTY</td>\n",
              "      <td>12</td>\n",
              "      <td>OFFENSE INVOLVING CHILDREN</td>\n",
              "    </tr>\n",
              "    <tr>\n",
              "      <th>38617</th>\n",
              "      <td>RESIDENCE - GARAGE</td>\n",
              "      <td>14</td>\n",
              "      <td>NARCOTICS</td>\n",
              "    </tr>\n",
              "    <tr>\n",
              "      <th>38618</th>\n",
              "      <td>CHURCH / SYNAGOGUE / PLACE OF WORSHIP</td>\n",
              "      <td>15</td>\n",
              "      <td>NARCOTICS</td>\n",
              "    </tr>\n",
              "    <tr>\n",
              "      <th>38619</th>\n",
              "      <td>NURSING / RETIREMENT HOME</td>\n",
              "      <td>23</td>\n",
              "      <td>SEX OFFENSE</td>\n",
              "    </tr>\n",
              "  </tbody>\n",
              "</table>\n",
              "<p>38620 rows × 3 columns</p>\n",
              "</div>"
            ],
            "text/plain": [
              "                        Location Description  hour                Primary Type\n",
              "0                                     STREET    15           WEAPONS VIOLATION\n",
              "1                                  APARTMENT    23               OTHER OFFENSE\n",
              "2                                     STREET    15           CRIMINAL TRESPASS\n",
              "3                                     STREET    15                     BATTERY\n",
              "4                                GAS STATION     3                       THEFT\n",
              "...                                      ...   ...                         ...\n",
              "38615  POLICE FACILITY / VEHICLE PARKING LOT     8                     BATTERY\n",
              "38616         GOVERNMENT BUILDING / PROPERTY    12  OFFENSE INVOLVING CHILDREN\n",
              "38617                     RESIDENCE - GARAGE    14                   NARCOTICS\n",
              "38618  CHURCH / SYNAGOGUE / PLACE OF WORSHIP    15                   NARCOTICS\n",
              "38619              NURSING / RETIREMENT HOME    23                 SEX OFFENSE\n",
              "\n",
              "[38620 rows x 3 columns]"
            ]
          },
          "metadata": {
            "tags": []
          },
          "execution_count": 156
        }
      ]
    },
    {
      "cell_type": "code",
      "metadata": {
        "colab": {
          "base_uri": "https://localhost:8080/",
          "height": 166
        },
        "id": "EeFiQAmtuRLv",
        "outputId": "bbf70f89-e1ae-42de-a359-08fc78341255"
      },
      "source": [
        "#Being on the street and at home\n",
        "street_home_hour = location_hour.where((location_hour['Location Description'] == 'STREET') | (location_hour['Location Description'] == 'RESIDENCE')).dropna().sort_values(by='hour')\n",
        "street_home_hour.head(4)"
      ],
      "execution_count": 149,
      "outputs": [
        {
          "output_type": "execute_result",
          "data": {
            "text/html": [
              "<div>\n",
              "<style scoped>\n",
              "    .dataframe tbody tr th:only-of-type {\n",
              "        vertical-align: middle;\n",
              "    }\n",
              "\n",
              "    .dataframe tbody tr th {\n",
              "        vertical-align: top;\n",
              "    }\n",
              "\n",
              "    .dataframe thead th {\n",
              "        text-align: right;\n",
              "    }\n",
              "</style>\n",
              "<table border=\"1\" class=\"dataframe\">\n",
              "  <thead>\n",
              "    <tr style=\"text-align: right;\">\n",
              "      <th></th>\n",
              "      <th>Location Description</th>\n",
              "      <th>hour</th>\n",
              "      <th>Primary Type</th>\n",
              "    </tr>\n",
              "  </thead>\n",
              "  <tbody>\n",
              "    <tr>\n",
              "      <th>7586</th>\n",
              "      <td>STREET</td>\n",
              "      <td>0.0</td>\n",
              "      <td>NARCOTICS</td>\n",
              "    </tr>\n",
              "    <tr>\n",
              "      <th>17545</th>\n",
              "      <td>RESIDENCE</td>\n",
              "      <td>0.0</td>\n",
              "      <td>BURGLARY</td>\n",
              "    </tr>\n",
              "    <tr>\n",
              "      <th>26842</th>\n",
              "      <td>STREET</td>\n",
              "      <td>0.0</td>\n",
              "      <td>HOMICIDE</td>\n",
              "    </tr>\n",
              "    <tr>\n",
              "      <th>8371</th>\n",
              "      <td>RESIDENCE</td>\n",
              "      <td>0.0</td>\n",
              "      <td>WEAPONS VIOLATION</td>\n",
              "    </tr>\n",
              "  </tbody>\n",
              "</table>\n",
              "</div>"
            ],
            "text/plain": [
              "      Location Description  hour       Primary Type\n",
              "7586                STREET   0.0          NARCOTICS\n",
              "17545            RESIDENCE   0.0           BURGLARY\n",
              "26842               STREET   0.0           HOMICIDE\n",
              "8371             RESIDENCE   0.0  WEAPONS VIOLATION"
            ]
          },
          "metadata": {
            "tags": []
          },
          "execution_count": 149
        }
      ]
    },
    {
      "cell_type": "code",
      "metadata": {
        "colab": {
          "base_uri": "https://localhost:8080/"
        },
        "id": "1GgflhDUv9uq",
        "outputId": "8aa5d893-9428-4d56-b2e9-c1a3e9f7ba3f"
      },
      "source": [
        "dfh.show(5)"
      ],
      "execution_count": 169,
      "outputs": [
        {
          "output_type": "stream",
          "text": [
            "+--------+-----------+-------------------+-------------------+----+------------+--------------------+--------------------+------+--------+----+--------+----+--------------+--------+------------+------------+----+--------------------+------------+-------------+--------------------+-------------------+----------+----+\n",
            "|      ID|Case Number|               Date|              Block|IUCR|Primary Type|         Description|Location Description|Arrest|Domestic|Beat|District|Ward|Community Area|FBI Code|X Coordinate|Y Coordinate|Year|          Updated On|    Latitude|    Longitude|            Location|          date_time|     month|hour|\n",
            "+--------+-----------+-------------------+-------------------+----+------------+--------------------+--------------------+------+--------+----+--------+----+--------------+--------+------------+------------+----+--------------------+------------+-------------+--------------------+-------------------+----------+----+\n",
            "|10224738|   HY411648|2015-09-05 13:30:00|    043XX S WOOD ST|0486|     BATTERY|DOMESTIC BATTERY ...|           RESIDENCE| false|    true|0924|     009|  12|            61|     08B|     1165074|     1875917|2015|02/10/2018 03:50:...|41.815117282|-87.669999562|(41.815117282, -8...|2015-09-05 13:30:00|2015-09-01|  13|\n",
            "|10224739|   HY411615|2015-09-04 11:30:00|008XX N CENTRAL AVE|0870|       THEFT|      POCKET-PICKING|             CTA BUS| false|   false|1511|     015|  29|            25|      06|     1138875|     1904869|2015|02/10/2018 03:50:...|41.895080471|-87.765400451|(41.895080471, -8...|2015-09-04 11:30:00|2015-09-01|  11|\n",
            "|10224740|   HY411595|2015-09-05 12:45:00|  035XX W BARRY AVE|2023|   NARCOTICS|POSS: HEROIN(BRN/...|            SIDEWALK|  true|   false|1412|     014|  35|            21|      18|     1152037|     1920384|2015|02/10/2018 03:50:...|41.937405765|-87.716649687|(41.937405765, -8...|2015-09-05 12:45:00|2015-09-01|  12|\n",
            "|10224741|   HY411610|2015-09-05 13:00:00|0000X N LARAMIE AVE|0560|     ASSAULT|              SIMPLE|           APARTMENT| false|    true|1522|     015|  28|            25|     08A|     1141706|     1900086|2015|02/10/2018 03:50:...|41.881903443|-87.755121152|(41.881903443, -8...|2015-09-05 13:00:00|2015-09-01|  13|\n",
            "|10224742|   HY411435|2015-09-05 10:55:00|082XX S LOOMIS BLVD|0610|    BURGLARY|      FORCIBLE ENTRY|           RESIDENCE| false|   false|0614|     006|  21|            71|      05|     1168430|     1850165|2015|02/10/2018 03:50:...|41.744378879|-87.658430635|(41.744378879, -8...|2015-09-05 10:55:00|2015-09-01|  10|\n",
            "+--------+-----------+-------------------+-------------------+----+------------+--------------------+--------------------+------+--------+----+--------+----+--------------+--------+------------+------------+----+--------------------+------------+-------------+--------------------+-------------------+----------+----+\n",
            "only showing top 5 rows\n",
            "\n"
          ],
          "name": "stdout"
        }
      ]
    },
    {
      "cell_type": "code",
      "metadata": {
        "id": "j7ACylE1vd4L"
      },
      "source": [
        "#Let's split our date data \n",
        "#=> day of the week, day of the month\n",
        "dfk = dfh.withColumn('week_day', dayofweek(df_hour['Date']))\\\n",
        "                 .withColumn('year_month', month(df_hour['Date']))\\\n",
        "                 .withColumn('month_day', dayofmonth(df_hour['Date']))\\\n",
        "                 .withColumn('date_number', datediff(df['Date'], to_date(lit('2001-01-01'), format='yyyy-MM-dd')))\\\n",
        "                 .cache()"
      ],
      "execution_count": 157,
      "outputs": []
    },
    {
      "cell_type": "code",
      "metadata": {
        "colab": {
          "base_uri": "https://localhost:8080/"
        },
        "id": "vueGufRawZtl",
        "outputId": "1ffef6da-2cd7-4b42-bc02-c7ae97eb5836"
      },
      "source": [
        "dfk.select(['date', 'Month', 'hour', 'week_day', 'Year', 'year_month', 'month_day', 'date_number']).show(20, truncate=False)"
      ],
      "execution_count": 163,
      "outputs": [
        {
          "output_type": "stream",
          "text": [
            "+-------------------+----------+----+--------+----+----------+---------+-----------+\n",
            "|date               |Month     |hour|week_day|Year|year_month|month_day|date_number|\n",
            "+-------------------+----------+----+--------+----+----------+---------+-----------+\n",
            "|2015-09-05 13:30:00|2015-09-01|13  |7       |2015|9         |5        |5360       |\n",
            "|2015-09-04 11:30:00|2015-09-01|11  |6       |2015|9         |4        |5359       |\n",
            "|2015-09-05 12:45:00|2015-09-01|12  |7       |2015|9         |5        |5360       |\n",
            "|2015-09-05 13:00:00|2015-09-01|13  |7       |2015|9         |5        |5360       |\n",
            "|2015-09-05 10:55:00|2015-09-01|10  |7       |2015|9         |5        |5360       |\n",
            "|2015-09-04 18:00:00|2015-09-01|18  |6       |2015|9         |4        |5359       |\n",
            "|2015-09-05 13:00:00|2015-09-01|13  |7       |2015|9         |5        |5360       |\n",
            "|2015-09-05 11:30:00|2015-09-01|11  |7       |2015|9         |5        |5360       |\n",
            "|2015-09-05 14:00:00|2015-09-01|14  |7       |2015|9         |5        |5360       |\n",
            "|2015-09-05 11:00:00|2015-09-01|11  |7       |2015|9         |5        |5360       |\n",
            "|2015-09-05 03:00:00|2015-09-01|3   |7       |2015|9         |5        |5360       |\n",
            "|2015-09-05 12:50:00|2015-09-01|12  |7       |2015|9         |5        |5360       |\n",
            "|2015-09-03 13:00:00|2015-09-01|13  |5       |2015|9         |3        |5358       |\n",
            "|2015-09-05 11:45:00|2015-09-01|11  |7       |2015|9         |5        |5360       |\n",
            "|2015-09-05 13:30:00|2015-09-01|13  |7       |2015|9         |5        |5360       |\n",
            "|2015-07-08 00:00:00|2015-07-01|0   |4       |2015|7         |8        |5301       |\n",
            "|2015-09-05 09:55:00|2015-09-01|9   |7       |2015|9         |5        |5360       |\n",
            "|2015-09-05 12:35:00|2015-09-01|12  |7       |2015|9         |5        |5360       |\n",
            "|2015-09-04 22:30:00|2015-09-01|22  |6       |2015|9         |4        |5359       |\n",
            "|2015-09-02 00:01:00|2015-09-01|0   |4       |2015|9         |2        |5357       |\n",
            "+-------------------+----------+----+--------+----+----------+---------+-----------+\n",
            "only showing top 20 rows\n",
            "\n"
          ],
          "name": "stdout"
        }
      ]
    },
    {
      "cell_type": "code",
      "metadata": {
        "colab": {
          "base_uri": "https://localhost:8080/"
        },
        "id": "w1O4LQPX1a6q",
        "outputId": "3c1864d0-b61d-455b-ee9f-e8dd1029c65e"
      },
      "source": [
        "dfk.show(5)"
      ],
      "execution_count": 170,
      "outputs": [
        {
          "output_type": "stream",
          "text": [
            "+--------+-----------+-------------------+-------------------+----+------------+--------------------+--------------------+------+--------+----+--------+----+--------------+--------+------------+------------+----+--------------------+------------+-------------+--------------------+-------------------+----------+----+--------+----------+---------+-----------+\n",
            "|      ID|Case Number|               Date|              Block|IUCR|Primary Type|         Description|Location Description|Arrest|Domestic|Beat|District|Ward|Community Area|FBI Code|X Coordinate|Y Coordinate|Year|          Updated On|    Latitude|    Longitude|            Location|          date_time|     month|hour|week_day|year_month|month_day|date_number|\n",
            "+--------+-----------+-------------------+-------------------+----+------------+--------------------+--------------------+------+--------+----+--------+----+--------------+--------+------------+------------+----+--------------------+------------+-------------+--------------------+-------------------+----------+----+--------+----------+---------+-----------+\n",
            "|10224738|   HY411648|2015-09-05 13:30:00|    043XX S WOOD ST|0486|     BATTERY|DOMESTIC BATTERY ...|           RESIDENCE| false|    true|0924|     009|  12|            61|     08B|     1165074|     1875917|2015|02/10/2018 03:50:...|41.815117282|-87.669999562|(41.815117282, -8...|2015-09-05 13:30:00|2015-09-01|  13|       7|         9|        5|       5360|\n",
            "|10224739|   HY411615|2015-09-04 11:30:00|008XX N CENTRAL AVE|0870|       THEFT|      POCKET-PICKING|             CTA BUS| false|   false|1511|     015|  29|            25|      06|     1138875|     1904869|2015|02/10/2018 03:50:...|41.895080471|-87.765400451|(41.895080471, -8...|2015-09-04 11:30:00|2015-09-01|  11|       6|         9|        4|       5359|\n",
            "|10224740|   HY411595|2015-09-05 12:45:00|  035XX W BARRY AVE|2023|   NARCOTICS|POSS: HEROIN(BRN/...|            SIDEWALK|  true|   false|1412|     014|  35|            21|      18|     1152037|     1920384|2015|02/10/2018 03:50:...|41.937405765|-87.716649687|(41.937405765, -8...|2015-09-05 12:45:00|2015-09-01|  12|       7|         9|        5|       5360|\n",
            "|10224741|   HY411610|2015-09-05 13:00:00|0000X N LARAMIE AVE|0560|     ASSAULT|              SIMPLE|           APARTMENT| false|    true|1522|     015|  28|            25|     08A|     1141706|     1900086|2015|02/10/2018 03:50:...|41.881903443|-87.755121152|(41.881903443, -8...|2015-09-05 13:00:00|2015-09-01|  13|       7|         9|        5|       5360|\n",
            "|10224742|   HY411435|2015-09-05 10:55:00|082XX S LOOMIS BLVD|0610|    BURGLARY|      FORCIBLE ENTRY|           RESIDENCE| false|   false|0614|     006|  21|            71|      05|     1168430|     1850165|2015|02/10/2018 03:50:...|41.744378879|-87.658430635|(41.744378879, -8...|2015-09-05 10:55:00|2015-09-01|  10|       7|         9|        5|       5360|\n",
            "+--------+-----------+-------------------+-------------------+----+------------+--------------------+--------------------+------+--------+----+--------+----+--------------+--------+------------+------------+----+--------------------+------------+-------------+--------------------+-------------------+----------+----+--------+----------+---------+-----------+\n",
            "only showing top 5 rows\n",
            "\n"
          ],
          "name": "stdout"
        }
      ]
    },
    {
      "cell_type": "markdown",
      "metadata": {
        "id": "XPNNp8zj4SJO"
      },
      "source": [
        "# The model description"
      ]
    },
    {
      "cell_type": "code",
      "metadata": {
        "id": "o5ZNKiks4VdC"
      },
      "source": [
        "#1-Logistic Regression\n",
        "features = [\n",
        " 'Location Description',\n",
        " 'Arrest',\n",
        " 'Domestic',\n",
        " 'Beat',\n",
        " 'District',\n",
        " 'Ward',\n",
        " 'Community Area',\n",
        " 'FBI Code',\n",
        " 'hour',\n",
        " 'week_day',\n",
        " 'year_month',\n",
        " 'month_day',\n",
        " 'date_number']"
      ],
      "execution_count": 173,
      "outputs": []
    },
    {
      "cell_type": "code",
      "metadata": {
        "colab": {
          "base_uri": "https://localhost:8080/"
        },
        "id": "Y6AqPT4J4gEm",
        "outputId": "ddf407e6-d2dd-4a9e-9b76-008d014f83f3"
      },
      "source": [
        "#Let's see the schema of these selected features:\n",
        "dffet = dfk.select(features)\n",
        "dffet.printSchema()"
      ],
      "execution_count": 176,
      "outputs": [
        {
          "output_type": "stream",
          "text": [
            "root\n",
            " |-- Location Description: string (nullable = true)\n",
            " |-- Arrest: string (nullable = true)\n",
            " |-- Domestic: string (nullable = true)\n",
            " |-- Beat: string (nullable = true)\n",
            " |-- District: string (nullable = true)\n",
            " |-- Ward: string (nullable = true)\n",
            " |-- Community Area: string (nullable = true)\n",
            " |-- FBI Code: string (nullable = true)\n",
            " |-- hour: integer (nullable = true)\n",
            " |-- week_day: integer (nullable = true)\n",
            " |-- year_month: integer (nullable = true)\n",
            " |-- month_day: integer (nullable = true)\n",
            " |-- date_number: integer (nullable = true)\n",
            "\n"
          ],
          "name": "stdout"
        }
      ]
    },
    {
      "cell_type": "code",
      "metadata": {
        "colab": {
          "base_uri": "https://localhost:8080/"
        },
        "id": "u7KoMQgF-jVy",
        "outputId": "17d1894b-c7e4-47b5-9cfd-f79489981f22"
      },
      "source": [
        "#  counts all selected features...\n",
        "featureCount = []\n",
        "\n",
        "for feature in features:\n",
        "    print('Analysing %s' % feature)\n",
        "    df_li = dffet.select(feature).distinct()\n",
        "    featureCount.append({'feature': feature, 'level_count': df_li.count()})"
      ],
      "execution_count": 177,
      "outputs": [
        {
          "output_type": "stream",
          "text": [
            "Analysing Location Description\n",
            "Analysing Arrest\n",
            "Analysing Domestic\n",
            "Analysing Beat\n",
            "Analysing District\n",
            "Analysing Ward\n",
            "Analysing Community Area\n",
            "Analysing FBI Code\n",
            "Analysing hour\n",
            "Analysing week_day\n",
            "Analysing year_month\n",
            "Analysing month_day\n",
            "Analysing date_number\n"
          ],
          "name": "stdout"
        }
      ]
    },
    {
      "cell_type": "code",
      "metadata": {
        "colab": {
          "base_uri": "https://localhost:8080/",
          "height": 432
        },
        "id": "3HxzEpOn_vHF",
        "outputId": "fadc9364-6602-4a86-ddae-8cae39a67b1b"
      },
      "source": [
        "pd.DataFrame(featureCount).sort_values(by='level_count', ascending=False)"
      ],
      "execution_count": 178,
      "outputs": [
        {
          "output_type": "execute_result",
          "data": {
            "text/html": [
              "<div>\n",
              "<style scoped>\n",
              "    .dataframe tbody tr th:only-of-type {\n",
              "        vertical-align: middle;\n",
              "    }\n",
              "\n",
              "    .dataframe tbody tr th {\n",
              "        vertical-align: top;\n",
              "    }\n",
              "\n",
              "    .dataframe thead th {\n",
              "        text-align: right;\n",
              "    }\n",
              "</style>\n",
              "<table border=\"1\" class=\"dataframe\">\n",
              "  <thead>\n",
              "    <tr style=\"text-align: right;\">\n",
              "      <th></th>\n",
              "      <th>feature</th>\n",
              "      <th>level_count</th>\n",
              "    </tr>\n",
              "  </thead>\n",
              "  <tbody>\n",
              "    <tr>\n",
              "      <th>12</th>\n",
              "      <td>date_number</td>\n",
              "      <td>7428</td>\n",
              "    </tr>\n",
              "    <tr>\n",
              "      <th>3</th>\n",
              "      <td>Beat</td>\n",
              "      <td>303</td>\n",
              "    </tr>\n",
              "    <tr>\n",
              "      <th>0</th>\n",
              "      <td>Location Description</td>\n",
              "      <td>214</td>\n",
              "    </tr>\n",
              "    <tr>\n",
              "      <th>6</th>\n",
              "      <td>Community Area</td>\n",
              "      <td>78</td>\n",
              "    </tr>\n",
              "    <tr>\n",
              "      <th>5</th>\n",
              "      <td>Ward</td>\n",
              "      <td>50</td>\n",
              "    </tr>\n",
              "    <tr>\n",
              "      <th>11</th>\n",
              "      <td>month_day</td>\n",
              "      <td>31</td>\n",
              "    </tr>\n",
              "    <tr>\n",
              "      <th>7</th>\n",
              "      <td>FBI Code</td>\n",
              "      <td>26</td>\n",
              "    </tr>\n",
              "    <tr>\n",
              "      <th>4</th>\n",
              "      <td>District</td>\n",
              "      <td>24</td>\n",
              "    </tr>\n",
              "    <tr>\n",
              "      <th>8</th>\n",
              "      <td>hour</td>\n",
              "      <td>24</td>\n",
              "    </tr>\n",
              "    <tr>\n",
              "      <th>10</th>\n",
              "      <td>year_month</td>\n",
              "      <td>12</td>\n",
              "    </tr>\n",
              "    <tr>\n",
              "      <th>9</th>\n",
              "      <td>week_day</td>\n",
              "      <td>7</td>\n",
              "    </tr>\n",
              "    <tr>\n",
              "      <th>1</th>\n",
              "      <td>Arrest</td>\n",
              "      <td>2</td>\n",
              "    </tr>\n",
              "    <tr>\n",
              "      <th>2</th>\n",
              "      <td>Domestic</td>\n",
              "      <td>2</td>\n",
              "    </tr>\n",
              "  </tbody>\n",
              "</table>\n",
              "</div>"
            ],
            "text/plain": [
              "                 feature  level_count\n",
              "12           date_number         7428\n",
              "3                   Beat          303\n",
              "0   Location Description          214\n",
              "6         Community Area           78\n",
              "5                   Ward           50\n",
              "11             month_day           31\n",
              "7               FBI Code           26\n",
              "4               District           24\n",
              "8                   hour           24\n",
              "10            year_month           12\n",
              "9               week_day            7\n",
              "1                 Arrest            2\n",
              "2               Domestic            2"
            ]
          },
          "metadata": {
            "tags": []
          },
          "execution_count": 178
        }
      ]
    },
    {
      "cell_type": "code",
      "metadata": {
        "id": "yuhu4RDFAPhr"
      },
      "source": [
        ""
      ],
      "execution_count": null,
      "outputs": []
    },
    {
      "cell_type": "markdown",
      "metadata": {
        "id": "3MkRdxAlAYXs"
      },
      "source": [
        "# ML prepration"
      ]
    },
    {
      "cell_type": "code",
      "metadata": {
        "id": "V3HJRpRRAccY"
      },
      "source": [
        "from pyspark.ml.feature import StringIndexer, VectorAssembler\n",
        "dfDateFeatures = dfk.na.drop(subset=features)"
      ],
      "execution_count": 179,
      "outputs": []
    },
    {
      "cell_type": "code",
      "metadata": {
        "colab": {
          "base_uri": "https://localhost:8080/"
        },
        "id": "FM1OVqc5A7yI",
        "outputId": "8c8e28ba-a1f7-4823-a5a6-62b8fe3c9275"
      },
      "source": [
        "#use Spark's string indexer to index selected features\n",
        "for feature in featureCount:\n",
        "    indexer = StringIndexer(inputCol=feature['feature'], outputCol='%s_indexed' % feature['feature'])\n",
        "    print('Fitting feature \"%s\"' % feature['feature'])\n",
        "    model = indexer.fit(dfDateFeatures)\n",
        "    print('Transforming \"%s\"' % feature['feature'])\n",
        "    dfDateFeatures = model.transform(dfDateFeatures)"
      ],
      "execution_count": 180,
      "outputs": [
        {
          "output_type": "stream",
          "text": [
            "Fitting feature \"Location Description\"\n",
            "Transforming \"Location Description\"\n",
            "Fitting feature \"Arrest\"\n",
            "Transforming \"Arrest\"\n",
            "Fitting feature \"Domestic\"\n",
            "Transforming \"Domestic\"\n",
            "Fitting feature \"Beat\"\n",
            "Transforming \"Beat\"\n",
            "Fitting feature \"District\"\n",
            "Transforming \"District\"\n",
            "Fitting feature \"Ward\"\n",
            "Transforming \"Ward\"\n",
            "Fitting feature \"Community Area\"\n",
            "Transforming \"Community Area\"\n",
            "Fitting feature \"FBI Code\"\n",
            "Transforming \"FBI Code\"\n",
            "Fitting feature \"hour\"\n",
            "Transforming \"hour\"\n",
            "Fitting feature \"week_day\"\n",
            "Transforming \"week_day\"\n",
            "Fitting feature \"year_month\"\n",
            "Transforming \"year_month\"\n",
            "Fitting feature \"month_day\"\n",
            "Transforming \"month_day\"\n",
            "Fitting feature \"date_number\"\n",
            "Transforming \"date_number\"\n"
          ],
          "name": "stdout"
        }
      ]
    },
    {
      "cell_type": "code",
      "metadata": {
        "id": "V68HZWQBBPLg"
      },
      "source": [
        "## String-index the response variable:\n",
        "response_indexer = StringIndexer(inputCol='Primary Type', outputCol='primary_type_inx')\n",
        "response_model = response_indexer.fit(dfDateFeatures)\n",
        "dfDateFeatures = response_model.transform(dfDateFeatures)"
      ],
      "execution_count": 181,
      "outputs": []
    },
    {
      "cell_type": "code",
      "metadata": {
        "colab": {
          "base_uri": "https://localhost:8080/"
        },
        "id": "aqbwh1HtCW-T",
        "outputId": "9703b23d-366b-4911-8ba3-3b26af63aa0e"
      },
      "source": [
        "\n",
        "# vectorize the features\n",
        "# use a vector assembler to vectorize all predictors into a features column\n",
        "indexed_features = ['%s_indexed' % fc['feature'] for fc in featureCount]\n",
        "indexed_features"
      ],
      "execution_count": 183,
      "outputs": [
        {
          "output_type": "execute_result",
          "data": {
            "text/plain": [
              "['Location Description_indexed',\n",
              " 'Arrest_indexed',\n",
              " 'Domestic_indexed',\n",
              " 'Beat_indexed',\n",
              " 'District_indexed',\n",
              " 'Ward_indexed',\n",
              " 'Community Area_indexed',\n",
              " 'FBI Code_indexed',\n",
              " 'hour_indexed',\n",
              " 'week_day_indexed',\n",
              " 'year_month_indexed',\n",
              " 'month_day_indexed',\n",
              " 'date_number_indexed']"
            ]
          },
          "metadata": {
            "tags": []
          },
          "execution_count": 183
        }
      ]
    },
    {
      "cell_type": "code",
      "metadata": {
        "id": "9aPTMrfMHsqo"
      },
      "source": [
        "assembler = VectorAssembler(inputCols=indexed_features, outputCol='features')\n",
        "vectorized_df_dates = assembler.transform(dfDateFeatures)"
      ],
      "execution_count": 184,
      "outputs": []
    },
    {
      "cell_type": "code",
      "metadata": {
        "colab": {
          "base_uri": "https://localhost:8080/"
        },
        "id": "WlXHehEIIHN2",
        "outputId": "c2e7208f-19c6-4f6b-8c8f-0caaaa4d27c1"
      },
      "source": [
        "vectorized_df_dates.select('features').take(1)"
      ],
      "execution_count": 185,
      "outputs": [
        {
          "output_type": "execute_result",
          "data": {
            "text/plain": [
              "[Row(features=DenseVector([1.0, 0.0, 1.0, 137.0, 7.0, 37.0, 16.0, 1.0, 11.0, 2.0, 5.0, 11.0, 4963.0]))]"
            ]
          },
          "metadata": {
            "tags": []
          },
          "execution_count": 185
        }
      ]
    },
    {
      "cell_type": "code",
      "metadata": {
        "id": "xINVyYrCINNZ"
      },
      "source": [
        "\n",
        "#Now let's train the model.\n",
        "# using 80% to 20% split between the train and the test datasets\n",
        "# train a logistic regression."
      ],
      "execution_count": 186,
      "outputs": []
    },
    {
      "cell_type": "code",
      "metadata": {
        "id": "3WmlHa-QIVzB"
      },
      "source": [
        "train, test = vectorized_df_dates.randomSplit([0.8, 0.2])\n"
      ],
      "execution_count": 189,
      "outputs": []
    },
    {
      "cell_type": "code",
      "metadata": {
        "id": "sXIj2tYhJXMu"
      },
      "source": [
        "from pyspark.ml.classification import LogisticRegression\n",
        "logisticRegression = LogisticRegression(labelCol='primary_type_inx', featuresCol='features', maxIter=10, family='multinomial')\n",
        "fittedModel = logisticRegression.fit(train)"
      ],
      "execution_count": 190,
      "outputs": []
    },
    {
      "cell_type": "code",
      "metadata": {
        "colab": {
          "base_uri": "https://localhost:8080/"
        },
        "id": "NIo3-6brIclE",
        "outputId": "b9816710-2e93-4a16-9f41-6ebf2c46851d"
      },
      "source": [
        "#Model performance analysis\n",
        "fittedModel.summary.accuracy"
      ],
      "execution_count": 218,
      "outputs": [
        {
          "output_type": "execute_result",
          "data": {
            "text/plain": [
              "0.4843752088391358"
            ]
          },
          "metadata": {
            "tags": []
          },
          "execution_count": 218
        }
      ]
    },
    {
      "cell_type": "code",
      "metadata": {
        "id": "SGHLUXIvSF-l"
      },
      "source": [
        "model_summary = fittedModel.summary"
      ],
      "execution_count": 219,
      "outputs": []
    },
    {
      "cell_type": "code",
      "metadata": {
        "colab": {
          "base_uri": "https://localhost:8080/"
        },
        "id": "2pUzc6_WSL8U",
        "outputId": "2fabbcc8-aefb-49df-cfb9-3aa74fb53bb6"
      },
      "source": [
        "fittedModel.coefficientMatrix"
      ],
      "execution_count": 220,
      "outputs": [
        {
          "output_type": "execute_result",
          "data": {
            "text/plain": [
              "DenseMatrix(35, 13, [0.0171, -1.5948, -2.3527, 0.0029, 0.0509, 0.0062, 0.0026, -1.2389, ..., 0.0, 0.0, -0.0, -0.0, 0.0, 0.0, -0.0, 0.0], 1)"
            ]
          },
          "metadata": {
            "tags": []
          },
          "execution_count": 220
        }
      ]
    },
    {
      "cell_type": "code",
      "metadata": {
        "colab": {
          "base_uri": "https://localhost:8080/"
        },
        "id": "jVLUTAyAYf-x",
        "outputId": "3a64b299-a012-4e21-f7bd-a417df341901"
      },
      "source": [
        "print(fittedModel.coefficientMatrix)"
      ],
      "execution_count": 232,
      "outputs": [
        {
          "output_type": "stream",
          "text": [
            "DenseMatrix([[ 1.70907688e-02, -1.59475732e+00, -2.35269124e+00,\n",
            "               2.89089181e-03,  5.09363625e-02,  6.23432293e-03,\n",
            "               2.60880087e-03, -1.23890499e+00,  4.46014800e-02,\n",
            "               1.24546376e-01,  4.49727935e-02,  3.16857683e-02,\n",
            "               1.43434310e-04],\n",
            "             [ 1.44794226e-02, -3.03566735e-01,  2.55016661e+00,\n",
            "               1.61167971e-03,  2.19476133e-02,  3.41357551e-04,\n",
            "               1.84392602e-03, -3.50363437e-01,  2.88474629e-02,\n",
            "               9.04388932e-02,  1.87964538e-02,  1.75247542e-02,\n",
            "              -4.95134677e-06],\n",
            "             [-2.08694741e-03, -2.49861438e+00,  5.35906035e-01,\n",
            "               9.63386301e-04,  1.01603743e-02,  1.47014524e-02,\n",
            "               4.86175798e-03, -3.92596992e-01,  4.33505965e-02,\n",
            "               1.10181756e-01,  3.39154134e-02,  2.50324365e-02,\n",
            "               7.79251263e-05],\n",
            "             [-4.06756581e-02,  6.69135993e+00, -2.28019395e+00,\n",
            "              -3.53104857e-03, -4.49675571e-02, -3.21416665e-02,\n",
            "              -1.48471865e-02, -1.69731745e-01, -9.78688802e-02,\n",
            "              -1.02682610e-01, -1.26043283e-02, -2.20406671e-02,\n",
            "              -2.53408933e-04],\n",
            "             [ 4.71965424e-03, -7.80495166e-01,  2.53195119e+00,\n",
            "              -6.30175163e-04, -1.03716931e-02, -2.19302393e-03,\n",
            "               2.42928220e-03,  1.94047173e-01, -1.76595647e-02,\n",
            "              -2.97827126e-02, -3.99771714e-02, -7.78864213e-03,\n",
            "              -7.87567781e-08],\n",
            "             [-1.91903352e-02, -8.05885407e-01,  3.34812394e+00,\n",
            "               4.14868422e-04,  1.67846609e-02,  1.14365487e-02,\n",
            "               7.15342143e-03, -1.38391125e-01,  8.31178277e-03,\n",
            "               3.44611548e-02,  2.46851548e-02,  1.90266757e-03,\n",
            "               1.88964315e-05],\n",
            "             [ 3.09885955e-03, -1.98571176e+00, -1.36201461e+00,\n",
            "               1.99147428e-05, -9.16359490e-03,  1.92187666e-02,\n",
            "               4.71043907e-03,  4.38701404e-02,  5.19015156e-02,\n",
            "              -1.77641435e-03,  6.40654328e-03,  4.69304603e-03,\n",
            "              -2.50462240e-05],\n",
            "             [-4.15669701e-02, -1.58912551e+00, -1.19581824e+00,\n",
            "               3.11038045e-04, -1.13019191e-02,  9.61043326e-03,\n",
            "               3.54239215e-03,  1.93274762e-01,  4.41490421e-03,\n",
            "              -1.09710704e-02,  6.07270018e-03, -3.50517527e-03,\n",
            "              -3.03966807e-05],\n",
            "             [ 2.36586321e-02, -1.41255716e+00, -1.11745363e+00,\n",
            "               6.87480719e-05,  1.21530080e-02, -2.77174744e-03,\n",
            "              -2.42979095e-03,  3.19940114e-01, -4.99535677e-02,\n",
            "              -1.49292590e-01, -4.81660914e-02, -3.45224151e-02,\n",
            "               8.29266803e-05],\n",
            "             [-1.39600290e-03, -1.36385208e+00, -8.54105678e-01,\n",
            "              -8.02379268e-04, -1.43173326e-02, -5.92025517e-03,\n",
            "              -4.12793899e-03,  2.40283964e-01,  9.10472635e-03,\n",
            "              -1.15873118e-02, -1.10657060e-02, -3.09917642e-03,\n",
            "              -9.88322659e-06],\n",
            "             [ 3.93521167e-02,  1.82501648e+00, -4.20530145e-01,\n",
            "               9.08593885e-04,  1.66080047e-02, -1.18278576e-02,\n",
            "              -3.17910597e-04, -1.08964508e-01, -1.22724453e-02,\n",
            "              -1.92945351e-02, -2.24995598e-04, -4.54855418e-03,\n",
            "              -5.98461063e-05],\n",
            "             [-6.54622377e-03,  1.08718383e+00, -3.82472507e-01,\n",
            "              -2.20519635e-03, -2.87502270e-02, -1.09754951e-02,\n",
            "              -5.32757067e-03,  2.15498651e-01, -2.25371271e-02,\n",
            "              -4.10493164e-02, -2.81938773e-02, -9.42534962e-03,\n",
            "               5.68625810e-05],\n",
            "             [-1.44603985e-02,  1.33729119e+00, -2.85517226e-01,\n",
            "              -5.78592981e-04, -2.19846027e-02, -8.01667763e-03,\n",
            "              -6.66780443e-03,  1.96652088e-01, -1.39943519e-04,\n",
            "              -4.84337160e-02, -5.02925377e-03, -3.99898200e-03,\n",
            "              -1.08468189e-04],\n",
            "             [ 8.57885884e-04,  5.70279950e-01, -9.09983839e-02,\n",
            "              -1.16076912e-04, -1.32302609e-04,  2.05204558e-03,\n",
            "               3.39115599e-04,  1.34209120e-01, -8.93711500e-03,\n",
            "              -5.13124852e-03, -8.17075452e-03, -4.58118287e-04,\n",
            "              -2.46350620e-06],\n",
            "             [-3.66208237e-03, -1.58926082e-01,  1.29232775e+00,\n",
            "              -2.80784529e-04, -2.92265497e-03,  2.13545985e-03,\n",
            "               2.16354761e-03,  1.56757652e-01, -7.57844165e-03,\n",
            "              -3.09450074e-03,  6.41189011e-03, -3.45961192e-03,\n",
            "               2.23773559e-05],\n",
            "             [ 6.58980199e-04, -1.18316940e-01,  9.20478290e-02,\n",
            "               1.05929093e-04,  1.11116144e-03,  4.72578672e-04,\n",
            "               7.80683406e-05,  1.24159790e-01,  9.74534788e-03,\n",
            "               1.10978850e-02,  1.73035681e-03, -2.21120061e-04,\n",
            "               1.13210285e-05],\n",
            "             [ 2.84753387e-03, -6.23099396e-03,  2.33368649e-02,\n",
            "               3.74244400e-04,  4.05313644e-03,  3.28013338e-03,\n",
            "               1.50583351e-03,  1.30309500e-01,  2.59177598e-03,\n",
            "               2.55833685e-03, -2.13464605e-03, -1.39158180e-03,\n",
            "              -6.48050275e-07],\n",
            "             [-5.70538717e-04,  4.17188869e-01, -7.23337355e-02,\n",
            "              -1.56030925e-04, -1.04859106e-03, -1.00319070e-03,\n",
            "              -5.36719410e-04,  7.02288085e-02,  4.59914603e-04,\n",
            "               1.07342509e-02,  3.78837641e-03,  2.43510064e-03,\n",
            "               3.95855224e-05],\n",
            "             [ 1.80900151e-04,  3.69948710e-01, -6.01260139e-02,\n",
            "              -2.08885154e-04, -4.10293425e-04, -2.11793616e-03,\n",
            "              -1.16316002e-03,  8.95681265e-02, -4.03843465e-03,\n",
            "               8.75581643e-03, -7.14179741e-03,  2.76032215e-03,\n",
            "              -1.35410688e-05],\n",
            "             [ 3.77341351e-03,  3.31318649e-01, -5.72367058e-02,\n",
            "               3.88572948e-04,  5.97561324e-03,  3.25361093e-03,\n",
            "               1.00375462e-03,  8.68080453e-02, -2.81951821e-03,\n",
            "              -2.25319721e-03,  1.85072996e-03,  1.33961476e-03,\n",
            "              -1.02598680e-05],\n",
            "             [ 2.03687761e-03, -5.84383701e-02, -1.48985363e-02,\n",
            "               8.36211670e-05,  2.77159770e-04,  1.33407027e-03,\n",
            "               7.54785851e-04,  8.15751193e-02,  8.52566615e-03,\n",
            "               8.30570405e-03,  2.11507295e-03,  1.60861534e-03,\n",
            "               6.07855323e-06],\n",
            "             [ 1.42101944e-02,  7.64969265e-02, -3.90005791e-03,\n",
            "              -9.73275924e-05, -1.41789349e-03, -6.17696432e-04,\n",
            "              -2.51233621e-04,  8.45181851e-02,  4.72166429e-03,\n",
            "               8.35199986e-03,  4.98272204e-04,  1.29291759e-03,\n",
            "               2.09712228e-05],\n",
            "             [-1.01520662e-04, -2.92480028e-02,  6.65197696e-02,\n",
            "               1.08163313e-04,  1.81301448e-03,  1.31547891e-03,\n",
            "               1.03148291e-03,  1.25960952e-02,  2.32064407e-03,\n",
            "               4.07955711e-03,  3.71366132e-03,  1.42473685e-03,\n",
            "               2.40871515e-06],\n",
            "             [ 4.56966710e-04, -1.21096380e-02,  1.39053864e-02,\n",
            "               1.13360554e-04,  1.60184540e-03,  7.10488617e-04,\n",
            "               5.60605116e-04, -8.03695278e-04,  1.16369195e-03,\n",
            "               3.58417454e-03,  2.17465176e-03,  9.38568932e-04,\n",
            "               3.00403077e-06],\n",
            "             [ 9.28292812e-05, -1.18387517e-02,  8.11918735e-02,\n",
            "               1.08027239e-04,  1.46684030e-03,  6.48439761e-04,\n",
            "               5.51506644e-04,  3.50423158e-03,  1.49900854e-03,\n",
            "               3.64850008e-03,  2.35106505e-03,  7.68283861e-04,\n",
            "               6.57273106e-06],\n",
            "             [ 1.75664634e-03, -1.68069884e-02,  1.59693060e-02,\n",
            "               6.84401247e-05,  1.12703914e-03,  2.98109012e-04,\n",
            "               1.40311496e-04,  1.49278270e-02,  1.46331196e-03,\n",
            "               2.82677430e-03,  1.98749528e-03,  5.42460317e-04,\n",
            "               1.74725538e-05],\n",
            "             [ 6.27194480e-04,  2.04412903e-02, -3.29388585e-03,\n",
            "               1.57342422e-05,  1.13154644e-04,  1.93564167e-04,\n",
            "               1.53185988e-04,  2.75189623e-03,  4.03266149e-04,\n",
            "               7.01158801e-04,  4.36491819e-04,  2.36720645e-04,\n",
            "               4.52328611e-06],\n",
            "             [ 8.60544133e-05,  1.48307557e-02,  3.81110511e-03,\n",
            "               2.79765962e-05,  3.21088579e-04,  2.10263387e-04,\n",
            "               1.51478538e-04,  3.33688096e-03,  2.11979525e-04,\n",
            "               6.52755905e-04,  5.21458296e-04,  1.40377019e-04,\n",
            "               2.68586469e-06],\n",
            "             [ 9.99649883e-05,  4.41723644e-03, -6.15375554e-04,\n",
            "               4.75595266e-06,  7.66265598e-05,  1.73709761e-05,\n",
            "               1.33920561e-05,  9.22416046e-04,  8.43601920e-05,\n",
            "               1.27966431e-04,  3.84877363e-05,  3.95374595e-05,\n",
            "               3.98331864e-07],\n",
            "             [ 1.14002085e-04, -1.04131635e-03, -7.16635837e-04,\n",
            "               1.13037519e-05,  1.22513219e-04,  6.63477553e-05,\n",
            "               4.10534109e-05,  2.80090018e-06,  4.27420198e-05,\n",
            "               4.77265868e-05,  8.97943618e-05,  5.60419555e-05,\n",
            "               8.55349842e-07],\n",
            "             [ 2.56959060e-05,  2.28794836e-03, -5.70969633e-04,\n",
            "               6.14147581e-06,  1.33971513e-04,  5.03920306e-05,\n",
            "               1.92013449e-05,  2.23969755e-05,  1.26333063e-05,\n",
            "               1.67389565e-04,  7.00079323e-05,  2.87103915e-05,\n",
            "               1.67828864e-07],\n",
            "             [ 1.14532942e-05, -3.28165642e-04, -4.85750029e-05,\n",
            "               6.32420356e-07,  1.24989229e-05, -2.58689679e-06,\n",
            "               1.21679474e-06, -1.78390310e-05,  5.03718435e-06,\n",
            "               3.72800203e-05,  4.90737933e-05,  5.97365928e-06,\n",
            "               3.44561095e-07],\n",
            "             [ 1.55005165e-05, -6.99478420e-05, -1.79106245e-04,\n",
            "               1.28797930e-06,  5.10809926e-06,  8.93690689e-06,\n",
            "               9.23071768e-06, -1.18239379e-05,  2.17846206e-05,\n",
            "               2.20088465e-05,  1.33838700e-05,  6.63960589e-06,\n",
            "               1.85836044e-07],\n",
            "             [ 2.36399550e-06, -7.44919899e-05,  9.63488740e-05,\n",
            "              -8.00024776e-07, -5.99154489e-06, -2.27070386e-06,\n",
            "              -1.89332135e-07,  2.39464512e-05,  6.75264136e-07,\n",
            "               1.09277421e-05,  1.39869795e-05, -3.87053785e-06,\n",
            "              -3.58647857e-08],\n",
            "             [ 2.76618308e-06, -6.65496183e-05,  3.61200586e-04,\n",
            "              -1.47780686e-08, -6.14189851e-06,  2.32558649e-07,\n",
            "               1.71422160e-06, -3.57943432e-06, -9.33979499e-07,\n",
            "               1.08294311e-05,  5.30616582e-06, -2.95275236e-08,\n",
            "               2.99210334e-08]])\n"
          ],
          "name": "stdout"
        }
      ]
    },
    {
      "cell_type": "code",
      "metadata": {
        "colab": {
          "base_uri": "https://localhost:8080/"
        },
        "id": "xUNW82qvKDab",
        "outputId": "ffbfd264-1da9-47f7-f522-5d95f381e824"
      },
      "source": [
        "print('Model:\\nNum Classes = %s\\nNum Features = %s' % (fittedModel.numClasses, fittedModel.numFeatures))\n"
      ],
      "execution_count": 222,
      "outputs": [
        {
          "output_type": "stream",
          "text": [
            "Model:\n",
            "Num Classes = 35\n",
            "Num Features = 13\n",
            "Coefficient matrix:\n",
            "Row count = 35\n",
            "Col count = 13\n"
          ],
          "name": "stdout"
        }
      ]
    },
    {
      "cell_type": "code",
      "metadata": {
        "id": "8lwn4DkXb__j"
      },
      "source": [
        "print('Coefficient matrix:\\nRow count = %s\\nCol count = %s' % (fittedModel.coefficientMatrix.numRows, fittedModel.coefficientMatrix.numCols))"
      ],
      "execution_count": null,
      "outputs": []
    },
    {
      "cell_type": "code",
      "metadata": {
        "colab": {
          "base_uri": "https://localhost:8080/"
        },
        "id": "O7ndqT_6b1m5",
        "outputId": "27294f3e-33a7-42df-fa6c-88630519c21b"
      },
      "source": [
        "print('Training \"Primary Type\" factor level count = %s' % train.select('primary_type_inx').distinct().count())"
      ],
      "execution_count": 238,
      "outputs": [
        {
          "output_type": "stream",
          "text": [
            "Training \"Primary Type\" factor level count = 35\n"
          ],
          "name": "stdout"
        }
      ]
    },
    {
      "cell_type": "code",
      "metadata": {
        "colab": {
          "base_uri": "https://localhost:8080/"
        },
        "id": "s1GwkeqLM81X",
        "outputId": "b7bf55bc-ecbb-4449-c199-95e3f9be83c7"
      },
      "source": [
        "vectorized_df_dates.select('features').show(2, truncate=False)"
      ],
      "execution_count": 223,
      "outputs": [
        {
          "output_type": "stream",
          "text": [
            "+---------------------------------------------------------------+\n",
            "|features                                                       |\n",
            "+---------------------------------------------------------------+\n",
            "|[1.0,0.0,1.0,137.0,7.0,37.0,16.0,1.0,11.0,2.0,5.0,11.0,4963.0] |\n",
            "|[29.0,0.0,0.0,112.0,13.0,18.0,0.0,0.0,13.0,0.0,5.0,25.0,4407.0]|\n",
            "+---------------------------------------------------------------+\n",
            "only showing top 2 rows\n",
            "\n"
          ],
          "name": "stdout"
        }
      ]
    },
    {
      "cell_type": "code",
      "metadata": {
        "colab": {
          "base_uri": "https://localhost:8080/",
          "height": 286
        },
        "id": "7Tou1Lt3M_Zr",
        "outputId": "a479be1a-7930-473b-99fd-bcc1ab3b4fa4"
      },
      "source": [
        "sns.barplot(y=model_summary.objectiveHistory, x=list(range(len(model_summary.objectiveHistory))))"
      ],
      "execution_count": 233,
      "outputs": [
        {
          "output_type": "execute_result",
          "data": {
            "text/plain": [
              "<matplotlib.axes._subplots.AxesSubplot at 0x7f2181aeff50>"
            ]
          },
          "metadata": {
            "tags": []
          },
          "execution_count": 233
        },
        {
          "output_type": "display_data",
          "data": {
            "image/png": "[encoded data removed]",
            "text/plain": [
              "<Figure size 432x288 with 1 Axes>"
            ]
          },
          "metadata": {
            "tags": []
          }
        }
      ]
    },
    {
      "cell_type": "code",
      "metadata": {
        "colab": {
          "base_uri": "https://localhost:8080/"
        },
        "id": "xDlbCnpEThUK",
        "outputId": "95d89341-cfc8-4f83-a0b3-339a2a9c4ddd"
      },
      "source": [
        "\n",
        "print('Training \"primary_type\" factor level count = %s' % train.select('primary_type_inx').distinct().count())"
      ],
      "execution_count": 217,
      "outputs": [
        {
          "output_type": "stream",
          "text": [
            "Training \"primary_type\" factor level count = 35\n"
          ],
          "name": "stdout"
        }
      ]
    },
    {
      "cell_type": "code",
      "metadata": {
        "colab": {
          "base_uri": "https://localhost:8080/"
        },
        "id": "Tl9l5zOzTWJm",
        "outputId": "af24231d-9f85-4dc2-c63a-20282093894d"
      },
      "source": [
        "fittedModel.interceptVector.values.size"
      ],
      "execution_count": 215,
      "outputs": [
        {
          "output_type": "execute_result",
          "data": {
            "text/plain": [
              "35"
            ]
          },
          "metadata": {
            "tags": []
          },
          "execution_count": 215
        }
      ]
    },
    {
      "cell_type": "code",
      "metadata": {
        "colab": {
          "base_uri": "https://localhost:8080/"
        },
        "id": "2dMj2_GaQ84t",
        "outputId": "906135ca-177b-466c-ef58-1f34a34f4bee"
      },
      "source": [
        "print(model_summary.objectiveHistory)\n",
        "print()\n",
        "print('Objective history size ', len(model_summary.objectiveHistory))"
      ],
      "execution_count": 236,
      "outputs": [
        {
          "output_type": "stream",
          "text": [
            "[2.4151677605431026, 2.1195337091774324, 2.0206846482560894, 1.8998655772783497, 1.8311240293790527, 1.7897183223612496, 1.7020473524048687, 1.6432047447001628, 1.621218052070375, 1.6070109146866467, 1.5890302427661933]\n",
            "\n",
            "Objective history size  11\n"
          ],
          "name": "stdout"
        }
      ]
    },
    {
      "cell_type": "code",
      "metadata": {
        "colab": {
          "base_uri": "https://localhost:8080/"
        },
        "id": "m_W-zlRKNN3L",
        "outputId": "52689a99-997c-4246-e994-a11af5c60b80"
      },
      "source": [
        "label_stats = {float(i):{'index': float(i)} for i in range(34)}\n",
        "print(label_stats)"
      ],
      "execution_count": 204,
      "outputs": [
        {
          "output_type": "stream",
          "text": [
            "{0.0: {'index': 0.0}, 1.0: {'index': 1.0}, 2.0: {'index': 2.0}, 3.0: {'index': 3.0}, 4.0: {'index': 4.0}, 5.0: {'index': 5.0}, 6.0: {'index': 6.0}, 7.0: {'index': 7.0}, 8.0: {'index': 8.0}, 9.0: {'index': 9.0}, 10.0: {'index': 10.0}, 11.0: {'index': 11.0}, 12.0: {'index': 12.0}, 13.0: {'index': 13.0}, 14.0: {'index': 14.0}, 15.0: {'index': 15.0}, 16.0: {'index': 16.0}, 17.0: {'index': 17.0}, 18.0: {'index': 18.0}, 19.0: {'index': 19.0}, 20.0: {'index': 20.0}, 21.0: {'index': 21.0}, 22.0: {'index': 22.0}, 23.0: {'index': 23.0}, 24.0: {'index': 24.0}, 25.0: {'index': 25.0}, 26.0: {'index': 26.0}, 27.0: {'index': 27.0}, 28.0: {'index': 28.0}, 29.0: {'index': 29.0}, 30.0: {'index': 30.0}, 31.0: {'index': 31.0}, 32.0: {'index': 32.0}, 33.0: {'index': 33.0}}\n"
          ],
          "name": "stdout"
        }
      ]
    },
    {
      "cell_type": "code",
      "metadata": {
        "colab": {
          "base_uri": "https://localhost:8080/",
          "height": 255
        },
        "id": "y_UgRZGcNtsf",
        "outputId": "16c4d61d-43cd-4033-bb79-73f75c774384"
      },
      "source": [
        "\n",
        "print(\"False positive rate by label:\")\n",
        "for i, rate in enumerate(model_summary.falsePositiveRateByLabel):\n",
        "    label_stats[i]['false_positive_rate'] = rate\n",
        "    \n",
        "for i, rate in enumerate(model_summary.truePositiveRateByLabel):\n",
        "    label_stats[i]['true_positive_rate'] = rate\n",
        "    \n",
        "for i, rate in enumerate(model_summary.precisionByLabel):\n",
        "    label_stats[i]['precision_rate'] = rate\n",
        "    \n",
        "for i, rate in enumerate(model_summary.recallByLabel):\n",
        "    label_stats[i]['recall_rate'] = rate\n",
        "    \n",
        "for i, rate in enumerate(model_summary.fMeasureByLabel()):\n",
        "    label_stats[i]['f_measure'] = rate"
      ],
      "execution_count": 235,
      "outputs": [
        {
          "output_type": "stream",
          "text": [
            "False positive rate by label:\n"
          ],
          "name": "stdout"
        },
        {
          "output_type": "error",
          "ename": "KeyError",
          "evalue": "ignored",
          "traceback": [
            "\u001b[0;31m---------------------------------------------------------------------------\u001b[0m",
            "\u001b[0;31mKeyError\u001b[0m                                  Traceback (most recent call last)",
            "\u001b[0;32m<ipython-input-235-328270f6dff8>\u001b[0m in \u001b[0;36m<module>\u001b[0;34m()\u001b[0m\n\u001b[1;32m      2\u001b[0m \u001b[0mprint\u001b[0m\u001b[0;34m(\u001b[0m\u001b[0;34m\"False positive rate by label:\"\u001b[0m\u001b[0;34m)\u001b[0m\u001b[0;34m\u001b[0m\u001b[0;34m\u001b[0m\u001b[0m\n\u001b[1;32m      3\u001b[0m \u001b[0;32mfor\u001b[0m \u001b[0mi\u001b[0m\u001b[0;34m,\u001b[0m \u001b[0mrate\u001b[0m \u001b[0;32min\u001b[0m \u001b[0menumerate\u001b[0m\u001b[0;34m(\u001b[0m\u001b[0mmodel_summary\u001b[0m\u001b[0;34m.\u001b[0m\u001b[0mfalsePositiveRateByLabel\u001b[0m\u001b[0;34m)\u001b[0m\u001b[0;34m:\u001b[0m\u001b[0;34m\u001b[0m\u001b[0;34m\u001b[0m\u001b[0m\n\u001b[0;32m----> 4\u001b[0;31m     \u001b[0mlabel_stats\u001b[0m\u001b[0;34m[\u001b[0m\u001b[0mi\u001b[0m\u001b[0;34m]\u001b[0m\u001b[0;34m[\u001b[0m\u001b[0;34m'false_positive_rate'\u001b[0m\u001b[0;34m]\u001b[0m \u001b[0;34m=\u001b[0m \u001b[0mrate\u001b[0m\u001b[0;34m\u001b[0m\u001b[0;34m\u001b[0m\u001b[0m\n\u001b[0m\u001b[1;32m      5\u001b[0m \u001b[0;34m\u001b[0m\u001b[0m\n\u001b[1;32m      6\u001b[0m \u001b[0;32mfor\u001b[0m \u001b[0mi\u001b[0m\u001b[0;34m,\u001b[0m \u001b[0mrate\u001b[0m \u001b[0;32min\u001b[0m \u001b[0menumerate\u001b[0m\u001b[0;34m(\u001b[0m\u001b[0mmodel_summary\u001b[0m\u001b[0;34m.\u001b[0m\u001b[0mtruePositiveRateByLabel\u001b[0m\u001b[0;34m)\u001b[0m\u001b[0;34m:\u001b[0m\u001b[0;34m\u001b[0m\u001b[0;34m\u001b[0m\u001b[0m\n",
            "\u001b[0;31mKeyError\u001b[0m: 34"
          ]
        }
      ]
    },
    {
      "cell_type": "code",
      "metadata": {
        "id": "zD1HiCtrNxM_"
      },
      "source": [
        "train_rdd = train.select(['Primary Type', 'primary_type_inx']).distinct().orderBy('primary_type_inx').rdd.map(lambda l: l.asDict()).collect()"
      ],
      "execution_count": 197,
      "outputs": []
    },
    {
      "cell_type": "code",
      "metadata": {
        "colab": {
          "base_uri": "https://localhost:8080/",
          "height": 818
        },
        "id": "tQzRttbfN2LH",
        "outputId": "68c321f7-bd23-4370-b48e-4eec182783ff"
      },
      "source": [
        "for l in train_rdd:\n",
        "    print(l)\n",
        "    label_stats[l['primary_type_inx']]['Primary Type'] = l['Primary Type']"
      ],
      "execution_count": 199,
      "outputs": [
        {
          "output_type": "stream",
          "text": [
            "{'Primary Type': 'THEFT', 'primary_type_inx': 0.0}\n",
            "{'Primary Type': 'BATTERY', 'primary_type_inx': 1.0}\n",
            "{'Primary Type': 'CRIMINAL DAMAGE', 'primary_type_inx': 2.0}\n",
            "{'Primary Type': 'NARCOTICS', 'primary_type_inx': 3.0}\n",
            "{'Primary Type': 'ASSAULT', 'primary_type_inx': 4.0}\n",
            "{'Primary Type': 'OTHER OFFENSE', 'primary_type_inx': 5.0}\n",
            "{'Primary Type': 'BURGLARY', 'primary_type_inx': 6.0}\n",
            "{'Primary Type': 'MOTOR VEHICLE THEFT', 'primary_type_inx': 7.0}\n",
            "{'Primary Type': 'DECEPTIVE PRACTICE', 'primary_type_inx': 8.0}\n",
            "{'Primary Type': 'ROBBERY', 'primary_type_inx': 9.0}\n",
            "{'Primary Type': 'CRIMINAL TRESPASS', 'primary_type_inx': 10.0}\n",
            "{'Primary Type': 'WEAPONS VIOLATION', 'primary_type_inx': 11.0}\n",
            "{'Primary Type': 'PROSTITUTION', 'primary_type_inx': 12.0}\n",
            "{'Primary Type': 'PUBLIC PEACE VIOLATION', 'primary_type_inx': 13.0}\n",
            "{'Primary Type': 'OFFENSE INVOLVING CHILDREN', 'primary_type_inx': 14.0}\n",
            "{'Primary Type': 'CRIM SEXUAL ASSAULT', 'primary_type_inx': 15.0}\n",
            "{'Primary Type': 'SEX OFFENSE', 'primary_type_inx': 16.0}\n",
            "{'Primary Type': 'INTERFERENCE WITH PUBLIC OFFICER', 'primary_type_inx': 17.0}\n",
            "{'Primary Type': 'GAMBLING', 'primary_type_inx': 18.0}\n",
            "{'Primary Type': 'LIQUOR LAW VIOLATION', 'primary_type_inx': 19.0}\n",
            "{'Primary Type': 'ARSON', 'primary_type_inx': 20.0}\n",
            "{'Primary Type': 'HOMICIDE', 'primary_type_inx': 21.0}\n",
            "{'Primary Type': 'KIDNAPPING', 'primary_type_inx': 22.0}\n",
            "{'Primary Type': 'INTIMIDATION', 'primary_type_inx': 23.0}\n",
            "{'Primary Type': 'STALKING', 'primary_type_inx': 24.0}\n",
            "{'Primary Type': 'CRIMINAL SEXUAL ASSAULT', 'primary_type_inx': 25.0}\n",
            "{'Primary Type': 'CONCEALED CARRY LICENSE VIOLATION', 'primary_type_inx': 26.0}\n",
            "{'Primary Type': 'OBSCENITY', 'primary_type_inx': 27.0}\n",
            "{'Primary Type': 'PUBLIC INDECENCY', 'primary_type_inx': 28.0}\n",
            "{'Primary Type': 'NON-CRIMINAL', 'primary_type_inx': 29.0}\n",
            "{'Primary Type': 'OTHER NARCOTIC VIOLATION', 'primary_type_inx': 30.0}\n",
            "{'Primary Type': 'HUMAN TRAFFICKING', 'primary_type_inx': 31.0}\n",
            "{'Primary Type': 'NON - CRIMINAL', 'primary_type_inx': 32.0}\n",
            "{'Primary Type': 'RITUALISM', 'primary_type_inx': 33.0}\n",
            "{'Primary Type': 'NON-CRIMINAL (SUBJECT SPECIFIED)', 'primary_type_inx': 34.0}\n"
          ],
          "name": "stdout"
        },
        {
          "output_type": "error",
          "ename": "KeyError",
          "evalue": "ignored",
          "traceback": [
            "\u001b[0;31m---------------------------------------------------------------------------\u001b[0m",
            "\u001b[0;31mKeyError\u001b[0m                                  Traceback (most recent call last)",
            "\u001b[0;32m<ipython-input-199-df841f269177>\u001b[0m in \u001b[0;36m<module>\u001b[0;34m()\u001b[0m\n\u001b[1;32m      1\u001b[0m \u001b[0;32mfor\u001b[0m \u001b[0ml\u001b[0m \u001b[0;32min\u001b[0m \u001b[0mtrain_rdd\u001b[0m\u001b[0;34m:\u001b[0m\u001b[0;34m\u001b[0m\u001b[0;34m\u001b[0m\u001b[0m\n\u001b[1;32m      2\u001b[0m     \u001b[0mprint\u001b[0m\u001b[0;34m(\u001b[0m\u001b[0ml\u001b[0m\u001b[0;34m)\u001b[0m\u001b[0;34m\u001b[0m\u001b[0;34m\u001b[0m\u001b[0m\n\u001b[0;32m----> 3\u001b[0;31m     \u001b[0mlabel_stats\u001b[0m\u001b[0;34m[\u001b[0m\u001b[0ml\u001b[0m\u001b[0;34m[\u001b[0m\u001b[0;34m'primary_type_inx'\u001b[0m\u001b[0;34m]\u001b[0m\u001b[0;34m]\u001b[0m\u001b[0;34m[\u001b[0m\u001b[0;34m'Primary Type'\u001b[0m\u001b[0;34m]\u001b[0m \u001b[0;34m=\u001b[0m \u001b[0ml\u001b[0m\u001b[0;34m[\u001b[0m\u001b[0;34m'Primary Type'\u001b[0m\u001b[0;34m]\u001b[0m\u001b[0;34m\u001b[0m\u001b[0;34m\u001b[0m\u001b[0m\n\u001b[0m",
            "\u001b[0;31mKeyError\u001b[0m: 34.0"
          ]
        }
      ]
    },
    {
      "cell_type": "code",
      "metadata": {
        "id": "37QtlBJyPpqs"
      },
      "source": [
        "rates_pddf = pd.DataFrame(list(label_stats.values()))"
      ],
      "execution_count": 200,
      "outputs": []
    },
    {
      "cell_type": "code",
      "metadata": {
        "colab": {
          "base_uri": "https://localhost:8080/",
          "height": 314
        },
        "id": "_h4Zw7WOQER4",
        "outputId": "905bd984-c67f-4e09-c1c6-fbfa19b4831e"
      },
      "source": [
        "rates_pddf = rates_pddf.sort_values(by='precision_rate', ascending=False)"
      ],
      "execution_count": 213,
      "outputs": [
        {
          "output_type": "error",
          "ename": "KeyError",
          "evalue": "ignored",
          "traceback": [
            "\u001b[0;31m---------------------------------------------------------------------------\u001b[0m",
            "\u001b[0;31mKeyError\u001b[0m                                  Traceback (most recent call last)",
            "\u001b[0;32m<ipython-input-213-39347a5c62df>\u001b[0m in \u001b[0;36m<module>\u001b[0;34m()\u001b[0m\n\u001b[0;32m----> 1\u001b[0;31m \u001b[0mrates_pddf\u001b[0m \u001b[0;34m=\u001b[0m \u001b[0mrates_pddf\u001b[0m\u001b[0;34m.\u001b[0m\u001b[0msort_values\u001b[0m\u001b[0;34m(\u001b[0m\u001b[0mby\u001b[0m\u001b[0;34m=\u001b[0m\u001b[0;34m'precision_rate'\u001b[0m\u001b[0;34m,\u001b[0m \u001b[0mascending\u001b[0m\u001b[0;34m=\u001b[0m\u001b[0;32mFalse\u001b[0m\u001b[0;34m)\u001b[0m\u001b[0;34m\u001b[0m\u001b[0;34m\u001b[0m\u001b[0m\n\u001b[0m",
            "\u001b[0;32m/usr/local/lib/python3.7/dist-packages/pandas/core/frame.py\u001b[0m in \u001b[0;36msort_values\u001b[0;34m(self, by, axis, ascending, inplace, kind, na_position, ignore_index, key)\u001b[0m\n\u001b[1;32m   5296\u001b[0m \u001b[0;34m\u001b[0m\u001b[0m\n\u001b[1;32m   5297\u001b[0m             \u001b[0mby\u001b[0m \u001b[0;34m=\u001b[0m \u001b[0mby\u001b[0m\u001b[0;34m[\u001b[0m\u001b[0;36m0\u001b[0m\u001b[0;34m]\u001b[0m\u001b[0;34m\u001b[0m\u001b[0;34m\u001b[0m\u001b[0m\n\u001b[0;32m-> 5298\u001b[0;31m             \u001b[0mk\u001b[0m \u001b[0;34m=\u001b[0m \u001b[0mself\u001b[0m\u001b[0;34m.\u001b[0m\u001b[0m_get_label_or_level_values\u001b[0m\u001b[0;34m(\u001b[0m\u001b[0mby\u001b[0m\u001b[0;34m,\u001b[0m \u001b[0maxis\u001b[0m\u001b[0;34m=\u001b[0m\u001b[0maxis\u001b[0m\u001b[0;34m)\u001b[0m\u001b[0;34m\u001b[0m\u001b[0;34m\u001b[0m\u001b[0m\n\u001b[0m\u001b[1;32m   5299\u001b[0m \u001b[0;34m\u001b[0m\u001b[0m\n\u001b[1;32m   5300\u001b[0m             \u001b[0;31m# need to rewrap column in Series to apply key function\u001b[0m\u001b[0;34m\u001b[0m\u001b[0;34m\u001b[0m\u001b[0;34m\u001b[0m\u001b[0m\n",
            "\u001b[0;32m/usr/local/lib/python3.7/dist-packages/pandas/core/generic.py\u001b[0m in \u001b[0;36m_get_label_or_level_values\u001b[0;34m(self, key, axis)\u001b[0m\n\u001b[1;32m   1561\u001b[0m             \u001b[0mvalues\u001b[0m \u001b[0;34m=\u001b[0m \u001b[0mself\u001b[0m\u001b[0;34m.\u001b[0m\u001b[0maxes\u001b[0m\u001b[0;34m[\u001b[0m\u001b[0maxis\u001b[0m\u001b[0;34m]\u001b[0m\u001b[0;34m.\u001b[0m\u001b[0mget_level_values\u001b[0m\u001b[0;34m(\u001b[0m\u001b[0mkey\u001b[0m\u001b[0;34m)\u001b[0m\u001b[0;34m.\u001b[0m\u001b[0m_values\u001b[0m\u001b[0;34m\u001b[0m\u001b[0;34m\u001b[0m\u001b[0m\n\u001b[1;32m   1562\u001b[0m         \u001b[0;32melse\u001b[0m\u001b[0;34m:\u001b[0m\u001b[0;34m\u001b[0m\u001b[0;34m\u001b[0m\u001b[0m\n\u001b[0;32m-> 1563\u001b[0;31m             \u001b[0;32mraise\u001b[0m \u001b[0mKeyError\u001b[0m\u001b[0;34m(\u001b[0m\u001b[0mkey\u001b[0m\u001b[0;34m)\u001b[0m\u001b[0;34m\u001b[0m\u001b[0;34m\u001b[0m\u001b[0m\n\u001b[0m\u001b[1;32m   1564\u001b[0m \u001b[0;34m\u001b[0m\u001b[0m\n\u001b[1;32m   1565\u001b[0m         \u001b[0;31m# Check for duplicates\u001b[0m\u001b[0;34m\u001b[0m\u001b[0;34m\u001b[0m\u001b[0;34m\u001b[0m\u001b[0m\n",
            "\u001b[0;31mKeyError\u001b[0m: 'precision_rate'"
          ]
        }
      ]
    },
    {
      "cell_type": "code",
      "metadata": {
        "colab": {
          "base_uri": "https://localhost:8080/",
          "height": 1000
        },
        "id": "_QccOy8EQG_M",
        "outputId": "d5549ff5-5be0-4040-d588-e23049e28039"
      },
      "source": [
        "rates_pddf"
      ],
      "execution_count": 202,
      "outputs": [
        {
          "output_type": "execute_result",
          "data": {
            "text/html": [
              "<div>\n",
              "<style scoped>\n",
              "    .dataframe tbody tr th:only-of-type {\n",
              "        vertical-align: middle;\n",
              "    }\n",
              "\n",
              "    .dataframe tbody tr th {\n",
              "        vertical-align: top;\n",
              "    }\n",
              "\n",
              "    .dataframe thead th {\n",
              "        text-align: right;\n",
              "    }\n",
              "</style>\n",
              "<table border=\"1\" class=\"dataframe\">\n",
              "  <thead>\n",
              "    <tr style=\"text-align: right;\">\n",
              "      <th></th>\n",
              "      <th>index</th>\n",
              "      <th>false_positive_rate</th>\n",
              "      <th>Primary Type</th>\n",
              "    </tr>\n",
              "  </thead>\n",
              "  <tbody>\n",
              "    <tr>\n",
              "      <th>0</th>\n",
              "      <td>0.0</td>\n",
              "      <td>0.136515</td>\n",
              "      <td>THEFT</td>\n",
              "    </tr>\n",
              "    <tr>\n",
              "      <th>1</th>\n",
              "      <td>1.0</td>\n",
              "      <td>0.108553</td>\n",
              "      <td>BATTERY</td>\n",
              "    </tr>\n",
              "    <tr>\n",
              "      <th>2</th>\n",
              "      <td>2.0</td>\n",
              "      <td>0.052871</td>\n",
              "      <td>CRIMINAL DAMAGE</td>\n",
              "    </tr>\n",
              "    <tr>\n",
              "      <th>3</th>\n",
              "      <td>3.0</td>\n",
              "      <td>0.084646</td>\n",
              "      <td>NARCOTICS</td>\n",
              "    </tr>\n",
              "    <tr>\n",
              "      <th>4</th>\n",
              "      <td>4.0</td>\n",
              "      <td>0.017917</td>\n",
              "      <td>ASSAULT</td>\n",
              "    </tr>\n",
              "    <tr>\n",
              "      <th>5</th>\n",
              "      <td>5.0</td>\n",
              "      <td>0.011925</td>\n",
              "      <td>OTHER OFFENSE</td>\n",
              "    </tr>\n",
              "    <tr>\n",
              "      <th>6</th>\n",
              "      <td>6.0</td>\n",
              "      <td>0.069116</td>\n",
              "      <td>BURGLARY</td>\n",
              "    </tr>\n",
              "    <tr>\n",
              "      <th>7</th>\n",
              "      <td>7.0</td>\n",
              "      <td>0.033149</td>\n",
              "      <td>MOTOR VEHICLE THEFT</td>\n",
              "    </tr>\n",
              "    <tr>\n",
              "      <th>8</th>\n",
              "      <td>8.0</td>\n",
              "      <td>0.043687</td>\n",
              "      <td>DECEPTIVE PRACTICE</td>\n",
              "    </tr>\n",
              "    <tr>\n",
              "      <th>9</th>\n",
              "      <td>9.0</td>\n",
              "      <td>0.018390</td>\n",
              "      <td>ROBBERY</td>\n",
              "    </tr>\n",
              "    <tr>\n",
              "      <th>10</th>\n",
              "      <td>10.0</td>\n",
              "      <td>0.006661</td>\n",
              "      <td>CRIMINAL TRESPASS</td>\n",
              "    </tr>\n",
              "    <tr>\n",
              "      <th>11</th>\n",
              "      <td>11.0</td>\n",
              "      <td>0.004339</td>\n",
              "      <td>WEAPONS VIOLATION</td>\n",
              "    </tr>\n",
              "    <tr>\n",
              "      <th>12</th>\n",
              "      <td>12.0</td>\n",
              "      <td>0.001175</td>\n",
              "      <td>PROSTITUTION</td>\n",
              "    </tr>\n",
              "    <tr>\n",
              "      <th>13</th>\n",
              "      <td>13.0</td>\n",
              "      <td>0.000000</td>\n",
              "      <td>PUBLIC PEACE VIOLATION</td>\n",
              "    </tr>\n",
              "    <tr>\n",
              "      <th>14</th>\n",
              "      <td>14.0</td>\n",
              "      <td>0.000000</td>\n",
              "      <td>OFFENSE INVOLVING CHILDREN</td>\n",
              "    </tr>\n",
              "    <tr>\n",
              "      <th>15</th>\n",
              "      <td>15.0</td>\n",
              "      <td>0.000000</td>\n",
              "      <td>CRIM SEXUAL ASSAULT</td>\n",
              "    </tr>\n",
              "    <tr>\n",
              "      <th>16</th>\n",
              "      <td>16.0</td>\n",
              "      <td>0.000000</td>\n",
              "      <td>SEX OFFENSE</td>\n",
              "    </tr>\n",
              "    <tr>\n",
              "      <th>17</th>\n",
              "      <td>17.0</td>\n",
              "      <td>0.000000</td>\n",
              "      <td>INTERFERENCE WITH PUBLIC OFFICER</td>\n",
              "    </tr>\n",
              "    <tr>\n",
              "      <th>18</th>\n",
              "      <td>18.0</td>\n",
              "      <td>0.000000</td>\n",
              "      <td>GAMBLING</td>\n",
              "    </tr>\n",
              "    <tr>\n",
              "      <th>19</th>\n",
              "      <td>19.0</td>\n",
              "      <td>0.000000</td>\n",
              "      <td>LIQUOR LAW VIOLATION</td>\n",
              "    </tr>\n",
              "    <tr>\n",
              "      <th>20</th>\n",
              "      <td>20.0</td>\n",
              "      <td>0.000000</td>\n",
              "      <td>ARSON</td>\n",
              "    </tr>\n",
              "    <tr>\n",
              "      <th>21</th>\n",
              "      <td>21.0</td>\n",
              "      <td>0.000000</td>\n",
              "      <td>HOMICIDE</td>\n",
              "    </tr>\n",
              "    <tr>\n",
              "      <th>22</th>\n",
              "      <td>22.0</td>\n",
              "      <td>0.000000</td>\n",
              "      <td>KIDNAPPING</td>\n",
              "    </tr>\n",
              "    <tr>\n",
              "      <th>23</th>\n",
              "      <td>23.0</td>\n",
              "      <td>0.000000</td>\n",
              "      <td>INTIMIDATION</td>\n",
              "    </tr>\n",
              "    <tr>\n",
              "      <th>24</th>\n",
              "      <td>24.0</td>\n",
              "      <td>0.000000</td>\n",
              "      <td>STALKING</td>\n",
              "    </tr>\n",
              "    <tr>\n",
              "      <th>25</th>\n",
              "      <td>25.0</td>\n",
              "      <td>0.000000</td>\n",
              "      <td>CRIMINAL SEXUAL ASSAULT</td>\n",
              "    </tr>\n",
              "    <tr>\n",
              "      <th>26</th>\n",
              "      <td>26.0</td>\n",
              "      <td>0.000000</td>\n",
              "      <td>CONCEALED CARRY LICENSE VIOLATION</td>\n",
              "    </tr>\n",
              "    <tr>\n",
              "      <th>27</th>\n",
              "      <td>27.0</td>\n",
              "      <td>0.000000</td>\n",
              "      <td>OBSCENITY</td>\n",
              "    </tr>\n",
              "    <tr>\n",
              "      <th>28</th>\n",
              "      <td>28.0</td>\n",
              "      <td>0.000000</td>\n",
              "      <td>PUBLIC INDECENCY</td>\n",
              "    </tr>\n",
              "    <tr>\n",
              "      <th>29</th>\n",
              "      <td>29.0</td>\n",
              "      <td>0.000000</td>\n",
              "      <td>NON-CRIMINAL</td>\n",
              "    </tr>\n",
              "    <tr>\n",
              "      <th>30</th>\n",
              "      <td>30.0</td>\n",
              "      <td>0.000000</td>\n",
              "      <td>OTHER NARCOTIC VIOLATION</td>\n",
              "    </tr>\n",
              "    <tr>\n",
              "      <th>31</th>\n",
              "      <td>31.0</td>\n",
              "      <td>0.000000</td>\n",
              "      <td>HUMAN TRAFFICKING</td>\n",
              "    </tr>\n",
              "    <tr>\n",
              "      <th>32</th>\n",
              "      <td>32.0</td>\n",
              "      <td>0.000000</td>\n",
              "      <td>NON - CRIMINAL</td>\n",
              "    </tr>\n",
              "    <tr>\n",
              "      <th>33</th>\n",
              "      <td>33.0</td>\n",
              "      <td>0.000000</td>\n",
              "      <td>RITUALISM</td>\n",
              "    </tr>\n",
              "  </tbody>\n",
              "</table>\n",
              "</div>"
            ],
            "text/plain": [
              "    index  false_positive_rate                       Primary Type\n",
              "0     0.0             0.136515                              THEFT\n",
              "1     1.0             0.108553                            BATTERY\n",
              "2     2.0             0.052871                    CRIMINAL DAMAGE\n",
              "3     3.0             0.084646                          NARCOTICS\n",
              "4     4.0             0.017917                            ASSAULT\n",
              "5     5.0             0.011925                      OTHER OFFENSE\n",
              "6     6.0             0.069116                           BURGLARY\n",
              "7     7.0             0.033149                MOTOR VEHICLE THEFT\n",
              "8     8.0             0.043687                 DECEPTIVE PRACTICE\n",
              "9     9.0             0.018390                            ROBBERY\n",
              "10   10.0             0.006661                  CRIMINAL TRESPASS\n",
              "11   11.0             0.004339                  WEAPONS VIOLATION\n",
              "12   12.0             0.001175                       PROSTITUTION\n",
              "13   13.0             0.000000             PUBLIC PEACE VIOLATION\n",
              "14   14.0             0.000000         OFFENSE INVOLVING CHILDREN\n",
              "15   15.0             0.000000                CRIM SEXUAL ASSAULT\n",
              "16   16.0             0.000000                        SEX OFFENSE\n",
              "17   17.0             0.000000   INTERFERENCE WITH PUBLIC OFFICER\n",
              "18   18.0             0.000000                           GAMBLING\n",
              "19   19.0             0.000000               LIQUOR LAW VIOLATION\n",
              "20   20.0             0.000000                              ARSON\n",
              "21   21.0             0.000000                           HOMICIDE\n",
              "22   22.0             0.000000                         KIDNAPPING\n",
              "23   23.0             0.000000                       INTIMIDATION\n",
              "24   24.0             0.000000                           STALKING\n",
              "25   25.0             0.000000            CRIMINAL SEXUAL ASSAULT\n",
              "26   26.0             0.000000  CONCEALED CARRY LICENSE VIOLATION\n",
              "27   27.0             0.000000                          OBSCENITY\n",
              "28   28.0             0.000000                   PUBLIC INDECENCY\n",
              "29   29.0             0.000000                       NON-CRIMINAL\n",
              "30   30.0             0.000000           OTHER NARCOTIC VIOLATION\n",
              "31   31.0             0.000000                  HUMAN TRAFFICKING\n",
              "32   32.0             0.000000                     NON - CRIMINAL\n",
              "33   33.0             0.000000                          RITUALISM"
            ]
          },
          "metadata": {
            "tags": []
          },
          "execution_count": 202
        }
      ]
    },
    {
      "cell_type": "code",
      "metadata": {
        "colab": {
          "base_uri": "https://localhost:8080/",
          "height": 842
        },
        "id": "xllDOU7OQaSI",
        "outputId": "53a75109-85d5-4983-b768-6ad34343eefe"
      },
      "source": [
        "#Another shot : Random fores\n",
        "from pyspark.ml.classification import RandomForestClassifier\n",
        "from pyspark.ml import Pipeline\n",
        "\n",
        "rf = RandomForestClassifier(labelCol=\"primary_type_inx\", featuresCol=\"features\")\n",
        "modelrf = rf.fit(train)\n",
        "modelrf.summary.accuracy"
      ],
      "execution_count": 239,
      "outputs": [
        {
          "output_type": "error",
          "ename": "IllegalArgumentException",
          "evalue": "ignored",
          "traceback": [
            "\u001b[0;31m---------------------------------------------------------------------------\u001b[0m",
            "\u001b[0;31mPy4JJavaError\u001b[0m                             Traceback (most recent call last)",
            "\u001b[0;32m/content/spark-2.3.1-bin-hadoop2.7/python/pyspark/sql/utils.py\u001b[0m in \u001b[0;36mdeco\u001b[0;34m(*a, **kw)\u001b[0m\n\u001b[1;32m     62\u001b[0m         \u001b[0;32mtry\u001b[0m\u001b[0;34m:\u001b[0m\u001b[0;34m\u001b[0m\u001b[0;34m\u001b[0m\u001b[0m\n\u001b[0;32m---> 63\u001b[0;31m             \u001b[0;32mreturn\u001b[0m \u001b[0mf\u001b[0m\u001b[0;34m(\u001b[0m\u001b[0;34m*\u001b[0m\u001b[0ma\u001b[0m\u001b[0;34m,\u001b[0m \u001b[0;34m**\u001b[0m\u001b[0mkw\u001b[0m\u001b[0;34m)\u001b[0m\u001b[0;34m\u001b[0m\u001b[0;34m\u001b[0m\u001b[0m\n\u001b[0m\u001b[1;32m     64\u001b[0m         \u001b[0;32mexcept\u001b[0m \u001b[0mpy4j\u001b[0m\u001b[0;34m.\u001b[0m\u001b[0mprotocol\u001b[0m\u001b[0;34m.\u001b[0m\u001b[0mPy4JJavaError\u001b[0m \u001b[0;32mas\u001b[0m \u001b[0me\u001b[0m\u001b[0;34m:\u001b[0m\u001b[0;34m\u001b[0m\u001b[0;34m\u001b[0m\u001b[0m\n",
            "\u001b[0;32m/content/spark-2.3.1-bin-hadoop2.7/python/lib/py4j-0.10.7-src.zip/py4j/protocol.py\u001b[0m in \u001b[0;36mget_return_value\u001b[0;34m(answer, gateway_client, target_id, name)\u001b[0m\n\u001b[1;32m    327\u001b[0m                     \u001b[0;34m\"An error occurred while calling {0}{1}{2}.\\n\"\u001b[0m\u001b[0;34m.\u001b[0m\u001b[0;34m\u001b[0m\u001b[0;34m\u001b[0m\u001b[0m\n\u001b[0;32m--> 328\u001b[0;31m                     format(target_id, \".\", name), value)\n\u001b[0m\u001b[1;32m    329\u001b[0m             \u001b[0;32melse\u001b[0m\u001b[0;34m:\u001b[0m\u001b[0;34m\u001b[0m\u001b[0;34m\u001b[0m\u001b[0m\n",
            "\u001b[0;31mPy4JJavaError\u001b[0m: An error occurred while calling o2407.fit.\n: java.lang.IllegalArgumentException: requirement failed: DecisionTree requires maxBins (= 32) to be at least as large as the number of values in each categorical feature, but categorical feature 12 has 7428 values. Considering remove this and other categorical features with a large number of values, or add more training examples.\n\tat scala.Predef$.require(Predef.scala:224)\n\tat org.apache.spark.ml.tree.impl.DecisionTreeMetadata$.buildMetadata(DecisionTreeMetadata.scala:137)\n\tat org.apache.spark.ml.tree.impl.RandomForest$.run(RandomForest.scala:105)\n\tat org.apache.spark.ml.classification.RandomForestClassifier.train(RandomForestClassifier.scala:139)\n\tat org.apache.spark.ml.classification.RandomForestClassifier.train(RandomForestClassifier.scala:45)\n\tat org.apache.spark.ml.Predictor.fit(Predictor.scala:118)\n\tat sun.reflect.NativeMethodAccessorImpl.invoke0(Native Method)\n\tat sun.reflect.NativeMethodAccessorImpl.invoke(NativeMethodAccessorImpl.java:62)\n\tat sun.reflect.DelegatingMethodAccessorImpl.invoke(DelegatingMethodAccessorImpl.java:43)\n\tat java.lang.reflect.Method.invoke(Method.java:498)\n\tat py4j.reflection.MethodInvoker.invoke(MethodInvoker.java:244)\n\tat py4j.reflection.ReflectionEngine.invoke(ReflectionEngine.java:357)\n\tat py4j.Gateway.invoke(Gateway.java:282)\n\tat py4j.commands.AbstractCommand.invokeMethod(AbstractCommand.java:132)\n\tat py4j.commands.CallCommand.execute(CallCommand.java:79)\n\tat py4j.GatewayConnection.run(GatewayConnection.java:238)\n\tat java.lang.Thread.run(Thread.java:748)\n",
            "\nDuring handling of the above exception, another exception occurred:\n",
            "\u001b[0;31mIllegalArgumentException\u001b[0m                  Traceback (most recent call last)",
            "\u001b[0;32m<ipython-input-239-16a30e5b1dfd>\u001b[0m in \u001b[0;36m<module>\u001b[0;34m()\u001b[0m\n\u001b[1;32m      4\u001b[0m \u001b[0;34m\u001b[0m\u001b[0m\n\u001b[1;32m      5\u001b[0m \u001b[0mrf\u001b[0m \u001b[0;34m=\u001b[0m \u001b[0mRandomForestClassifier\u001b[0m\u001b[0;34m(\u001b[0m\u001b[0mlabelCol\u001b[0m\u001b[0;34m=\u001b[0m\u001b[0;34m\"primary_type_inx\"\u001b[0m\u001b[0;34m,\u001b[0m \u001b[0mfeaturesCol\u001b[0m\u001b[0;34m=\u001b[0m\u001b[0;34m\"features\"\u001b[0m\u001b[0;34m)\u001b[0m\u001b[0;34m\u001b[0m\u001b[0;34m\u001b[0m\u001b[0m\n\u001b[0;32m----> 6\u001b[0;31m \u001b[0mmodelrf\u001b[0m \u001b[0;34m=\u001b[0m \u001b[0mrf\u001b[0m\u001b[0;34m.\u001b[0m\u001b[0mfit\u001b[0m\u001b[0;34m(\u001b[0m\u001b[0mtrain\u001b[0m\u001b[0;34m)\u001b[0m\u001b[0;34m\u001b[0m\u001b[0;34m\u001b[0m\u001b[0m\n\u001b[0m\u001b[1;32m      7\u001b[0m \u001b[0mmodelrf\u001b[0m\u001b[0;34m.\u001b[0m\u001b[0msummary\u001b[0m\u001b[0;34m.\u001b[0m\u001b[0maccuracy\u001b[0m\u001b[0;34m\u001b[0m\u001b[0;34m\u001b[0m\u001b[0m\n",
            "\u001b[0;32m/content/spark-2.3.1-bin-hadoop2.7/python/pyspark/ml/base.py\u001b[0m in \u001b[0;36mfit\u001b[0;34m(self, dataset, params)\u001b[0m\n\u001b[1;32m    130\u001b[0m                 \u001b[0;32mreturn\u001b[0m \u001b[0mself\u001b[0m\u001b[0;34m.\u001b[0m\u001b[0mcopy\u001b[0m\u001b[0;34m(\u001b[0m\u001b[0mparams\u001b[0m\u001b[0;34m)\u001b[0m\u001b[0;34m.\u001b[0m\u001b[0m_fit\u001b[0m\u001b[0;34m(\u001b[0m\u001b[0mdataset\u001b[0m\u001b[0;34m)\u001b[0m\u001b[0;34m\u001b[0m\u001b[0;34m\u001b[0m\u001b[0m\n\u001b[1;32m    131\u001b[0m             \u001b[0;32melse\u001b[0m\u001b[0;34m:\u001b[0m\u001b[0;34m\u001b[0m\u001b[0;34m\u001b[0m\u001b[0m\n\u001b[0;32m--> 132\u001b[0;31m                 \u001b[0;32mreturn\u001b[0m \u001b[0mself\u001b[0m\u001b[0;34m.\u001b[0m\u001b[0m_fit\u001b[0m\u001b[0;34m(\u001b[0m\u001b[0mdataset\u001b[0m\u001b[0;34m)\u001b[0m\u001b[0;34m\u001b[0m\u001b[0;34m\u001b[0m\u001b[0m\n\u001b[0m\u001b[1;32m    133\u001b[0m         \u001b[0;32melse\u001b[0m\u001b[0;34m:\u001b[0m\u001b[0;34m\u001b[0m\u001b[0;34m\u001b[0m\u001b[0m\n\u001b[1;32m    134\u001b[0m             raise ValueError(\"Params must be either a param map or a list/tuple of param maps, \"\n",
            "\u001b[0;32m/content/spark-2.3.1-bin-hadoop2.7/python/pyspark/ml/wrapper.py\u001b[0m in \u001b[0;36m_fit\u001b[0;34m(self, dataset)\u001b[0m\n\u001b[1;32m    286\u001b[0m \u001b[0;34m\u001b[0m\u001b[0m\n\u001b[1;32m    287\u001b[0m     \u001b[0;32mdef\u001b[0m \u001b[0m_fit\u001b[0m\u001b[0;34m(\u001b[0m\u001b[0mself\u001b[0m\u001b[0;34m,\u001b[0m \u001b[0mdataset\u001b[0m\u001b[0;34m)\u001b[0m\u001b[0;34m:\u001b[0m\u001b[0;34m\u001b[0m\u001b[0;34m\u001b[0m\u001b[0m\n\u001b[0;32m--> 288\u001b[0;31m         \u001b[0mjava_model\u001b[0m \u001b[0;34m=\u001b[0m \u001b[0mself\u001b[0m\u001b[0;34m.\u001b[0m\u001b[0m_fit_java\u001b[0m\u001b[0;34m(\u001b[0m\u001b[0mdataset\u001b[0m\u001b[0;34m)\u001b[0m\u001b[0;34m\u001b[0m\u001b[0;34m\u001b[0m\u001b[0m\n\u001b[0m\u001b[1;32m    289\u001b[0m         \u001b[0mmodel\u001b[0m \u001b[0;34m=\u001b[0m \u001b[0mself\u001b[0m\u001b[0;34m.\u001b[0m\u001b[0m_create_model\u001b[0m\u001b[0;34m(\u001b[0m\u001b[0mjava_model\u001b[0m\u001b[0;34m)\u001b[0m\u001b[0;34m\u001b[0m\u001b[0;34m\u001b[0m\u001b[0m\n\u001b[1;32m    290\u001b[0m         \u001b[0;32mreturn\u001b[0m \u001b[0mself\u001b[0m\u001b[0;34m.\u001b[0m\u001b[0m_copyValues\u001b[0m\u001b[0;34m(\u001b[0m\u001b[0mmodel\u001b[0m\u001b[0;34m)\u001b[0m\u001b[0;34m\u001b[0m\u001b[0;34m\u001b[0m\u001b[0m\n",
            "\u001b[0;32m/content/spark-2.3.1-bin-hadoop2.7/python/pyspark/ml/wrapper.py\u001b[0m in \u001b[0;36m_fit_java\u001b[0;34m(self, dataset)\u001b[0m\n\u001b[1;32m    283\u001b[0m         \"\"\"\n\u001b[1;32m    284\u001b[0m         \u001b[0mself\u001b[0m\u001b[0;34m.\u001b[0m\u001b[0m_transfer_params_to_java\u001b[0m\u001b[0;34m(\u001b[0m\u001b[0;34m)\u001b[0m\u001b[0;34m\u001b[0m\u001b[0;34m\u001b[0m\u001b[0m\n\u001b[0;32m--> 285\u001b[0;31m         \u001b[0;32mreturn\u001b[0m \u001b[0mself\u001b[0m\u001b[0;34m.\u001b[0m\u001b[0m_java_obj\u001b[0m\u001b[0;34m.\u001b[0m\u001b[0mfit\u001b[0m\u001b[0;34m(\u001b[0m\u001b[0mdataset\u001b[0m\u001b[0;34m.\u001b[0m\u001b[0m_jdf\u001b[0m\u001b[0;34m)\u001b[0m\u001b[0;34m\u001b[0m\u001b[0;34m\u001b[0m\u001b[0m\n\u001b[0m\u001b[1;32m    286\u001b[0m \u001b[0;34m\u001b[0m\u001b[0m\n\u001b[1;32m    287\u001b[0m     \u001b[0;32mdef\u001b[0m \u001b[0m_fit\u001b[0m\u001b[0;34m(\u001b[0m\u001b[0mself\u001b[0m\u001b[0;34m,\u001b[0m \u001b[0mdataset\u001b[0m\u001b[0;34m)\u001b[0m\u001b[0;34m:\u001b[0m\u001b[0;34m\u001b[0m\u001b[0;34m\u001b[0m\u001b[0m\n",
            "\u001b[0;32m/content/spark-2.3.1-bin-hadoop2.7/python/lib/py4j-0.10.7-src.zip/py4j/java_gateway.py\u001b[0m in \u001b[0;36m__call__\u001b[0;34m(self, *args)\u001b[0m\n\u001b[1;32m   1255\u001b[0m         \u001b[0manswer\u001b[0m \u001b[0;34m=\u001b[0m \u001b[0mself\u001b[0m\u001b[0;34m.\u001b[0m\u001b[0mgateway_client\u001b[0m\u001b[0;34m.\u001b[0m\u001b[0msend_command\u001b[0m\u001b[0;34m(\u001b[0m\u001b[0mcommand\u001b[0m\u001b[0;34m)\u001b[0m\u001b[0;34m\u001b[0m\u001b[0;34m\u001b[0m\u001b[0m\n\u001b[1;32m   1256\u001b[0m         return_value = get_return_value(\n\u001b[0;32m-> 1257\u001b[0;31m             answer, self.gateway_client, self.target_id, self.name)\n\u001b[0m\u001b[1;32m   1258\u001b[0m \u001b[0;34m\u001b[0m\u001b[0m\n\u001b[1;32m   1259\u001b[0m         \u001b[0;32mfor\u001b[0m \u001b[0mtemp_arg\u001b[0m \u001b[0;32min\u001b[0m \u001b[0mtemp_args\u001b[0m\u001b[0;34m:\u001b[0m\u001b[0;34m\u001b[0m\u001b[0;34m\u001b[0m\u001b[0m\n",
            "\u001b[0;32m/content/spark-2.3.1-bin-hadoop2.7/python/pyspark/sql/utils.py\u001b[0m in \u001b[0;36mdeco\u001b[0;34m(*a, **kw)\u001b[0m\n\u001b[1;32m     77\u001b[0m                 \u001b[0;32mraise\u001b[0m \u001b[0mQueryExecutionException\u001b[0m\u001b[0;34m(\u001b[0m\u001b[0ms\u001b[0m\u001b[0;34m.\u001b[0m\u001b[0msplit\u001b[0m\u001b[0;34m(\u001b[0m\u001b[0;34m': '\u001b[0m\u001b[0;34m,\u001b[0m \u001b[0;36m1\u001b[0m\u001b[0;34m)\u001b[0m\u001b[0;34m[\u001b[0m\u001b[0;36m1\u001b[0m\u001b[0;34m]\u001b[0m\u001b[0;34m,\u001b[0m \u001b[0mstackTrace\u001b[0m\u001b[0;34m)\u001b[0m\u001b[0;34m\u001b[0m\u001b[0;34m\u001b[0m\u001b[0m\n\u001b[1;32m     78\u001b[0m             \u001b[0;32mif\u001b[0m \u001b[0ms\u001b[0m\u001b[0;34m.\u001b[0m\u001b[0mstartswith\u001b[0m\u001b[0;34m(\u001b[0m\u001b[0;34m'java.lang.IllegalArgumentException: '\u001b[0m\u001b[0;34m)\u001b[0m\u001b[0;34m:\u001b[0m\u001b[0;34m\u001b[0m\u001b[0;34m\u001b[0m\u001b[0m\n\u001b[0;32m---> 79\u001b[0;31m                 \u001b[0;32mraise\u001b[0m \u001b[0mIllegalArgumentException\u001b[0m\u001b[0;34m(\u001b[0m\u001b[0ms\u001b[0m\u001b[0;34m.\u001b[0m\u001b[0msplit\u001b[0m\u001b[0;34m(\u001b[0m\u001b[0;34m': '\u001b[0m\u001b[0;34m,\u001b[0m \u001b[0;36m1\u001b[0m\u001b[0;34m)\u001b[0m\u001b[0;34m[\u001b[0m\u001b[0;36m1\u001b[0m\u001b[0;34m]\u001b[0m\u001b[0;34m,\u001b[0m \u001b[0mstackTrace\u001b[0m\u001b[0;34m)\u001b[0m\u001b[0;34m\u001b[0m\u001b[0;34m\u001b[0m\u001b[0m\n\u001b[0m\u001b[1;32m     80\u001b[0m             \u001b[0;32mraise\u001b[0m\u001b[0;34m\u001b[0m\u001b[0;34m\u001b[0m\u001b[0m\n\u001b[1;32m     81\u001b[0m     \u001b[0;32mreturn\u001b[0m \u001b[0mdeco\u001b[0m\u001b[0;34m\u001b[0m\u001b[0;34m\u001b[0m\u001b[0m\n",
            "\u001b[0;31mIllegalArgumentException\u001b[0m: 'requirement failed: DecisionTree requires maxBins (= 32) to be at least as large as the number of values in each categorical feature, but categorical feature 12 has 7428 values. Considering remove this and other categorical features with a large number of values, or add more training examples.'"
          ]
        }
      ]
    },
    {
      "cell_type": "code",
      "metadata": {
        "colab": {
          "base_uri": "https://localhost:8080/",
          "height": 842
        },
        "id": "pT22R1G_Vej2",
        "outputId": "e1a34b0f-3045-4a03-b086-ac7686dfdca1"
      },
      "source": [
        "# Convert indexed labels back to original labels.\n",
        "labelConverter = IndexToString(inputCol=\"primary_type_inx\", outputCol=\"Primary Type\",\n",
        "                               labels=response_model.labels)\n",
        "\n",
        "# Train model.  This also runs the indexers.\n",
        "modelrf = rf.fit(train)\n",
        "modelrf.summary.accuracy\n",
        "# Make predictions.\n"
      ],
      "execution_count": 229,
      "outputs": [
        {
          "output_type": "error",
          "ename": "IllegalArgumentException",
          "evalue": "ignored",
          "traceback": [
            "\u001b[0;31m---------------------------------------------------------------------------\u001b[0m",
            "\u001b[0;31mPy4JJavaError\u001b[0m                             Traceback (most recent call last)",
            "\u001b[0;32m/content/spark-2.3.1-bin-hadoop2.7/python/pyspark/sql/utils.py\u001b[0m in \u001b[0;36mdeco\u001b[0;34m(*a, **kw)\u001b[0m\n\u001b[1;32m     62\u001b[0m         \u001b[0;32mtry\u001b[0m\u001b[0;34m:\u001b[0m\u001b[0;34m\u001b[0m\u001b[0;34m\u001b[0m\u001b[0m\n\u001b[0;32m---> 63\u001b[0;31m             \u001b[0;32mreturn\u001b[0m \u001b[0mf\u001b[0m\u001b[0;34m(\u001b[0m\u001b[0;34m*\u001b[0m\u001b[0ma\u001b[0m\u001b[0;34m,\u001b[0m \u001b[0;34m**\u001b[0m\u001b[0mkw\u001b[0m\u001b[0;34m)\u001b[0m\u001b[0;34m\u001b[0m\u001b[0;34m\u001b[0m\u001b[0m\n\u001b[0m\u001b[1;32m     64\u001b[0m         \u001b[0;32mexcept\u001b[0m \u001b[0mpy4j\u001b[0m\u001b[0;34m.\u001b[0m\u001b[0mprotocol\u001b[0m\u001b[0;34m.\u001b[0m\u001b[0mPy4JJavaError\u001b[0m \u001b[0;32mas\u001b[0m \u001b[0me\u001b[0m\u001b[0;34m:\u001b[0m\u001b[0;34m\u001b[0m\u001b[0;34m\u001b[0m\u001b[0m\n",
            "\u001b[0;32m/content/spark-2.3.1-bin-hadoop2.7/python/lib/py4j-0.10.7-src.zip/py4j/protocol.py\u001b[0m in \u001b[0;36mget_return_value\u001b[0;34m(answer, gateway_client, target_id, name)\u001b[0m\n\u001b[1;32m    327\u001b[0m                     \u001b[0;34m\"An error occurred while calling {0}{1}{2}.\\n\"\u001b[0m\u001b[0;34m.\u001b[0m\u001b[0;34m\u001b[0m\u001b[0;34m\u001b[0m\u001b[0m\n\u001b[0;32m--> 328\u001b[0;31m                     format(target_id, \".\", name), value)\n\u001b[0m\u001b[1;32m    329\u001b[0m             \u001b[0;32melse\u001b[0m\u001b[0;34m:\u001b[0m\u001b[0;34m\u001b[0m\u001b[0;34m\u001b[0m\u001b[0m\n",
            "\u001b[0;31mPy4JJavaError\u001b[0m: An error occurred while calling o1932.fit.\n: java.lang.IllegalArgumentException: requirement failed: DecisionTree requires maxBins (= 32) to be at least as large as the number of values in each categorical feature, but categorical feature 12 has 7428 values. Considering remove this and other categorical features with a large number of values, or add more training examples.\n\tat scala.Predef$.require(Predef.scala:224)\n\tat org.apache.spark.ml.tree.impl.DecisionTreeMetadata$.buildMetadata(DecisionTreeMetadata.scala:137)\n\tat org.apache.spark.ml.tree.impl.RandomForest$.run(RandomForest.scala:105)\n\tat org.apache.spark.ml.classification.RandomForestClassifier.train(RandomForestClassifier.scala:139)\n\tat org.apache.spark.ml.classification.RandomForestClassifier.train(RandomForestClassifier.scala:45)\n\tat org.apache.spark.ml.Predictor.fit(Predictor.scala:118)\n\tat sun.reflect.NativeMethodAccessorImpl.invoke0(Native Method)\n\tat sun.reflect.NativeMethodAccessorImpl.invoke(NativeMethodAccessorImpl.java:62)\n\tat sun.reflect.DelegatingMethodAccessorImpl.invoke(DelegatingMethodAccessorImpl.java:43)\n\tat java.lang.reflect.Method.invoke(Method.java:498)\n\tat py4j.reflection.MethodInvoker.invoke(MethodInvoker.java:244)\n\tat py4j.reflection.ReflectionEngine.invoke(ReflectionEngine.java:357)\n\tat py4j.Gateway.invoke(Gateway.java:282)\n\tat py4j.commands.AbstractCommand.invokeMethod(AbstractCommand.java:132)\n\tat py4j.commands.CallCommand.execute(CallCommand.java:79)\n\tat py4j.GatewayConnection.run(GatewayConnection.java:238)\n\tat java.lang.Thread.run(Thread.java:748)\n",
            "\nDuring handling of the above exception, another exception occurred:\n",
            "\u001b[0;31mIllegalArgumentException\u001b[0m                  Traceback (most recent call last)",
            "\u001b[0;32m<ipython-input-229-793c4165a576>\u001b[0m in \u001b[0;36m<module>\u001b[0;34m()\u001b[0m\n\u001b[1;32m      4\u001b[0m \u001b[0;34m\u001b[0m\u001b[0m\n\u001b[1;32m      5\u001b[0m \u001b[0;31m# Train model.  This also runs the indexers.\u001b[0m\u001b[0;34m\u001b[0m\u001b[0;34m\u001b[0m\u001b[0;34m\u001b[0m\u001b[0m\n\u001b[0;32m----> 6\u001b[0;31m \u001b[0mmodelrf\u001b[0m \u001b[0;34m=\u001b[0m \u001b[0mrf\u001b[0m\u001b[0;34m.\u001b[0m\u001b[0mfit\u001b[0m\u001b[0;34m(\u001b[0m\u001b[0mtrain\u001b[0m\u001b[0;34m)\u001b[0m\u001b[0;34m\u001b[0m\u001b[0;34m\u001b[0m\u001b[0m\n\u001b[0m\u001b[1;32m      7\u001b[0m \u001b[0mmodelrf\u001b[0m\u001b[0;34m.\u001b[0m\u001b[0msummary\u001b[0m\u001b[0;34m.\u001b[0m\u001b[0maccuracy\u001b[0m\u001b[0;34m\u001b[0m\u001b[0;34m\u001b[0m\u001b[0m\n\u001b[1;32m      8\u001b[0m \u001b[0;31m# Make predictions.\u001b[0m\u001b[0;34m\u001b[0m\u001b[0;34m\u001b[0m\u001b[0;34m\u001b[0m\u001b[0m\n",
            "\u001b[0;32m/content/spark-2.3.1-bin-hadoop2.7/python/pyspark/ml/base.py\u001b[0m in \u001b[0;36mfit\u001b[0;34m(self, dataset, params)\u001b[0m\n\u001b[1;32m    130\u001b[0m                 \u001b[0;32mreturn\u001b[0m \u001b[0mself\u001b[0m\u001b[0;34m.\u001b[0m\u001b[0mcopy\u001b[0m\u001b[0;34m(\u001b[0m\u001b[0mparams\u001b[0m\u001b[0;34m)\u001b[0m\u001b[0;34m.\u001b[0m\u001b[0m_fit\u001b[0m\u001b[0;34m(\u001b[0m\u001b[0mdataset\u001b[0m\u001b[0;34m)\u001b[0m\u001b[0;34m\u001b[0m\u001b[0;34m\u001b[0m\u001b[0m\n\u001b[1;32m    131\u001b[0m             \u001b[0;32melse\u001b[0m\u001b[0;34m:\u001b[0m\u001b[0;34m\u001b[0m\u001b[0;34m\u001b[0m\u001b[0m\n\u001b[0;32m--> 132\u001b[0;31m                 \u001b[0;32mreturn\u001b[0m \u001b[0mself\u001b[0m\u001b[0;34m.\u001b[0m\u001b[0m_fit\u001b[0m\u001b[0;34m(\u001b[0m\u001b[0mdataset\u001b[0m\u001b[0;34m)\u001b[0m\u001b[0;34m\u001b[0m\u001b[0;34m\u001b[0m\u001b[0m\n\u001b[0m\u001b[1;32m    133\u001b[0m         \u001b[0;32melse\u001b[0m\u001b[0;34m:\u001b[0m\u001b[0;34m\u001b[0m\u001b[0;34m\u001b[0m\u001b[0m\n\u001b[1;32m    134\u001b[0m             raise ValueError(\"Params must be either a param map or a list/tuple of param maps, \"\n",
            "\u001b[0;32m/content/spark-2.3.1-bin-hadoop2.7/python/pyspark/ml/wrapper.py\u001b[0m in \u001b[0;36m_fit\u001b[0;34m(self, dataset)\u001b[0m\n\u001b[1;32m    286\u001b[0m \u001b[0;34m\u001b[0m\u001b[0m\n\u001b[1;32m    287\u001b[0m     \u001b[0;32mdef\u001b[0m \u001b[0m_fit\u001b[0m\u001b[0;34m(\u001b[0m\u001b[0mself\u001b[0m\u001b[0;34m,\u001b[0m \u001b[0mdataset\u001b[0m\u001b[0;34m)\u001b[0m\u001b[0;34m:\u001b[0m\u001b[0;34m\u001b[0m\u001b[0;34m\u001b[0m\u001b[0m\n\u001b[0;32m--> 288\u001b[0;31m         \u001b[0mjava_model\u001b[0m \u001b[0;34m=\u001b[0m \u001b[0mself\u001b[0m\u001b[0;34m.\u001b[0m\u001b[0m_fit_java\u001b[0m\u001b[0;34m(\u001b[0m\u001b[0mdataset\u001b[0m\u001b[0;34m)\u001b[0m\u001b[0;34m\u001b[0m\u001b[0;34m\u001b[0m\u001b[0m\n\u001b[0m\u001b[1;32m    289\u001b[0m         \u001b[0mmodel\u001b[0m \u001b[0;34m=\u001b[0m \u001b[0mself\u001b[0m\u001b[0;34m.\u001b[0m\u001b[0m_create_model\u001b[0m\u001b[0;34m(\u001b[0m\u001b[0mjava_model\u001b[0m\u001b[0;34m)\u001b[0m\u001b[0;34m\u001b[0m\u001b[0;34m\u001b[0m\u001b[0m\n\u001b[1;32m    290\u001b[0m         \u001b[0;32mreturn\u001b[0m \u001b[0mself\u001b[0m\u001b[0;34m.\u001b[0m\u001b[0m_copyValues\u001b[0m\u001b[0;34m(\u001b[0m\u001b[0mmodel\u001b[0m\u001b[0;34m)\u001b[0m\u001b[0;34m\u001b[0m\u001b[0;34m\u001b[0m\u001b[0m\n",
            "\u001b[0;32m/content/spark-2.3.1-bin-hadoop2.7/python/pyspark/ml/wrapper.py\u001b[0m in \u001b[0;36m_fit_java\u001b[0;34m(self, dataset)\u001b[0m\n\u001b[1;32m    283\u001b[0m         \"\"\"\n\u001b[1;32m    284\u001b[0m         \u001b[0mself\u001b[0m\u001b[0;34m.\u001b[0m\u001b[0m_transfer_params_to_java\u001b[0m\u001b[0;34m(\u001b[0m\u001b[0;34m)\u001b[0m\u001b[0;34m\u001b[0m\u001b[0;34m\u001b[0m\u001b[0m\n\u001b[0;32m--> 285\u001b[0;31m         \u001b[0;32mreturn\u001b[0m \u001b[0mself\u001b[0m\u001b[0;34m.\u001b[0m\u001b[0m_java_obj\u001b[0m\u001b[0;34m.\u001b[0m\u001b[0mfit\u001b[0m\u001b[0;34m(\u001b[0m\u001b[0mdataset\u001b[0m\u001b[0;34m.\u001b[0m\u001b[0m_jdf\u001b[0m\u001b[0;34m)\u001b[0m\u001b[0;34m\u001b[0m\u001b[0;34m\u001b[0m\u001b[0m\n\u001b[0m\u001b[1;32m    286\u001b[0m \u001b[0;34m\u001b[0m\u001b[0m\n\u001b[1;32m    287\u001b[0m     \u001b[0;32mdef\u001b[0m \u001b[0m_fit\u001b[0m\u001b[0;34m(\u001b[0m\u001b[0mself\u001b[0m\u001b[0;34m,\u001b[0m \u001b[0mdataset\u001b[0m\u001b[0;34m)\u001b[0m\u001b[0;34m:\u001b[0m\u001b[0;34m\u001b[0m\u001b[0;34m\u001b[0m\u001b[0m\n",
            "\u001b[0;32m/content/spark-2.3.1-bin-hadoop2.7/python/lib/py4j-0.10.7-src.zip/py4j/java_gateway.py\u001b[0m in \u001b[0;36m__call__\u001b[0;34m(self, *args)\u001b[0m\n\u001b[1;32m   1255\u001b[0m         \u001b[0manswer\u001b[0m \u001b[0;34m=\u001b[0m \u001b[0mself\u001b[0m\u001b[0;34m.\u001b[0m\u001b[0mgateway_client\u001b[0m\u001b[0;34m.\u001b[0m\u001b[0msend_command\u001b[0m\u001b[0;34m(\u001b[0m\u001b[0mcommand\u001b[0m\u001b[0;34m)\u001b[0m\u001b[0;34m\u001b[0m\u001b[0;34m\u001b[0m\u001b[0m\n\u001b[1;32m   1256\u001b[0m         return_value = get_return_value(\n\u001b[0;32m-> 1257\u001b[0;31m             answer, self.gateway_client, self.target_id, self.name)\n\u001b[0m\u001b[1;32m   1258\u001b[0m \u001b[0;34m\u001b[0m\u001b[0m\n\u001b[1;32m   1259\u001b[0m         \u001b[0;32mfor\u001b[0m \u001b[0mtemp_arg\u001b[0m \u001b[0;32min\u001b[0m \u001b[0mtemp_args\u001b[0m\u001b[0;34m:\u001b[0m\u001b[0;34m\u001b[0m\u001b[0;34m\u001b[0m\u001b[0m\n",
            "\u001b[0;32m/content/spark-2.3.1-bin-hadoop2.7/python/pyspark/sql/utils.py\u001b[0m in \u001b[0;36mdeco\u001b[0;34m(*a, **kw)\u001b[0m\n\u001b[1;32m     77\u001b[0m                 \u001b[0;32mraise\u001b[0m \u001b[0mQueryExecutionException\u001b[0m\u001b[0;34m(\u001b[0m\u001b[0ms\u001b[0m\u001b[0;34m.\u001b[0m\u001b[0msplit\u001b[0m\u001b[0;34m(\u001b[0m\u001b[0;34m': '\u001b[0m\u001b[0;34m,\u001b[0m \u001b[0;36m1\u001b[0m\u001b[0;34m)\u001b[0m\u001b[0;34m[\u001b[0m\u001b[0;36m1\u001b[0m\u001b[0;34m]\u001b[0m\u001b[0;34m,\u001b[0m \u001b[0mstackTrace\u001b[0m\u001b[0;34m)\u001b[0m\u001b[0;34m\u001b[0m\u001b[0;34m\u001b[0m\u001b[0m\n\u001b[1;32m     78\u001b[0m             \u001b[0;32mif\u001b[0m \u001b[0ms\u001b[0m\u001b[0;34m.\u001b[0m\u001b[0mstartswith\u001b[0m\u001b[0;34m(\u001b[0m\u001b[0;34m'java.lang.IllegalArgumentException: '\u001b[0m\u001b[0;34m)\u001b[0m\u001b[0;34m:\u001b[0m\u001b[0;34m\u001b[0m\u001b[0;34m\u001b[0m\u001b[0m\n\u001b[0;32m---> 79\u001b[0;31m                 \u001b[0;32mraise\u001b[0m \u001b[0mIllegalArgumentException\u001b[0m\u001b[0;34m(\u001b[0m\u001b[0ms\u001b[0m\u001b[0;34m.\u001b[0m\u001b[0msplit\u001b[0m\u001b[0;34m(\u001b[0m\u001b[0;34m': '\u001b[0m\u001b[0;34m,\u001b[0m \u001b[0;36m1\u001b[0m\u001b[0;34m)\u001b[0m\u001b[0;34m[\u001b[0m\u001b[0;36m1\u001b[0m\u001b[0;34m]\u001b[0m\u001b[0;34m,\u001b[0m \u001b[0mstackTrace\u001b[0m\u001b[0;34m)\u001b[0m\u001b[0;34m\u001b[0m\u001b[0;34m\u001b[0m\u001b[0m\n\u001b[0m\u001b[1;32m     80\u001b[0m             \u001b[0;32mraise\u001b[0m\u001b[0;34m\u001b[0m\u001b[0;34m\u001b[0m\u001b[0m\n\u001b[1;32m     81\u001b[0m     \u001b[0;32mreturn\u001b[0m \u001b[0mdeco\u001b[0m\u001b[0;34m\u001b[0m\u001b[0;34m\u001b[0m\u001b[0m\n",
            "\u001b[0;31mIllegalArgumentException\u001b[0m: 'requirement failed: DecisionTree requires maxBins (= 32) to be at least as large as the number of values in each categorical feature, but categorical feature 12 has 7428 values. Considering remove this and other categorical features with a large number of values, or add more training examples.'"
          ]
        }
      ]
    },
    {
      "cell_type": "code",
      "metadata": {
        "id": "_61_z1PIWEEJ"
      },
      "source": [
        "predictions = modelrf.transform(test)"
      ],
      "execution_count": null,
      "outputs": []
    }
  ]
}